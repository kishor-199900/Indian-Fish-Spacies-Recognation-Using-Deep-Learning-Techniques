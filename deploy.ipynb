{
 "cells": [
  {
   "cell_type": "markdown",
   "id": "1654b743",
   "metadata": {},
   "source": [
    "# To open the webpage rune the following camand"
   ]
  },
  {
   "cell_type": "code",
   "execution_count": 1,
   "id": "4ba738ce",
   "metadata": {},
   "outputs": [
    {
     "name": "stdout",
     "output_type": "stream",
     "text": [
      "^C\n"
     ]
    }
   ],
   "source": [
    "!streamlit run deplo1.py --server.port 75"
   ]
  },
  {
   "cell_type": "code",
   "execution_count": null,
   "id": "8fc797e6",
   "metadata": {},
   "outputs": [],
   "source": []
  },
  {
   "cell_type": "code",
   "execution_count": null,
   "id": "379cdc4c",
   "metadata": {},
   "outputs": [],
   "source": []
  }
 ],
 "metadata": {
  "kernelspec": {
   "display_name": "Python 3 (ipykernel)",
   "language": "python",
   "name": "python3"
  },
  "language_info": {
   "codemirror_mode": {
    "name": "ipython",
    "version": 3
   },
   "file_extension": ".py",
   "mimetype": "text/x-python",
   "name": "python",
   "nbconvert_exporter": "python",
   "pygments_lexer": "ipython3",
   "version": "3.9.12"
  }
 },
 "nbformat": 4,
 "nbformat_minor": 5
}
