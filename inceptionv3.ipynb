{
 "cells": [
  {
   "cell_type": "code",
   "execution_count": 1,
   "id": "5f949f1f",
   "metadata": {},
   "outputs": [],
   "source": [
    "import numpy as np # linear algebra\n",
    "import pandas as pd # data processing, CSV file I/O (e.g. pd.read_csv)\n",
    "import os\n",
    "import sys\n",
    "import shutil   \n",
    "import matplotlib.pyplot as plt\n",
    "from keras import backend as K\n",
    "from keras.models import Sequential\n",
    "from keras import optimizers\n",
    "from keras.layers.core import Dense, Dropout, Activation, Flatten\n",
    "from keras.layers.convolutional import Convolution2D, MaxPooling2D\n",
    "from keras.layers import Dense, GlobalAveragePooling2D, Dropout\n",
    "from keras.preprocessing.image import ImageDataGenerator\n",
    "from keras.callbacks import History \n",
    "from sklearn.metrics import classification_report, confusion_matrix,plot_confusion_matrix,ConfusionMatrixDisplay,accuracy_score\n",
    "import keras\n",
    "from keras.layers.convolutional import Conv2D\n",
    "from keras.layers import Dense\n",
    "from keras.layers.convolutional import MaxPooling2D\n",
    "from keras.layers import Flatten\n",
    "# from keras.layers import LeakyReLU\n",
    "# from keras.layers.normalization import batch_normalization\n",
    "keras.layers.BatchNormalization(axis=-1, momentum=0.99, epsilon=0.001, center=True, \n",
    "                                scale=True, beta_initializer='zeros', gamma_initializer='ones',\n",
    "                                moving_mean_initializer='zeros', moving_variance_initializer='ones', \n",
    "                                beta_regularizer=None, gamma_regularizer=None, beta_constraint=None, \n",
    "                                gamma_constraint=None)\n",
    "\n",
    "import warnings\n",
    "warnings.filterwarnings('ignore')\n",
    "# import os\n",
    "# for dirname, _, filenames in os.walk('/kaggle/input'):\n",
    "#     for filename in filenames:\n",
    "#         print(os.path.join(dirname, filename))"
   ]
  },
  {
   "cell_type": "code",
   "execution_count": 2,
   "id": "b2b4034e",
   "metadata": {},
   "outputs": [],
   "source": [
    "train = 'c:/Users/jadha/Data/MTP_data_underwater/Train'\n",
    "val = 'c:/Users/jadha/Data/MTP_data_underwater/Val'\n",
    "test = 'c:/Users/jadha/Data/MTP_data_underwater/Test'"
   ]
  },
  {
   "cell_type": "code",
   "execution_count": 3,
   "id": "df151914",
   "metadata": {},
   "outputs": [
    {
     "name": "stdout",
     "output_type": "stream",
     "text": [
      "Number of Training samples   :  459\n",
      "Number of Validation samples :  90\n",
      "Number of Test samples :  53\n"
     ]
    }
   ],
   "source": [
    "# Total number of training images\n",
    "num_of_train_samples = 0\n",
    "for train_dataset in os.listdir(train):\n",
    "    in_folder = train + \"/\" + train_dataset \n",
    "    in_folder_list = os.listdir(in_folder)\n",
    "    num_of_train_samples = num_of_train_samples + len(in_folder_list)\n",
    "print(\"Number of Training samples   : \",num_of_train_samples)\n",
    "\n",
    "# Total number of validation images\n",
    "num_of_validation_samples = 0\n",
    "for validation_dataset in os.listdir(val):\n",
    "    in_folder_val = val + \"/\" + validation_dataset\n",
    "    in_folder_val_list = os.listdir(in_folder_val)\n",
    "    num_of_validation_samples = num_of_validation_samples + len(in_folder_val_list)\n",
    "print(\"Number of Validation samples : \", num_of_validation_samples)\n",
    "\n",
    "# Total number of testing images\n",
    "num_of_test_samples = 0\n",
    "for testing_dataset in os.listdir(test):\n",
    "    in_folder_test = test + \"/\" + testing_dataset\n",
    "    in_folder_test_list = os.listdir(in_folder_test)\n",
    "    num_of_test_samples = num_of_test_samples + len(in_folder_test_list)\n",
    "print(\"Number of Test samples : \", num_of_test_samples)"
   ]
  },
  {
   "cell_type": "code",
   "execution_count": 4,
   "id": "caf56014",
   "metadata": {},
   "outputs": [
    {
     "name": "stdout",
     "output_type": "stream",
     "text": [
      "Catla\n",
      "Mrigal\n",
      "Rohu\n",
      "Tilapia\n",
      "Tuna\n"
     ]
    }
   ],
   "source": [
    "for validation_dataset in os.listdir(train):\n",
    "    print(validation_dataset)"
   ]
  },
  {
   "cell_type": "code",
   "execution_count": 5,
   "id": "5af5c9e8",
   "metadata": {},
   "outputs": [],
   "source": [
    "train_datagen = ImageDataGenerator(rescale=1. / 255,\n",
    "                                   rotation_range=40,\n",
    "                                   shear_range=0.2,\n",
    "                                   zoom_range=0.2,\n",
    "                                   horizontal_flip=True,\n",
    "                                   fill_mode='nearest')\n",
    "\n",
    "val_datagen = ImageDataGenerator(rescale=1. / 255)\n",
    "\n",
    "test_datagen=ImageDataGenerator(rescale=1./255)"
   ]
  },
  {
   "cell_type": "code",
   "execution_count": 6,
   "id": "2c9a2cba",
   "metadata": {},
   "outputs": [],
   "source": [
    "batch_size = 64\n",
    "learning_rate = 0.01\n",
    "epoch = 100\n",
    "\n",
    "# Defining image width and height respectively\n",
    "img_rows = 256\n",
    "img_cols = 256"
   ]
  },
  {
   "cell_type": "code",
   "execution_count": 7,
   "id": "cda30a4f",
   "metadata": {},
   "outputs": [
    {
     "name": "stdout",
     "output_type": "stream",
     "text": [
      "Found 459 images belonging to 5 classes.\n",
      "Found 90 images belonging to 5 classes.\n",
      "Found 53 images belonging to 5 classes.\n"
     ]
    }
   ],
   "source": [
    "train_generator = train_datagen.flow_from_directory(train,\n",
    "                                                    target_size = (img_rows, img_cols),\n",
    "                                                    batch_size = batch_size,\n",
    "                                                    class_mode = 'categorical')\n",
    "\n",
    "validation_generator = val_datagen.flow_from_directory(val,\n",
    "                                                        target_size = (img_rows, img_cols),\n",
    "                                                        batch_size = batch_size,\n",
    "                                                        shuffle = False, class_mode='categorical')\n",
    "\n",
    "test_generator = test_datagen.flow_from_directory(test,\n",
    "                                                        target_size = (img_rows, img_cols),\n",
    "                                                        batch_size = batch_size,\n",
    "                                                        shuffle = False, class_mode='categorical')"
   ]
  },
  {
   "cell_type": "code",
   "execution_count": 8,
   "id": "c7cb4cbe",
   "metadata": {},
   "outputs": [
    {
     "data": {
      "text/plain": [
       "array([[[0.34504664, 0.30190936, 0.28622308],\n",
       "        [0.35873356, 0.31559628, 0.29991   ],\n",
       "        [0.35783672, 0.31469947, 0.2990132 ],\n",
       "        ...,\n",
       "        [0.29151747, 0.27190962, 0.26014492],\n",
       "        [0.29458782, 0.27497998, 0.26321527],\n",
       "        [0.29570803, 0.2761002 , 0.26433548]],\n",
       "\n",
       "       [[0.34384736, 0.3007101 , 0.28502384],\n",
       "        [0.3539366 , 0.31079936, 0.2951131 ],\n",
       "        [0.35903594, 0.3158987 , 0.3002124 ],\n",
       "        ...,\n",
       "        [0.2972051 , 0.27759725, 0.26583254],\n",
       "        [0.2983253 , 0.27871746, 0.26695275],\n",
       "        [0.2994455 , 0.27983764, 0.26807293]],\n",
       "\n",
       "       [[0.34264815, 0.2995109 , 0.28382462],\n",
       "        [0.34913966, 0.3060024 , 0.29031613],\n",
       "        [0.36023518, 0.31709793, 0.30141166],\n",
       "        ...,\n",
       "        [0.3009426 , 0.28133476, 0.26957005],\n",
       "        [0.30206278, 0.2824549 , 0.2706902 ],\n",
       "        [0.30318296, 0.28357512, 0.2718104 ]],\n",
       "\n",
       "       ...,\n",
       "\n",
       "       [[0.41543123, 0.38798025, 0.3566077 ],\n",
       "        [0.41207066, 0.38461968, 0.35324714],\n",
       "        [0.41176474, 0.38431376, 0.3529412 ],\n",
       "        ...,\n",
       "        [0.34117648, 0.46274513, 0.5411765 ],\n",
       "        [0.33826533, 0.46565628, 0.5411765 ],\n",
       "        [0.3397048 , 0.4691166 , 0.5436264 ]],\n",
       "\n",
       "       [[0.41176474, 0.38431376, 0.3529412 ],\n",
       "        [0.41176474, 0.38431376, 0.3529412 ],\n",
       "        [0.41093057, 0.3834796 , 0.35210705],\n",
       "        ...,\n",
       "        [0.34117648, 0.46274513, 0.5411765 ],\n",
       "        [0.33946455, 0.46445706, 0.5411765 ],\n",
       "        [0.3385056 , 0.46791738, 0.5424272 ]],\n",
       "\n",
       "       [[0.4094335 , 0.38198254, 0.35061   ],\n",
       "        [0.4083133 , 0.38086233, 0.34948978],\n",
       "        [0.40849322, 0.37974212, 0.34901962],\n",
       "        ...,\n",
       "        [0.34117648, 0.46274513, 0.5411765 ],\n",
       "        [0.3406638 , 0.46325782, 0.5411765 ],\n",
       "        [0.33730635, 0.46671814, 0.54122794]]], dtype=float32)"
      ]
     },
     "execution_count": 8,
     "metadata": {},
     "output_type": "execute_result"
    }
   ],
   "source": [
    "px=train_generator[4][0][7]\n",
    "px"
   ]
  },
  {
   "cell_type": "code",
   "execution_count": 9,
   "id": "62724c41",
   "metadata": {},
   "outputs": [
    {
     "data": {
      "text/plain": [
       "(256, 256, 3)"
      ]
     },
     "execution_count": 9,
     "metadata": {},
     "output_type": "execute_result"
    }
   ],
   "source": [
    "px.shape"
   ]
  },
  {
   "cell_type": "code",
   "execution_count": 10,
   "id": "0e8913a7",
   "metadata": {},
   "outputs": [
    {
     "data": {
      "text/plain": [
       "<matplotlib.image.AxesImage at 0x2b1a44da730>"
      ]
     },
     "execution_count": 10,
     "metadata": {},
     "output_type": "execute_result"
    },
    {
     "data": {
      "image/png": "[encoded data removed]",
      "text/plain": [
       "<Figure size 432x288 with 1 Axes>"
      ]
     },
     "metadata": {
      "needs_background": "light"
     },
     "output_type": "display_data"
    }
   ],
   "source": [
    "plt.imshow(px)"
   ]
  },
  {
   "cell_type": "code",
   "execution_count": 11,
   "id": "0f0fefe0",
   "metadata": {},
   "outputs": [
    {
     "data": {
      "text/plain": [
       "'float32'"
      ]
     },
     "execution_count": 11,
     "metadata": {},
     "output_type": "execute_result"
    }
   ],
   "source": [
    "test_generator.dtype"
   ]
  },
  {
   "cell_type": "code",
   "execution_count": 12,
   "id": "8ec67f0e",
   "metadata": {},
   "outputs": [
    {
     "data": {
      "text/plain": [
       "array([[1., 0., 0., 0., 0.],\n",
       "       [1., 0., 0., 0., 0.],\n",
       "       [1., 0., 0., 0., 0.],\n",
       "       [1., 0., 0., 0., 0.],\n",
       "       [1., 0., 0., 0., 0.],\n",
       "       [1., 0., 0., 0., 0.],\n",
       "       [1., 0., 0., 0., 0.],\n",
       "       [1., 0., 0., 0., 0.],\n",
       "       [1., 0., 0., 0., 0.],\n",
       "       [1., 0., 0., 0., 0.],\n",
       "       [1., 0., 0., 0., 0.],\n",
       "       [0., 1., 0., 0., 0.],\n",
       "       [0., 1., 0., 0., 0.],\n",
       "       [0., 1., 0., 0., 0.],\n",
       "       [0., 1., 0., 0., 0.],\n",
       "       [0., 1., 0., 0., 0.],\n",
       "       [0., 1., 0., 0., 0.],\n",
       "       [0., 1., 0., 0., 0.],\n",
       "       [0., 1., 0., 0., 0.],\n",
       "       [0., 1., 0., 0., 0.],\n",
       "       [0., 1., 0., 0., 0.],\n",
       "       [0., 1., 0., 0., 0.],\n",
       "       [0., 1., 0., 0., 0.],\n",
       "       [0., 0., 1., 0., 0.],\n",
       "       [0., 0., 1., 0., 0.],\n",
       "       [0., 0., 1., 0., 0.],\n",
       "       [0., 0., 1., 0., 0.],\n",
       "       [0., 0., 1., 0., 0.],\n",
       "       [0., 0., 1., 0., 0.],\n",
       "       [0., 0., 1., 0., 0.],\n",
       "       [0., 0., 1., 0., 0.],\n",
       "       [0., 0., 1., 0., 0.],\n",
       "       [0., 0., 1., 0., 0.],\n",
       "       [0., 0., 0., 1., 0.],\n",
       "       [0., 0., 0., 1., 0.],\n",
       "       [0., 0., 0., 1., 0.],\n",
       "       [0., 0., 0., 1., 0.],\n",
       "       [0., 0., 0., 1., 0.],\n",
       "       [0., 0., 0., 1., 0.],\n",
       "       [0., 0., 0., 1., 0.],\n",
       "       [0., 0., 0., 1., 0.],\n",
       "       [0., 0., 0., 1., 0.],\n",
       "       [0., 0., 0., 1., 0.],\n",
       "       [0., 0., 0., 1., 0.],\n",
       "       [0., 0., 0., 1., 0.],\n",
       "       [0., 0., 0., 0., 1.],\n",
       "       [0., 0., 0., 0., 1.],\n",
       "       [0., 0., 0., 0., 1.],\n",
       "       [0., 0., 0., 0., 1.],\n",
       "       [0., 0., 0., 0., 1.],\n",
       "       [0., 0., 0., 0., 1.],\n",
       "       [0., 0., 0., 0., 1.],\n",
       "       [0., 0., 0., 0., 1.]], dtype=float32)"
      ]
     },
     "execution_count": 12,
     "metadata": {},
     "output_type": "execute_result"
    }
   ],
   "source": [
    "# for i in test_generator:\n",
    "#         print(i)\n",
    "test_generator[0][-1]"
   ]
  },
  {
   "cell_type": "code",
   "execution_count": 13,
   "id": "19169c1b",
   "metadata": {},
   "outputs": [
    {
     "name": "stdout",
     "output_type": "stream",
     "text": [
      "Steps per epoch:  7\n"
     ]
    }
   ],
   "source": [
    "steps_per_epoch_inc = num_of_train_samples // batch_size\n",
    "print(\"Steps per epoch: \",steps_per_epoch_inc)"
   ]
  },
  {
   "cell_type": "markdown",
   "id": "dd70c06e",
   "metadata": {},
   "source": [
    "# Create model\n",
    "add new classification layer"
   ]
  },
  {
   "cell_type": "code",
   "execution_count": 14,
   "id": "af900c51",
   "metadata": {},
   "outputs": [
    {
     "name": "stdout",
     "output_type": "stream",
     "text": [
      "Model: \"sequential\"\n",
      "_________________________________________________________________\n",
      " Layer (type)                Output Shape              Param #   \n",
      "=================================================================\n",
      " inception_v3 (Functional)   (None, 2048)              21802784  \n",
      "                                                                 \n",
      " dense (Dense)               (None, 5)                 10245     \n",
      "                                                                 \n",
      "=================================================================\n",
      "Total params: 21,813,029\n",
      "Trainable params: 10,245\n",
      "Non-trainable params: 21,802,784\n",
      "_________________________________________________________________\n"
     ]
    }
   ],
   "source": [
    "from keras.applications import InceptionV3\n",
    "# The sequential API allows us to create model layer by layer\n",
    "inc_model = Sequential()\n",
    "inc_model.add(InceptionV3(include_top=False, \n",
    "                      pooling='max',\n",
    "                      weights='imagenet'))\n",
    "# inc_model.add(Dense(32, activation=\"relu\"))\n",
    "\n",
    "inc_model.add(Dense(5, activation=\"softmax\"))\n",
    "\n",
    "# Summary: to find the number of parameters\n",
    "inc_model.layers[0].trainable=False\n",
    "inc_model.summary()\n",
    "\n",
    "adam = optimizers.Adam(lr=learning_rate, beta_1=0.9, beta_2=0.999, epsilon=1e-08, decay=0.00001)\n",
    "inc_model.compile(loss=\"categorical_crossentropy\",\n",
    "              optimizer=adam,\n",
    "              metrics=[\"accuracy\"])\n"
   ]
  },
  {
   "cell_type": "code",
   "execution_count": 15,
   "id": "6160a9c2",
   "metadata": {},
   "outputs": [],
   "source": [
    "from keras.callbacks import LearningRateScheduler\n",
    "\n",
    "# Define a learning rate schedule function\n",
    "def lr_schedule(epoch):\n",
    "    if epoch < 15:\n",
    "        return 0.01\n",
    "    if epoch < 40:\n",
    "        return 0.001\n",
    "    elif epoch < 80:\n",
    "        return 0.0001\n",
    "    else:\n",
    "        return 0.00001\n",
    "\n",
    "# Create a LearningRateScheduler callback using the lr_schedule function\n",
    "lr_schedule_callback = LearningRateScheduler(lr_schedule)"
   ]
  },
  {
   "cell_type": "code",
   "execution_count": 16,
   "id": "fef4e879",
   "metadata": {},
   "outputs": [],
   "source": [
    "# from keras.callbacks import TensorBoard\n",
    "# from calendar import datetime\n",
    "# # Create a TensorBoard callback to log data for visualization\n",
    "# log_dir = \"logs/fit/\" + datetime.datetime.now().strftime(\"%Y%m%d-%H%M%S\")\n",
    "# tensorboard_callback = TensorBoard(log_dir=log_dir, histogram_freq=1)"
   ]
  },
  {
   "cell_type": "code",
   "execution_count": 17,
   "id": "28305e07",
   "metadata": {},
   "outputs": [
    {
     "name": "stdout",
     "output_type": "stream",
     "text": [
      "Epoch 1/100\n",
      "8/8 [==============================] - 36s 4s/step - loss: 18.6167 - accuracy: 0.3224 - val_loss: 4.9593 - val_accuracy: 0.3333 - lr: 0.0100\n",
      "Epoch 2/100\n",
      "8/8 [==============================] - 24s 3s/step - loss: 6.6705 - accuracy: 0.4118 - val_loss: 4.7855 - val_accuracy: 0.4889 - lr: 0.0100\n",
      "Epoch 3/100\n",
      "8/8 [==============================] - 23s 3s/step - loss: 4.9986 - accuracy: 0.5120 - val_loss: 3.8113 - val_accuracy: 0.5556 - lr: 0.0100\n",
      "Epoch 4/100\n",
      "8/8 [==============================] - 25s 3s/step - loss: 2.9088 - accuracy: 0.6427 - val_loss: 3.6107 - val_accuracy: 0.5333 - lr: 0.0100\n",
      "Epoch 5/100\n",
      "8/8 [==============================] - 30s 4s/step - loss: 3.0169 - accuracy: 0.6601 - val_loss: 2.2692 - val_accuracy: 0.5778 - lr: 0.0100\n",
      "Epoch 6/100\n",
      "8/8 [==============================] - 51s 6s/step - loss: 2.1292 - accuracy: 0.6688 - val_loss: 2.4824 - val_accuracy: 0.5889 - lr: 0.0100\n",
      "Epoch 7/100\n",
      "8/8 [==============================] - 51s 6s/step - loss: 1.4161 - accuracy: 0.7190 - val_loss: 2.5441 - val_accuracy: 0.6444 - lr: 0.0100\n",
      "Epoch 8/100\n",
      "8/8 [==============================] - 41s 6s/step - loss: 1.7489 - accuracy: 0.7429 - val_loss: 2.0182 - val_accuracy: 0.6333 - lr: 0.0100\n",
      "Epoch 9/100\n",
      "8/8 [==============================] - 24s 3s/step - loss: 1.3142 - accuracy: 0.7669 - val_loss: 1.2601 - val_accuracy: 0.7222 - lr: 0.0100\n",
      "Epoch 10/100\n",
      "8/8 [==============================] - 24s 3s/step - loss: 1.3316 - accuracy: 0.7734 - val_loss: 1.3146 - val_accuracy: 0.7111 - lr: 0.0100\n",
      "Epoch 11/100\n",
      "8/8 [==============================] - 24s 3s/step - loss: 0.9536 - accuracy: 0.7952 - val_loss: 0.7318 - val_accuracy: 0.7667 - lr: 0.0100\n",
      "Epoch 12/100\n",
      "8/8 [==============================] - 25s 3s/step - loss: 0.7802 - accuracy: 0.8017 - val_loss: 0.8006 - val_accuracy: 0.8000 - lr: 0.0100\n",
      "Epoch 13/100\n",
      "8/8 [==============================] - 25s 3s/step - loss: 0.6005 - accuracy: 0.8301 - val_loss: 1.1569 - val_accuracy: 0.6889 - lr: 0.0100\n",
      "Epoch 14/100\n",
      "8/8 [==============================] - 25s 3s/step - loss: 0.5791 - accuracy: 0.8475 - val_loss: 0.5837 - val_accuracy: 0.8333 - lr: 0.0100\n",
      "Epoch 15/100\n",
      "8/8 [==============================] - 24s 3s/step - loss: 0.5767 - accuracy: 0.8366 - val_loss: 0.7836 - val_accuracy: 0.8000 - lr: 0.0100\n",
      "Epoch 16/100\n",
      "8/8 [==============================] - 24s 3s/step - loss: 0.5190 - accuracy: 0.8540 - val_loss: 0.6590 - val_accuracy: 0.7889 - lr: 0.0010\n",
      "Epoch 17/100\n",
      "8/8 [==============================] - 26s 3s/step - loss: 0.3421 - accuracy: 0.8736 - val_loss: 0.6271 - val_accuracy: 0.7889 - lr: 0.0010\n",
      "Epoch 18/100\n",
      "8/8 [==============================] - 26s 3s/step - loss: 0.3186 - accuracy: 0.8954 - val_loss: 0.5424 - val_accuracy: 0.8111 - lr: 0.0010\n",
      "Epoch 19/100\n",
      "8/8 [==============================] - 24s 3s/step - loss: 0.3017 - accuracy: 0.9020 - val_loss: 0.5883 - val_accuracy: 0.8000 - lr: 0.0010\n",
      "Epoch 20/100\n",
      "8/8 [==============================] - 23s 3s/step - loss: 0.3045 - accuracy: 0.9020 - val_loss: 0.5925 - val_accuracy: 0.8000 - lr: 0.0010\n",
      "Epoch 21/100\n",
      "8/8 [==============================] - 24s 3s/step - loss: 0.2933 - accuracy: 0.8954 - val_loss: 0.5721 - val_accuracy: 0.8222 - lr: 0.0010\n",
      "Epoch 22/100\n",
      "8/8 [==============================] - 25s 3s/step - loss: 0.3966 - accuracy: 0.8649 - val_loss: 0.5277 - val_accuracy: 0.8111 - lr: 0.0010\n",
      "Epoch 23/100\n",
      "8/8 [==============================] - 25s 3s/step - loss: 0.2767 - accuracy: 0.8976 - val_loss: 0.5493 - val_accuracy: 0.7778 - lr: 0.0010\n",
      "Epoch 24/100\n",
      "8/8 [==============================] - 24s 3s/step - loss: 0.3258 - accuracy: 0.8780 - val_loss: 0.5398 - val_accuracy: 0.8222 - lr: 0.0010\n",
      "Epoch 25/100\n",
      "8/8 [==============================] - 24s 3s/step - loss: 0.3071 - accuracy: 0.8976 - val_loss: 0.5303 - val_accuracy: 0.8111 - lr: 0.0010\n",
      "Epoch 26/100\n",
      "8/8 [==============================] - 24s 3s/step - loss: 0.2911 - accuracy: 0.8911 - val_loss: 0.4990 - val_accuracy: 0.8111 - lr: 0.0010\n",
      "Epoch 27/100\n",
      "8/8 [==============================] - 24s 3s/step - loss: 0.2620 - accuracy: 0.9107 - val_loss: 0.5139 - val_accuracy: 0.8111 - lr: 0.0010\n",
      "Epoch 28/100\n",
      "8/8 [==============================] - 23s 3s/step - loss: 0.2290 - accuracy: 0.9172 - val_loss: 0.5137 - val_accuracy: 0.8222 - lr: 0.0010\n",
      "Epoch 29/100\n",
      "8/8 [==============================] - 24s 3s/step - loss: 0.2500 - accuracy: 0.9085 - val_loss: 0.4679 - val_accuracy: 0.8111 - lr: 0.0010\n",
      "Epoch 30/100\n",
      "8/8 [==============================] - 23s 3s/step - loss: 0.3161 - accuracy: 0.8758 - val_loss: 0.5407 - val_accuracy: 0.8556 - lr: 0.0010\n",
      "Epoch 31/100\n",
      "8/8 [==============================] - 23s 3s/step - loss: 0.3153 - accuracy: 0.8954 - val_loss: 0.5011 - val_accuracy: 0.8111 - lr: 0.0010\n",
      "Epoch 32/100\n",
      "8/8 [==============================] - 23s 3s/step - loss: 0.2809 - accuracy: 0.8998 - val_loss: 0.4919 - val_accuracy: 0.8444 - lr: 0.0010\n",
      "Epoch 33/100\n",
      "8/8 [==============================] - 23s 3s/step - loss: 0.3338 - accuracy: 0.8932 - val_loss: 0.6709 - val_accuracy: 0.7778 - lr: 0.0010\n",
      "Epoch 34/100\n",
      "8/8 [==============================] - 23s 3s/step - loss: 0.2311 - accuracy: 0.9150 - val_loss: 0.4832 - val_accuracy: 0.8444 - lr: 0.0010\n",
      "Epoch 35/100\n",
      "8/8 [==============================] - 23s 3s/step - loss: 0.2507 - accuracy: 0.9172 - val_loss: 0.4787 - val_accuracy: 0.8333 - lr: 0.0010\n",
      "Epoch 36/100\n",
      "8/8 [==============================] - 23s 3s/step - loss: 0.2859 - accuracy: 0.9020 - val_loss: 0.4987 - val_accuracy: 0.8444 - lr: 0.0010\n",
      "Epoch 37/100\n",
      "8/8 [==============================] - 23s 3s/step - loss: 0.2431 - accuracy: 0.9150 - val_loss: 0.4918 - val_accuracy: 0.8000 - lr: 0.0010\n",
      "Epoch 38/100\n",
      "8/8 [==============================] - 23s 3s/step - loss: 0.2195 - accuracy: 0.9041 - val_loss: 0.5075 - val_accuracy: 0.8444 - lr: 0.0010\n",
      "Epoch 39/100\n",
      "8/8 [==============================] - 23s 3s/step - loss: 0.2584 - accuracy: 0.9085 - val_loss: 0.4653 - val_accuracy: 0.8222 - lr: 0.0010\n",
      "Epoch 40/100\n",
      "8/8 [==============================] - 23s 3s/step - loss: 0.2526 - accuracy: 0.8932 - val_loss: 0.5115 - val_accuracy: 0.8333 - lr: 0.0010\n",
      "Epoch 41/100\n",
      "8/8 [==============================] - 23s 3s/step - loss: 0.2689 - accuracy: 0.8998 - val_loss: 0.4983 - val_accuracy: 0.8333 - lr: 1.0000e-04\n",
      "Epoch 42/100\n",
      "8/8 [==============================] - 23s 3s/step - loss: 0.2604 - accuracy: 0.9085 - val_loss: 0.4657 - val_accuracy: 0.8000 - lr: 1.0000e-04\n",
      "Epoch 43/100\n",
      "8/8 [==============================] - 24s 3s/step - loss: 0.2430 - accuracy: 0.9085 - val_loss: 0.4511 - val_accuracy: 0.8222 - lr: 1.0000e-04\n",
      "Epoch 44/100\n",
      "8/8 [==============================] - 24s 3s/step - loss: 0.1819 - accuracy: 0.9368 - val_loss: 0.4587 - val_accuracy: 0.8333 - lr: 1.0000e-04\n",
      "Epoch 45/100\n",
      "8/8 [==============================] - 23s 3s/step - loss: 0.2116 - accuracy: 0.9325 - val_loss: 0.4691 - val_accuracy: 0.8444 - lr: 1.0000e-04\n",
      "Epoch 46/100\n",
      "8/8 [==============================] - 23s 3s/step - loss: 0.2125 - accuracy: 0.9216 - val_loss: 0.4782 - val_accuracy: 0.8333 - lr: 1.0000e-04\n",
      "Epoch 47/100\n",
      "8/8 [==============================] - 23s 3s/step - loss: 0.2096 - accuracy: 0.9194 - val_loss: 0.4791 - val_accuracy: 0.8333 - lr: 1.0000e-04\n",
      "Epoch 48/100\n",
      "8/8 [==============================] - 23s 3s/step - loss: 0.2752 - accuracy: 0.9020 - val_loss: 0.4746 - val_accuracy: 0.8333 - lr: 1.0000e-04\n",
      "Epoch 49/100\n",
      "8/8 [==============================] - 23s 3s/step - loss: 0.2636 - accuracy: 0.8889 - val_loss: 0.4671 - val_accuracy: 0.8333 - lr: 1.0000e-04\n",
      "Epoch 50/100\n",
      "8/8 [==============================] - 23s 3s/step - loss: 0.2260 - accuracy: 0.9237 - val_loss: 0.4620 - val_accuracy: 0.8444 - lr: 1.0000e-04\n",
      "Epoch 51/100\n",
      "8/8 [==============================] - 23s 3s/step - loss: 0.2062 - accuracy: 0.9194 - val_loss: 0.4538 - val_accuracy: 0.8333 - lr: 1.0000e-04\n",
      "Epoch 52/100\n",
      "8/8 [==============================] - 22s 3s/step - loss: 0.1939 - accuracy: 0.9325 - val_loss: 0.4512 - val_accuracy: 0.8333 - lr: 1.0000e-04\n",
      "Epoch 53/100\n",
      "8/8 [==============================] - 23s 3s/step - loss: 0.2251 - accuracy: 0.9194 - val_loss: 0.4552 - val_accuracy: 0.8333 - lr: 1.0000e-04\n",
      "Epoch 54/100\n"
     ]
    },
    {
     "name": "stdout",
     "output_type": "stream",
     "text": [
      "8/8 [==============================] - 23s 3s/step - loss: 0.1910 - accuracy: 0.9237 - val_loss: 0.4674 - val_accuracy: 0.8333 - lr: 1.0000e-04\n",
      "Epoch 55/100\n",
      "8/8 [==============================] - 23s 3s/step - loss: 0.2389 - accuracy: 0.9063 - val_loss: 0.4734 - val_accuracy: 0.8333 - lr: 1.0000e-04\n",
      "Epoch 56/100\n",
      "8/8 [==============================] - 23s 3s/step - loss: 0.2597 - accuracy: 0.9041 - val_loss: 0.4730 - val_accuracy: 0.8333 - lr: 1.0000e-04\n",
      "Epoch 57/100\n",
      "8/8 [==============================] - 23s 3s/step - loss: 0.2542 - accuracy: 0.9063 - val_loss: 0.4662 - val_accuracy: 0.8333 - lr: 1.0000e-04\n",
      "Epoch 58/100\n",
      "8/8 [==============================] - 23s 3s/step - loss: 0.2347 - accuracy: 0.9237 - val_loss: 0.4729 - val_accuracy: 0.8333 - lr: 1.0000e-04\n",
      "Epoch 59/100\n",
      "8/8 [==============================] - 23s 3s/step - loss: 0.2178 - accuracy: 0.9259 - val_loss: 0.4839 - val_accuracy: 0.8333 - lr: 1.0000e-04\n",
      "Epoch 60/100\n",
      "8/8 [==============================] - 23s 3s/step - loss: 0.1956 - accuracy: 0.9216 - val_loss: 0.4790 - val_accuracy: 0.8333 - lr: 1.0000e-04\n",
      "Epoch 61/100\n",
      "8/8 [==============================] - 23s 3s/step - loss: 0.2193 - accuracy: 0.9303 - val_loss: 0.4552 - val_accuracy: 0.8222 - lr: 1.0000e-04\n",
      "Epoch 62/100\n",
      "8/8 [==============================] - 23s 3s/step - loss: 0.2051 - accuracy: 0.9194 - val_loss: 0.4549 - val_accuracy: 0.8333 - lr: 1.0000e-04\n",
      "Epoch 63/100\n",
      "8/8 [==============================] - 23s 3s/step - loss: 0.1860 - accuracy: 0.9237 - val_loss: 0.4610 - val_accuracy: 0.8333 - lr: 1.0000e-04\n",
      "Epoch 64/100\n",
      "8/8 [==============================] - 23s 3s/step - loss: 0.2450 - accuracy: 0.9259 - val_loss: 0.4734 - val_accuracy: 0.8333 - lr: 1.0000e-04\n",
      "Epoch 65/100\n",
      "8/8 [==============================] - 23s 3s/step - loss: 0.1849 - accuracy: 0.9368 - val_loss: 0.5021 - val_accuracy: 0.8444 - lr: 1.0000e-04\n",
      "Epoch 66/100\n",
      "8/8 [==============================] - 23s 3s/step - loss: 0.2916 - accuracy: 0.8998 - val_loss: 0.4904 - val_accuracy: 0.8333 - lr: 1.0000e-04\n",
      "Epoch 67/100\n",
      "8/8 [==============================] - 23s 3s/step - loss: 0.2533 - accuracy: 0.8889 - val_loss: 0.4851 - val_accuracy: 0.8333 - lr: 1.0000e-04\n",
      "Epoch 68/100\n",
      "8/8 [==============================] - 23s 3s/step - loss: 0.1987 - accuracy: 0.9281 - val_loss: 0.4944 - val_accuracy: 0.8333 - lr: 1.0000e-04\n",
      "Epoch 69/100\n",
      "8/8 [==============================] - 23s 3s/step - loss: 0.2612 - accuracy: 0.9063 - val_loss: 0.4888 - val_accuracy: 0.8333 - lr: 1.0000e-04\n",
      "Epoch 70/100\n",
      "8/8 [==============================] - 23s 3s/step - loss: 0.2325 - accuracy: 0.9194 - val_loss: 0.4703 - val_accuracy: 0.8222 - lr: 1.0000e-04\n",
      "Epoch 71/100\n",
      "8/8 [==============================] - 23s 3s/step - loss: 0.1975 - accuracy: 0.9325 - val_loss: 0.4616 - val_accuracy: 0.8333 - lr: 1.0000e-04\n",
      "Epoch 72/100\n",
      "8/8 [==============================] - 23s 3s/step - loss: 0.2123 - accuracy: 0.9085 - val_loss: 0.4489 - val_accuracy: 0.8222 - lr: 1.0000e-04\n",
      "Epoch 73/100\n",
      "8/8 [==============================] - 23s 3s/step - loss: 0.2609 - accuracy: 0.9107 - val_loss: 0.4433 - val_accuracy: 0.8111 - lr: 1.0000e-04\n",
      "Epoch 74/100\n",
      "8/8 [==============================] - 23s 3s/step - loss: 0.2189 - accuracy: 0.9063 - val_loss: 0.4396 - val_accuracy: 0.8111 - lr: 1.0000e-04\n",
      "Epoch 75/100\n",
      "8/8 [==============================] - 23s 3s/step - loss: 0.1911 - accuracy: 0.9216 - val_loss: 0.4467 - val_accuracy: 0.8222 - lr: 1.0000e-04\n",
      "Epoch 76/100\n",
      "8/8 [==============================] - 23s 3s/step - loss: 0.2553 - accuracy: 0.9194 - val_loss: 0.4581 - val_accuracy: 0.8333 - lr: 1.0000e-04\n",
      "Epoch 77/100\n",
      "8/8 [==============================] - 23s 3s/step - loss: 0.1987 - accuracy: 0.9194 - val_loss: 0.4651 - val_accuracy: 0.8333 - lr: 1.0000e-04\n",
      "Epoch 78/100\n",
      "8/8 [==============================] - 23s 3s/step - loss: 0.1984 - accuracy: 0.9194 - val_loss: 0.4710 - val_accuracy: 0.8333 - lr: 1.0000e-04\n",
      "Epoch 79/100\n",
      "8/8 [==============================] - 23s 3s/step - loss: 0.2301 - accuracy: 0.9129 - val_loss: 0.4777 - val_accuracy: 0.8333 - lr: 1.0000e-04\n",
      "Epoch 80/100\n",
      "8/8 [==============================] - 23s 3s/step - loss: 0.2259 - accuracy: 0.9259 - val_loss: 0.4705 - val_accuracy: 0.8333 - lr: 1.0000e-04\n",
      "Epoch 81/100\n",
      "8/8 [==============================] - 23s 3s/step - loss: 0.2507 - accuracy: 0.8867 - val_loss: 0.4704 - val_accuracy: 0.8333 - lr: 1.0000e-05\n",
      "Epoch 82/100\n",
      "8/8 [==============================] - 23s 3s/step - loss: 0.2313 - accuracy: 0.9216 - val_loss: 0.4696 - val_accuracy: 0.8333 - lr: 1.0000e-05\n",
      "Epoch 83/100\n",
      "8/8 [==============================] - 23s 3s/step - loss: 0.2105 - accuracy: 0.9216 - val_loss: 0.4694 - val_accuracy: 0.8333 - lr: 1.0000e-05\n",
      "Epoch 84/100\n",
      "8/8 [==============================] - 22s 3s/step - loss: 0.2006 - accuracy: 0.9281 - val_loss: 0.4698 - val_accuracy: 0.8333 - lr: 1.0000e-05\n",
      "Epoch 85/100\n",
      "8/8 [==============================] - 23s 3s/step - loss: 0.2465 - accuracy: 0.9041 - val_loss: 0.4705 - val_accuracy: 0.8333 - lr: 1.0000e-05\n",
      "Epoch 86/100\n",
      "8/8 [==============================] - 23s 3s/step - loss: 0.1696 - accuracy: 0.9455 - val_loss: 0.4711 - val_accuracy: 0.8333 - lr: 1.0000e-05\n",
      "Epoch 87/100\n",
      "8/8 [==============================] - 23s 3s/step - loss: 0.2701 - accuracy: 0.9237 - val_loss: 0.4717 - val_accuracy: 0.8333 - lr: 1.0000e-05\n",
      "Epoch 88/100\n",
      "8/8 [==============================] - 23s 3s/step - loss: 0.2612 - accuracy: 0.9041 - val_loss: 0.4685 - val_accuracy: 0.8333 - lr: 1.0000e-05\n",
      "Epoch 89/100\n",
      "8/8 [==============================] - 23s 3s/step - loss: 0.2423 - accuracy: 0.9129 - val_loss: 0.4644 - val_accuracy: 0.8333 - lr: 1.0000e-05\n",
      "Epoch 90/100\n",
      "8/8 [==============================] - 23s 3s/step - loss: 0.1552 - accuracy: 0.9368 - val_loss: 0.4626 - val_accuracy: 0.8333 - lr: 1.0000e-05\n",
      "Epoch 91/100\n",
      "8/8 [==============================] - 23s 3s/step - loss: 0.2013 - accuracy: 0.9259 - val_loss: 0.4651 - val_accuracy: 0.8333 - lr: 1.0000e-05\n",
      "Epoch 92/100\n",
      "8/8 [==============================] - 23s 3s/step - loss: 0.2617 - accuracy: 0.9020 - val_loss: 0.4650 - val_accuracy: 0.8333 - lr: 1.0000e-05\n",
      "Epoch 93/100\n",
      "8/8 [==============================] - 23s 3s/step - loss: 0.2624 - accuracy: 0.9107 - val_loss: 0.4648 - val_accuracy: 0.8333 - lr: 1.0000e-05\n",
      "Epoch 94/100\n",
      "8/8 [==============================] - 23s 3s/step - loss: 0.2029 - accuracy: 0.9412 - val_loss: 0.4647 - val_accuracy: 0.8333 - lr: 1.0000e-05\n",
      "Epoch 95/100\n",
      "8/8 [==============================] - 23s 3s/step - loss: 0.2272 - accuracy: 0.9172 - val_loss: 0.4644 - val_accuracy: 0.8333 - lr: 1.0000e-05\n",
      "Epoch 96/100\n",
      "8/8 [==============================] - 23s 3s/step - loss: 0.2439 - accuracy: 0.9216 - val_loss: 0.4642 - val_accuracy: 0.8333 - lr: 1.0000e-05\n",
      "Epoch 97/100\n",
      "8/8 [==============================] - 23s 3s/step - loss: 0.2567 - accuracy: 0.9281 - val_loss: 0.4618 - val_accuracy: 0.8333 - lr: 1.0000e-05\n",
      "Epoch 98/100\n",
      "8/8 [==============================] - 23s 3s/step - loss: 0.2049 - accuracy: 0.9063 - val_loss: 0.4611 - val_accuracy: 0.8333 - lr: 1.0000e-05\n",
      "Epoch 99/100\n",
      "8/8 [==============================] - 23s 3s/step - loss: 0.1666 - accuracy: 0.9281 - val_loss: 0.4616 - val_accuracy: 0.8333 - lr: 1.0000e-05\n",
      "Epoch 100/100\n",
      "8/8 [==============================] - 23s 3s/step - loss: 0.2345 - accuracy: 0.9041 - val_loss: 0.4622 - val_accuracy: 0.8333 - lr: 1.0000e-05\n"
     ]
    }
   ],
   "source": [
    "inc_training = inc_model.fit_generator(train_generator,\n",
    "                                       epochs = epoch,\n",
    "                                      validation_data = validation_generator,callbacks=[lr_schedule_callback])"
   ]
  },
  {
   "cell_type": "code",
   "execution_count": 18,
   "id": "7ce1da49",
   "metadata": {},
   "outputs": [
    {
     "data": {
      "text/plain": [
       "{'loss': [18.616731643676758,\n",
       "  6.670498371124268,\n",
       "  4.9986443519592285,\n",
       "  2.9088172912597656,\n",
       "  3.016942262649536,\n",
       "  2.1291663646698,\n",
       "  1.4161317348480225,\n",
       "  1.74886953830719,\n",
       "  1.3142017126083374,\n",
       "  1.331586480140686,\n",
       "  0.953559398651123,\n",
       "  0.7802327871322632,\n",
       "  0.6004731059074402,\n",
       "  0.5790829062461853,\n",
       "  0.5767245292663574,\n",
       "  0.5190381407737732,\n",
       "  0.34211108088493347,\n",
       "  0.3185654580593109,\n",
       "  0.3016514778137207,\n",
       "  0.30453571677207947,\n",
       "  0.29332250356674194,\n",
       "  0.39657676219940186,\n",
       "  0.27667662501335144,\n",
       "  0.32580339908599854,\n",
       "  0.30711570382118225,\n",
       "  0.2910737693309784,\n",
       "  0.26199015974998474,\n",
       "  0.22895635664463043,\n",
       "  0.2500005066394806,\n",
       "  0.3160970211029053,\n",
       "  0.3152550160884857,\n",
       "  0.2809220850467682,\n",
       "  0.3338024616241455,\n",
       "  0.23111216723918915,\n",
       "  0.25074028968811035,\n",
       "  0.2858782112598419,\n",
       "  0.24311070144176483,\n",
       "  0.2194601148366928,\n",
       "  0.2583838701248169,\n",
       "  0.2526249289512634,\n",
       "  0.26891928911209106,\n",
       "  0.2603631317615509,\n",
       "  0.2429739534854889,\n",
       "  0.1819171905517578,\n",
       "  0.21159464120864868,\n",
       "  0.2125471532344818,\n",
       "  0.2095700204372406,\n",
       "  0.27516695857048035,\n",
       "  0.2635971009731293,\n",
       "  0.22604484856128693,\n",
       "  0.20622630417346954,\n",
       "  0.19394555687904358,\n",
       "  0.22511252760887146,\n",
       "  0.19102150201797485,\n",
       "  0.23893330991268158,\n",
       "  0.2597231864929199,\n",
       "  0.25419923663139343,\n",
       "  0.23466190695762634,\n",
       "  0.217798113822937,\n",
       "  0.19561564922332764,\n",
       "  0.21932996809482574,\n",
       "  0.20514851808547974,\n",
       "  0.18601255118846893,\n",
       "  0.24503910541534424,\n",
       "  0.1849154233932495,\n",
       "  0.29160791635513306,\n",
       "  0.2533443570137024,\n",
       "  0.19874654710292816,\n",
       "  0.2611754238605499,\n",
       "  0.2325209528207779,\n",
       "  0.19749873876571655,\n",
       "  0.2122570127248764,\n",
       "  0.2608925402164459,\n",
       "  0.21893270313739777,\n",
       "  0.19114334881305695,\n",
       "  0.2552850544452667,\n",
       "  0.1986655741930008,\n",
       "  0.19843532145023346,\n",
       "  0.23014360666275024,\n",
       "  0.22587454319000244,\n",
       "  0.2506938576698303,\n",
       "  0.2313385009765625,\n",
       "  0.21052497625350952,\n",
       "  0.2006130814552307,\n",
       "  0.24651119112968445,\n",
       "  0.16958241164684296,\n",
       "  0.27006247639656067,\n",
       "  0.26120370626449585,\n",
       "  0.24228937923908234,\n",
       "  0.1552107185125351,\n",
       "  0.2013213038444519,\n",
       "  0.26165294647216797,\n",
       "  0.2624434232711792,\n",
       "  0.20292221009731293,\n",
       "  0.22720859944820404,\n",
       "  0.24392496049404144,\n",
       "  0.25669264793395996,\n",
       "  0.20485518872737885,\n",
       "  0.16659961640834808,\n",
       "  0.23453696072101593],\n",
       " 'accuracy': [0.32244008779525757,\n",
       "  0.4117647111415863,\n",
       "  0.5119825601577759,\n",
       "  0.6427015066146851,\n",
       "  0.6601307392120361,\n",
       "  0.6688452959060669,\n",
       "  0.7189542651176453,\n",
       "  0.742919385433197,\n",
       "  0.7668845057487488,\n",
       "  0.7734204530715942,\n",
       "  0.7952069640159607,\n",
       "  0.8017429113388062,\n",
       "  0.8300653696060181,\n",
       "  0.8474945425987244,\n",
       "  0.8366013169288635,\n",
       "  0.8540304899215698,\n",
       "  0.8736383318901062,\n",
       "  0.8954248428344727,\n",
       "  0.9019607901573181,\n",
       "  0.9019607901573181,\n",
       "  0.8954248428344727,\n",
       "  0.8649237751960754,\n",
       "  0.8976035118103027,\n",
       "  0.8779956698417664,\n",
       "  0.8976035118103027,\n",
       "  0.8910675644874573,\n",
       "  0.9106754064559937,\n",
       "  0.9172113537788391,\n",
       "  0.9084967374801636,\n",
       "  0.8758170008659363,\n",
       "  0.8954248428344727,\n",
       "  0.899782121181488,\n",
       "  0.8932461738586426,\n",
       "  0.915032684803009,\n",
       "  0.9172113537788391,\n",
       "  0.9019607901573181,\n",
       "  0.915032684803009,\n",
       "  0.9041394591331482,\n",
       "  0.9084967374801636,\n",
       "  0.8932461738586426,\n",
       "  0.899782121181488,\n",
       "  0.9084967374801636,\n",
       "  0.9084967374801636,\n",
       "  0.9368191957473755,\n",
       "  0.9324618577957153,\n",
       "  0.9215686321258545,\n",
       "  0.9193899631500244,\n",
       "  0.9019607901573181,\n",
       "  0.8888888955116272,\n",
       "  0.9237473011016846,\n",
       "  0.9193899631500244,\n",
       "  0.9324618577957153,\n",
       "  0.9193899631500244,\n",
       "  0.9237473011016846,\n",
       "  0.9063180685043335,\n",
       "  0.9041394591331482,\n",
       "  0.9063180685043335,\n",
       "  0.9237473011016846,\n",
       "  0.9259259104728699,\n",
       "  0.9215686321258545,\n",
       "  0.93028324842453,\n",
       "  0.9193899631500244,\n",
       "  0.9237473011016846,\n",
       "  0.9259259104728699,\n",
       "  0.9368191957473755,\n",
       "  0.899782121181488,\n",
       "  0.8888888955116272,\n",
       "  0.9281045794487,\n",
       "  0.9063180685043335,\n",
       "  0.9193899631500244,\n",
       "  0.9324618577957153,\n",
       "  0.9084967374801636,\n",
       "  0.9106754064559937,\n",
       "  0.9063180685043335,\n",
       "  0.9215686321258545,\n",
       "  0.9193899631500244,\n",
       "  0.9193899631500244,\n",
       "  0.9193899631500244,\n",
       "  0.912854015827179,\n",
       "  0.9259259104728699,\n",
       "  0.8867102265357971,\n",
       "  0.9215686321258545,\n",
       "  0.9215686321258545,\n",
       "  0.9281045794487,\n",
       "  0.9041394591331482,\n",
       "  0.9455337524414062,\n",
       "  0.9237473011016846,\n",
       "  0.9041394591331482,\n",
       "  0.912854015827179,\n",
       "  0.9368191957473755,\n",
       "  0.9259259104728699,\n",
       "  0.9019607901573181,\n",
       "  0.9106754064559937,\n",
       "  0.9411764740943909,\n",
       "  0.9172113537788391,\n",
       "  0.9215686321258545,\n",
       "  0.9281045794487,\n",
       "  0.9063180685043335,\n",
       "  0.9281045794487,\n",
       "  0.9041394591331482],\n",
       " 'val_loss': [4.959291458129883,\n",
       "  4.785507678985596,\n",
       "  3.8112826347351074,\n",
       "  3.610692024230957,\n",
       "  2.2691845893859863,\n",
       "  2.4824345111846924,\n",
       "  2.5440707206726074,\n",
       "  2.0182414054870605,\n",
       "  1.2601087093353271,\n",
       "  1.314594030380249,\n",
       "  0.7317618727684021,\n",
       "  0.8005514144897461,\n",
       "  1.1568992137908936,\n",
       "  0.5837066173553467,\n",
       "  0.7836341261863708,\n",
       "  0.6590281128883362,\n",
       "  0.6270623803138733,\n",
       "  0.5423946976661682,\n",
       "  0.588282585144043,\n",
       "  0.5924777388572693,\n",
       "  0.5721423029899597,\n",
       "  0.5276816487312317,\n",
       "  0.5493354201316833,\n",
       "  0.5398254990577698,\n",
       "  0.5303333401679993,\n",
       "  0.4989786744117737,\n",
       "  0.5139082074165344,\n",
       "  0.5137004256248474,\n",
       "  0.46792274713516235,\n",
       "  0.5406894683837891,\n",
       "  0.5010852217674255,\n",
       "  0.4918532073497772,\n",
       "  0.6709368824958801,\n",
       "  0.48315781354904175,\n",
       "  0.478723406791687,\n",
       "  0.49866393208503723,\n",
       "  0.4918062090873718,\n",
       "  0.5075404644012451,\n",
       "  0.46529868245124817,\n",
       "  0.5115258097648621,\n",
       "  0.498290479183197,\n",
       "  0.4656504690647125,\n",
       "  0.4511052370071411,\n",
       "  0.45865508913993835,\n",
       "  0.4690818786621094,\n",
       "  0.47817379236221313,\n",
       "  0.47907909750938416,\n",
       "  0.4745951294898987,\n",
       "  0.46710917353630066,\n",
       "  0.4620148539543152,\n",
       "  0.45382770895957947,\n",
       "  0.4511861503124237,\n",
       "  0.4551777243614197,\n",
       "  0.46742308139801025,\n",
       "  0.4734483063220978,\n",
       "  0.4730326235294342,\n",
       "  0.4661836326122284,\n",
       "  0.47294747829437256,\n",
       "  0.48385506868362427,\n",
       "  0.4790400564670563,\n",
       "  0.45520541071891785,\n",
       "  0.4549259543418884,\n",
       "  0.46095654368400574,\n",
       "  0.47339874505996704,\n",
       "  0.502074122428894,\n",
       "  0.49043574929237366,\n",
       "  0.4850689470767975,\n",
       "  0.4943962097167969,\n",
       "  0.48877498507499695,\n",
       "  0.4703238904476166,\n",
       "  0.4616250693798065,\n",
       "  0.44888225197792053,\n",
       "  0.44329139590263367,\n",
       "  0.4396023154258728,\n",
       "  0.44669395685195923,\n",
       "  0.4580899178981781,\n",
       "  0.46512335538864136,\n",
       "  0.47103041410446167,\n",
       "  0.4776586890220642,\n",
       "  0.4705255329608917,\n",
       "  0.4704168438911438,\n",
       "  0.4696369171142578,\n",
       "  0.4693801999092102,\n",
       "  0.469821959733963,\n",
       "  0.47053077816963196,\n",
       "  0.4711342751979828,\n",
       "  0.47168952226638794,\n",
       "  0.46852874755859375,\n",
       "  0.4644293785095215,\n",
       "  0.4625973701477051,\n",
       "  0.465141624212265,\n",
       "  0.46499863266944885,\n",
       "  0.46481436491012573,\n",
       "  0.464711457490921,\n",
       "  0.46438589692115784,\n",
       "  0.46422258019447327,\n",
       "  0.46179261803627014,\n",
       "  0.4611009955406189,\n",
       "  0.46163859963417053,\n",
       "  0.46217650175094604],\n",
       " 'val_accuracy': [0.3333333432674408,\n",
       "  0.4888888895511627,\n",
       "  0.5555555820465088,\n",
       "  0.5333333611488342,\n",
       "  0.5777778029441833,\n",
       "  0.5888888835906982,\n",
       "  0.644444465637207,\n",
       "  0.6333333253860474,\n",
       "  0.7222222089767456,\n",
       "  0.7111111283302307,\n",
       "  0.7666666507720947,\n",
       "  0.800000011920929,\n",
       "  0.6888889074325562,\n",
       "  0.8333333134651184,\n",
       "  0.800000011920929,\n",
       "  0.7888888716697693,\n",
       "  0.7888888716697693,\n",
       "  0.8111110925674438,\n",
       "  0.800000011920929,\n",
       "  0.800000011920929,\n",
       "  0.8222222328186035,\n",
       "  0.8111110925674438,\n",
       "  0.7777777910232544,\n",
       "  0.8222222328186035,\n",
       "  0.8111110925674438,\n",
       "  0.8111110925674438,\n",
       "  0.8111110925674438,\n",
       "  0.8222222328186035,\n",
       "  0.8111110925674438,\n",
       "  0.855555534362793,\n",
       "  0.8111110925674438,\n",
       "  0.8444444537162781,\n",
       "  0.7777777910232544,\n",
       "  0.8444444537162781,\n",
       "  0.8333333134651184,\n",
       "  0.8444444537162781,\n",
       "  0.800000011920929,\n",
       "  0.8444444537162781,\n",
       "  0.8222222328186035,\n",
       "  0.8333333134651184,\n",
       "  0.8333333134651184,\n",
       "  0.800000011920929,\n",
       "  0.8222222328186035,\n",
       "  0.8333333134651184,\n",
       "  0.8444444537162781,\n",
       "  0.8333333134651184,\n",
       "  0.8333333134651184,\n",
       "  0.8333333134651184,\n",
       "  0.8333333134651184,\n",
       "  0.8444444537162781,\n",
       "  0.8333333134651184,\n",
       "  0.8333333134651184,\n",
       "  0.8333333134651184,\n",
       "  0.8333333134651184,\n",
       "  0.8333333134651184,\n",
       "  0.8333333134651184,\n",
       "  0.8333333134651184,\n",
       "  0.8333333134651184,\n",
       "  0.8333333134651184,\n",
       "  0.8333333134651184,\n",
       "  0.8222222328186035,\n",
       "  0.8333333134651184,\n",
       "  0.8333333134651184,\n",
       "  0.8333333134651184,\n",
       "  0.8444444537162781,\n",
       "  0.8333333134651184,\n",
       "  0.8333333134651184,\n",
       "  0.8333333134651184,\n",
       "  0.8333333134651184,\n",
       "  0.8222222328186035,\n",
       "  0.8333333134651184,\n",
       "  0.8222222328186035,\n",
       "  0.8111110925674438,\n",
       "  0.8111110925674438,\n",
       "  0.8222222328186035,\n",
       "  0.8333333134651184,\n",
       "  0.8333333134651184,\n",
       "  0.8333333134651184,\n",
       "  0.8333333134651184,\n",
       "  0.8333333134651184,\n",
       "  0.8333333134651184,\n",
       "  0.8333333134651184,\n",
       "  0.8333333134651184,\n",
       "  0.8333333134651184,\n",
       "  0.8333333134651184,\n",
       "  0.8333333134651184,\n",
       "  0.8333333134651184,\n",
       "  0.8333333134651184,\n",
       "  0.8333333134651184,\n",
       "  0.8333333134651184,\n",
       "  0.8333333134651184,\n",
       "  0.8333333134651184,\n",
       "  0.8333333134651184,\n",
       "  0.8333333134651184,\n",
       "  0.8333333134651184,\n",
       "  0.8333333134651184,\n",
       "  0.8333333134651184,\n",
       "  0.8333333134651184,\n",
       "  0.8333333134651184,\n",
       "  0.8333333134651184],\n",
       " 'lr': [0.01,\n",
       "  0.01,\n",
       "  0.01,\n",
       "  0.01,\n",
       "  0.01,\n",
       "  0.01,\n",
       "  0.01,\n",
       "  0.01,\n",
       "  0.01,\n",
       "  0.01,\n",
       "  0.01,\n",
       "  0.01,\n",
       "  0.01,\n",
       "  0.01,\n",
       "  0.01,\n",
       "  0.001,\n",
       "  0.001,\n",
       "  0.001,\n",
       "  0.001,\n",
       "  0.001,\n",
       "  0.001,\n",
       "  0.001,\n",
       "  0.001,\n",
       "  0.001,\n",
       "  0.001,\n",
       "  0.001,\n",
       "  0.001,\n",
       "  0.001,\n",
       "  0.001,\n",
       "  0.001,\n",
       "  0.001,\n",
       "  0.001,\n",
       "  0.001,\n",
       "  0.001,\n",
       "  0.001,\n",
       "  0.001,\n",
       "  0.001,\n",
       "  0.001,\n",
       "  0.001,\n",
       "  0.001,\n",
       "  1e-04,\n",
       "  1e-04,\n",
       "  1e-04,\n",
       "  1e-04,\n",
       "  1e-04,\n",
       "  1e-04,\n",
       "  1e-04,\n",
       "  1e-04,\n",
       "  1e-04,\n",
       "  1e-04,\n",
       "  1e-04,\n",
       "  1e-04,\n",
       "  1e-04,\n",
       "  1e-04,\n",
       "  1e-04,\n",
       "  1e-04,\n",
       "  1e-04,\n",
       "  1e-04,\n",
       "  1e-04,\n",
       "  1e-04,\n",
       "  1e-04,\n",
       "  1e-04,\n",
       "  1e-04,\n",
       "  1e-04,\n",
       "  1e-04,\n",
       "  1e-04,\n",
       "  1e-04,\n",
       "  1e-04,\n",
       "  1e-04,\n",
       "  1e-04,\n",
       "  1e-04,\n",
       "  1e-04,\n",
       "  1e-04,\n",
       "  1e-04,\n",
       "  1e-04,\n",
       "  1e-04,\n",
       "  1e-04,\n",
       "  1e-04,\n",
       "  1e-04,\n",
       "  1e-04,\n",
       "  1e-05,\n",
       "  1e-05,\n",
       "  1e-05,\n",
       "  1e-05,\n",
       "  1e-05,\n",
       "  1e-05,\n",
       "  1e-05,\n",
       "  1e-05,\n",
       "  1e-05,\n",
       "  1e-05,\n",
       "  1e-05,\n",
       "  1e-05,\n",
       "  1e-05,\n",
       "  1e-05,\n",
       "  1e-05,\n",
       "  1e-05,\n",
       "  1e-05,\n",
       "  1e-05,\n",
       "  1e-05,\n",
       "  1e-05]}"
      ]
     },
     "execution_count": 18,
     "metadata": {},
     "output_type": "execute_result"
    }
   ],
   "source": [
    "inc_training.history"
   ]
  },
  {
   "cell_type": "code",
   "execution_count": 19,
   "id": "6a543e09",
   "metadata": {},
   "outputs": [],
   "source": [
    "# !kill 19684"
   ]
  },
  {
   "cell_type": "code",
   "execution_count": 20,
   "id": "440ac508",
   "metadata": {},
   "outputs": [],
   "source": [
    "# %load_ext tensorboard"
   ]
  },
  {
   "cell_type": "code",
   "execution_count": 21,
   "id": "c813a86a",
   "metadata": {},
   "outputs": [],
   "source": [
    "# %reload_ext tensorboard"
   ]
  },
  {
   "cell_type": "code",
   "execution_count": 22,
   "id": "06d541bc",
   "metadata": {},
   "outputs": [],
   "source": [
    "# %tensorboard --logdir logs/fit"
   ]
  },
  {
   "cell_type": "code",
   "execution_count": 23,
   "id": "b6044d2e",
   "metadata": {},
   "outputs": [],
   "source": [
    "# tensorboard --logdir logs/fit --port 6007\n",
    "# http://localhost:6007/"
   ]
  },
  {
   "cell_type": "markdown",
   "id": "0d73350c",
   "metadata": {},
   "source": [
    "# Training accuracy"
   ]
  },
  {
   "cell_type": "code",
   "execution_count": 24,
   "id": "169e2a49",
   "metadata": {},
   "outputs": [
    {
     "name": "stdout",
     "output_type": "stream",
     "text": [
      "8/8 [==============================] - 17s 2s/step - loss: 0.2360 - accuracy: 0.9194\n"
     ]
    },
    {
     "data": {
      "text/plain": [
       "[0.23600177466869354, 0.9193899631500244]"
      ]
     },
     "execution_count": 24,
     "metadata": {},
     "output_type": "execute_result"
    }
   ],
   "source": [
    "inc_model.evaluate(train_generator)"
   ]
  },
  {
   "cell_type": "markdown",
   "id": "f47753bf",
   "metadata": {},
   "source": [
    "# Validation accuracy"
   ]
  },
  {
   "cell_type": "code",
   "execution_count": 25,
   "id": "825b5204",
   "metadata": {},
   "outputs": [
    {
     "name": "stdout",
     "output_type": "stream",
     "text": [
      "2/2 [==============================] - 3s 868ms/step - loss: 0.4622 - accuracy: 0.8333\n"
     ]
    },
    {
     "data": {
      "text/plain": [
       "[0.46217650175094604, 0.8333333134651184]"
      ]
     },
     "execution_count": 25,
     "metadata": {},
     "output_type": "execute_result"
    }
   ],
   "source": [
    "inc_model.evaluate(validation_generator)"
   ]
  },
  {
   "cell_type": "markdown",
   "id": "3fe40e24",
   "metadata": {},
   "source": [
    "# Testing accuracy"
   ]
  },
  {
   "cell_type": "code",
   "execution_count": 26,
   "id": "95416c5e",
   "metadata": {},
   "outputs": [
    {
     "name": "stdout",
     "output_type": "stream",
     "text": [
      "1/1 [==============================] - 2s 2s/step - loss: 0.4097 - accuracy: 0.8302\n"
     ]
    },
    {
     "data": {
      "text/plain": [
       "[0.4096601903438568, 0.8301886916160583]"
      ]
     },
     "execution_count": 26,
     "metadata": {},
     "output_type": "execute_result"
    }
   ],
   "source": [
    "inc_model.evaluate(test_generator)"
   ]
  },
  {
   "cell_type": "markdown",
   "id": "726054b2",
   "metadata": {},
   "source": [
    "# Prediction"
   ]
  },
  {
   "cell_type": "code",
   "execution_count": 27,
   "id": "64dc196e",
   "metadata": {},
   "outputs": [
    {
     "name": "stdout",
     "output_type": "stream",
     "text": [
      "1/1 [==============================] - 4s 4s/step\n"
     ]
    },
    {
     "data": {
      "text/plain": [
       "array([[8.85879919e-02, 9.92137939e-03, 9.01435375e-01, 5.48153585e-05,\n",
       "        4.55736000e-07],\n",
       "       [5.38363159e-01, 1.59266159e-01, 3.02070409e-01, 3.00186337e-04,\n",
       "        1.44217806e-11],\n",
       "       [9.97974455e-01, 3.56703231e-06, 1.45300338e-03, 5.68966381e-04,\n",
       "        5.75108884e-12],\n",
       "       [9.99726832e-01, 5.47601076e-06, 1.26574625e-04, 1.41101627e-04,\n",
       "        9.47381536e-17],\n",
       "       [1.12981059e-01, 3.19068646e-03, 8.83675337e-01, 1.52865177e-04,\n",
       "        1.24435302e-15],\n",
       "       [2.27374181e-01, 3.06257755e-02, 7.41669178e-01, 3.30870505e-04,\n",
       "        1.10384646e-09],\n",
       "       [8.96855116e-01, 9.87688676e-02, 3.93169094e-03, 4.44234873e-04,\n",
       "        2.02862445e-12],\n",
       "       [9.98089254e-01, 3.68594046e-04, 1.51427521e-03, 2.78225289e-05,\n",
       "        1.38253992e-10],\n",
       "       [9.71229374e-01, 1.37465950e-02, 4.14225599e-03, 1.08739333e-02,\n",
       "        7.81796462e-06],\n",
       "       [3.08340173e-02, 3.20133567e-02, 9.37151611e-01, 1.02794206e-06,\n",
       "        1.58948958e-13],\n",
       "       [9.98988211e-01, 5.36760665e-04, 4.73340129e-04, 8.47941692e-07,\n",
       "        8.16121997e-07],\n",
       "       [4.30027867e-05, 9.92656410e-01, 7.21434923e-03, 8.62406814e-05,\n",
       "        4.97108734e-12],\n",
       "       [4.81248317e-05, 9.76857424e-01, 2.11010855e-02, 1.99344754e-03,\n",
       "        3.97278955e-12],\n",
       "       [5.85425133e-03, 9.93204117e-01, 9.17329686e-04, 2.42592378e-05,\n",
       "        2.00971836e-10],\n",
       "       [1.11039699e-04, 9.91805911e-01, 8.03563558e-03, 4.73800537e-05,\n",
       "        5.71064743e-16],\n",
       "       [3.70197929e-03, 9.76203442e-01, 8.03323928e-03, 1.20612988e-02,\n",
       "        1.99174965e-09],\n",
       "       [1.19136719e-04, 9.99433100e-01, 3.94628791e-04, 5.30814104e-05,\n",
       "        1.13899592e-08],\n",
       "       [4.89740691e-04, 8.16993952e-01, 4.70009893e-02, 1.35515332e-01,\n",
       "        6.47178144e-10],\n",
       "       [3.25669680e-04, 8.95732641e-01, 1.03941239e-01, 4.10664455e-07,\n",
       "        1.30399158e-08],\n",
       "       [2.07690485e-02, 8.38250399e-01, 1.32411078e-01, 8.56945477e-03,\n",
       "        1.32987718e-11],\n",
       "       [6.50254250e-01, 1.80214688e-01, 1.69462726e-01, 6.83421458e-05,\n",
       "        6.49550552e-11],\n",
       "       [2.13499137e-04, 9.70257759e-01, 4.16473672e-03, 2.53639780e-02,\n",
       "        8.07412727e-15],\n",
       "       [8.83816555e-03, 3.97849113e-01, 7.56089836e-02, 5.17703772e-01,\n",
       "        2.94796773e-14],\n",
       "       [1.71475671e-02, 3.15950736e-02, 9.47062612e-01, 4.19472065e-03,\n",
       "        7.15176020e-13],\n",
       "       [1.28366333e-02, 8.03359628e-01, 1.82713240e-01, 1.09054684e-03,\n",
       "        5.03550652e-14],\n",
       "       [2.69510737e-03, 1.11968972e-01, 8.72581363e-01, 1.27545381e-02,\n",
       "        9.88013376e-17],\n",
       "       [1.09643697e-04, 2.00659126e-01, 7.70410538e-01, 2.88207047e-02,\n",
       "        1.88299875e-12],\n",
       "       [5.87819424e-03, 8.38901818e-01, 1.52878568e-01, 2.34143762e-03,\n",
       "        3.39926443e-09],\n",
       "       [2.77603423e-04, 3.53576466e-02, 9.64363873e-01, 8.40514701e-07,\n",
       "        3.43937976e-19],\n",
       "       [2.83222020e-01, 6.82061732e-01, 3.37276049e-02, 9.88587621e-04,\n",
       "        3.31607246e-13],\n",
       "       [1.27351535e-02, 1.90648471e-03, 9.85171616e-01, 1.86821169e-04,\n",
       "        2.75355063e-14],\n",
       "       [2.41594911e-02, 1.08650541e-02, 9.59215462e-01, 5.75990742e-03,\n",
       "        1.86328869e-11],\n",
       "       [6.62700692e-03, 5.05796596e-02, 9.42571461e-01, 2.21943381e-04,\n",
       "        7.75772085e-11],\n",
       "       [4.44589369e-03, 1.95667344e-05, 2.15764089e-07, 9.95534301e-01,\n",
       "        3.13731598e-13],\n",
       "       [1.22469501e-04, 7.37651453e-06, 6.28229536e-05, 9.99807298e-01,\n",
       "        2.65699574e-18],\n",
       "       [1.73030403e-05, 1.13743022e-06, 3.11646363e-05, 9.99950290e-01,\n",
       "        2.64252121e-14],\n",
       "       [1.07637346e-01, 1.08243346e-01, 2.19126835e-01, 5.64992487e-01,\n",
       "        2.80195950e-10],\n",
       "       [6.19487196e-07, 2.99965381e-04, 3.25827580e-03, 9.96441185e-01,\n",
       "        7.46219483e-18],\n",
       "       [5.37041444e-07, 2.04039086e-03, 2.80974782e-04, 9.97678101e-01,\n",
       "        1.19776811e-16],\n",
       "       [4.68040351e-03, 1.48932484e-03, 8.25304072e-04, 9.93004978e-01,\n",
       "        3.12333492e-09],\n",
       "       [3.22567502e-07, 4.47175630e-11, 3.06303832e-07, 9.99999404e-01,\n",
       "        3.83885853e-17],\n",
       "       [5.03601598e-07, 2.97713214e-05, 4.36370874e-06, 9.99965310e-01,\n",
       "        3.35314025e-12],\n",
       "       [6.55498530e-04, 4.38006573e-08, 5.04805257e-07, 9.99343932e-01,\n",
       "        2.95032228e-12],\n",
       "       [2.24430058e-10, 5.33544675e-09, 4.22180528e-05, 9.99957800e-01,\n",
       "        1.02598733e-19],\n",
       "       [6.12110026e-13, 1.62730973e-09, 8.72333406e-09, 1.00000000e+00,\n",
       "        9.05003294e-26],\n",
       "       [7.78254719e-15, 1.49961593e-14, 6.47283859e-15, 1.35548170e-12,\n",
       "        1.00000000e+00],\n",
       "       [1.06398488e-06, 6.99333835e-09, 1.30832056e-08, 3.40376646e-05,\n",
       "        9.99964833e-01],\n",
       "       [3.68899945e-11, 4.21050313e-11, 1.23232669e-08, 1.20440635e-09,\n",
       "        1.00000000e+00],\n",
       "       [2.07777916e-07, 1.76242154e-09, 1.77228499e-09, 6.92139452e-07,\n",
       "        9.99999046e-01],\n",
       "       [2.55064666e-17, 1.15139579e-17, 8.76876459e-15, 2.41335907e-15,\n",
       "        1.00000000e+00],\n",
       "       [2.36952194e-11, 2.14446988e-10, 3.68017943e-11, 2.13253237e-09,\n",
       "        1.00000000e+00],\n",
       "       [5.92814109e-09, 1.13952012e-06, 2.69067559e-08, 4.58333567e-08,\n",
       "        9.99998808e-01],\n",
       "       [2.55729361e-07, 1.94502157e-08, 2.45234446e-08, 2.75163292e-09,\n",
       "        9.99999642e-01]], dtype=float32)"
      ]
     },
     "execution_count": 27,
     "metadata": {},
     "output_type": "execute_result"
    }
   ],
   "source": [
    "predictions=inc_model.predict(test_generator)\n",
    "predictions"
   ]
  },
  {
   "cell_type": "code",
   "execution_count": 28,
   "id": "828c28ee",
   "metadata": {},
   "outputs": [
    {
     "data": {
      "text/plain": [
       "1"
      ]
     },
     "execution_count": 28,
     "metadata": {},
     "output_type": "execute_result"
    }
   ],
   "source": [
    "np.argmax(predictions[19])"
   ]
  },
  {
   "cell_type": "code",
   "execution_count": 29,
   "id": "92436d2b",
   "metadata": {},
   "outputs": [
    {
     "data": {
      "image/png": "[encoded data removed]",
      "text/plain": [
       "<Figure size 432x288 with 1 Axes>"
      ]
     },
     "metadata": {
      "needs_background": "light"
     },
     "output_type": "display_data"
    },
    {
     "data": {
      "image/png": "[encoded data removed]",
      "text/plain": [
       "<Figure size 432x288 with 1 Axes>"
      ]
     },
     "metadata": {
      "needs_background": "light"
     },
     "output_type": "display_data"
    }
   ],
   "source": [
    "plt.plot(inc_training.history['loss'], label='train loss',color='r')\n",
    "plt.plot(inc_training.history['val_loss'], label='val loss',color='r',linestyle='--',)\n",
    "plt.legend()\n",
    "plt.xlabel('epochs')\n",
    "plt.ylabel('loss')\n",
    "plt.show()\n",
    "# plt.savefig('LossVal_loss')\n",
    "\n",
    "# plot the accuracy\n",
    "plt.plot(inc_training.history['accuracy'], label='train acc',color='g')\n",
    "plt.plot(inc_training.history['val_accuracy'], label='val acc',color='g',linestyle='--')\n",
    "plt.legend()\n",
    "plt.xlabel('epochs')\n",
    "plt.ylabel('accuracy')\n",
    "plt.show()\n",
    "# plt.savefig('AccVal_acc')"
   ]
  },
  {
   "cell_type": "code",
   "execution_count": 30,
   "id": "3be50222",
   "metadata": {},
   "outputs": [
    {
     "name": "stdout",
     "output_type": "stream",
     "text": [
      "Training Accuracy Inception   : 0.9041394591331482\n",
      "Training Loss Inception       : 0.23453696072101593\n",
      "Validation Accuracy Inception : 0.8333333134651184\n",
      "Validation Loss Inception     : 0.46217650175094604\n"
     ]
    }
   ],
   "source": [
    "training_accuracy_inc      = inc_training.history['accuracy'][-1]\n",
    "training_loss_inc          = inc_training.history['loss'][-1]\n",
    "validation_accuracy_inc    = inc_training.history['val_accuracy'][-1]\n",
    "validation_loss_inc        = inc_training.history['val_loss'][-1]\n",
    "print(\"Training Accuracy Inception   :\", training_accuracy_inc )\n",
    "print(\"Training Loss Inception       :\", training_loss_inc)\n",
    "print(\"Validation Accuracy Inception :\", validation_accuracy_inc)\n",
    "print(\"Validation Loss Inception     :\", validation_loss_inc)"
   ]
  },
  {
   "cell_type": "code",
   "execution_count": 31,
   "id": "b388b9b6",
   "metadata": {},
   "outputs": [
    {
     "name": "stdout",
     "output_type": "stream",
     "text": [
      "Catla\n",
      "Mrigal\n",
      "Rohu\n",
      "Tilapia\n",
      "Tuna\n"
     ]
    }
   ],
   "source": [
    "for validation_dataset in os.listdir(train):\n",
    "    print(validation_dataset)"
   ]
  },
  {
   "cell_type": "code",
   "execution_count": 32,
   "id": "54308226",
   "metadata": {},
   "outputs": [
    {
     "name": "stdout",
     "output_type": "stream",
     "text": [
      "Confusion Matrix\n",
      "[[ 7  0  4  0  0]\n",
      " [ 1 10  0  1  0]\n",
      " [ 0  3  7  0  0]\n",
      " [ 0  0  0 12  0]\n",
      " [ 0  0  0  0  8]]\n",
      "**=============================================================================================**\n",
      "Classification Report\n",
      "              precision    recall  f1-score   support\n",
      "\n",
      "       Catla       0.88      0.64      0.74        11\n",
      "      Mrigal       0.77      0.83      0.80        12\n",
      "        Rohu       0.64      0.70      0.67        10\n",
      "     Tilapia       0.92      1.00      0.96        12\n",
      "        Tuna       1.00      1.00      1.00         8\n",
      "\n",
      "    accuracy                           0.83        53\n",
      "   macro avg       0.84      0.83      0.83        53\n",
      "weighted avg       0.84      0.83      0.83        53\n",
      "\n"
     ]
    }
   ],
   "source": [
    "# Generating Confusion Matrix and Classification Report\n",
    "Y_pred_inc = inc_model.predict_generator(test_generator, num_of_test_samples // batch_size+1)\n",
    "y_pred_inc = np.argmax(Y_pred_inc, axis=1)\n",
    "print('Confusion Matrix')\n",
    "conf_matrix_inc = confusion_matrix(test_generator.classes, y_pred_inc)\n",
    "cm_inc = np.array2string(conf_matrix_inc)\n",
    "print(conf_matrix_inc)\n",
    "print(\"**=============================================================================================**\")\n",
    "print('Classification Report')\n",
    "target_names = ['Catla','Mrigal','Rohu','Tilapia','Tuna']\n",
    "class_rep_inc = classification_report(test_generator.classes, y_pred_inc, target_names=target_names)\n",
    "print(class_rep_inc)"
   ]
  },
  {
   "cell_type": "code",
   "execution_count": 33,
   "id": "b8dd27d7",
   "metadata": {},
   "outputs": [
    {
     "data": {
      "image/png": "[encoded data removed]",
      "text/plain": [
       "<Figure size 576x432 with 2 Axes>"
      ]
     },
     "metadata": {
      "needs_background": "light"
     },
     "output_type": "display_data"
    }
   ],
   "source": [
    "import seaborn as sns\n",
    "plt.figure(figsize=(8,6))\n",
    "sns.heatmap(conf_matrix_inc, annot=True, cmap='ocean',xticklabels=target_names,yticklabels=target_names)\n",
    "plt.show()"
   ]
  },
  {
   "cell_type": "code",
   "execution_count": 34,
   "id": "096e613e",
   "metadata": {},
   "outputs": [
    {
     "data": {
      "text/plain": [
       "0.8301886792452831"
      ]
     },
     "execution_count": 34,
     "metadata": {},
     "output_type": "execute_result"
    }
   ],
   "source": [
    "accuracy_score(test_generator.classes, y_pred_inc)"
   ]
  },
  {
   "cell_type": "markdown",
   "id": "8abe85c9",
   "metadata": {},
   "source": [
    "# predicting single image"
   ]
  },
  {
   "cell_type": "code",
   "execution_count": 34,
   "id": "8cff9dbe",
   "metadata": {},
   "outputs": [],
   "source": [
    "import cv2 as cv"
   ]
  },
  {
   "cell_type": "code",
   "execution_count": 35,
   "id": "79378181",
   "metadata": {},
   "outputs": [
    {
     "data": {
      "image/png": "[encoded data removed]",
      "text/plain": [
       "<Figure size 432x288 with 1 Axes>"
      ]
     },
     "metadata": {
      "needs_background": "light"
     },
     "output_type": "display_data"
    }
   ],
   "source": [
    "fish_img=plt.imread(\"c:/Users/jadha/Data/MTP_data_underwater/Test/Catla/001 (24).jpg\")\n",
    "plt.imshow(fish_img)\n",
    "plt.show()"
   ]
  },
  {
   "cell_type": "code",
   "execution_count": 36,
   "id": "2e226afb",
   "metadata": {},
   "outputs": [
    {
     "data": {
      "image/png": "[encoded data removed]",
      "text/plain": [
       "<Figure size 432x288 with 1 Axes>"
      ]
     },
     "metadata": {
      "needs_background": "light"
     },
     "output_type": "display_data"
    }
   ],
   "source": [
    "fish_img=cv.resize(fish_img,(224,224))\n",
    "plt.imshow(fish_img)\n",
    "plt.show()"
   ]
  },
  {
   "cell_type": "code",
   "execution_count": 37,
   "id": "21e026fd",
   "metadata": {},
   "outputs": [
    {
     "data": {
      "text/plain": [
       "(224, 224, 3)"
      ]
     },
     "execution_count": 37,
     "metadata": {},
     "output_type": "execute_result"
    }
   ],
   "source": [
    "fish_img.shape"
   ]
  },
  {
   "cell_type": "code",
   "execution_count": 38,
   "id": "4fd575e8",
   "metadata": {},
   "outputs": [
    {
     "data": {
      "text/plain": [
       "(224, 224, 3)"
      ]
     },
     "execution_count": 38,
     "metadata": {},
     "output_type": "execute_result"
    }
   ],
   "source": [
    "fish_img=fish_img.reshape(224,224,3)\n",
    "fish_img.shape"
   ]
  },
  {
   "cell_type": "code",
   "execution_count": 39,
   "id": "39cb3351",
   "metadata": {},
   "outputs": [],
   "source": [
    "from tensorflow.keras.preprocessing import image"
   ]
  },
  {
   "cell_type": "code",
   "execution_count": 40,
   "id": "7c68883c",
   "metadata": {},
   "outputs": [],
   "source": [
    "x=image.img_to_array(fish_img)\n",
    "x=np.expand_dims(x,axis=0)"
   ]
  },
  {
   "cell_type": "code",
   "execution_count": 41,
   "id": "eb5f2b75",
   "metadata": {},
   "outputs": [
    {
     "name": "stdout",
     "output_type": "stream",
     "text": [
      "1/1 [==============================] - 1s 1s/step\n"
     ]
    },
    {
     "data": {
      "text/plain": [
       "array([[1.000000e+00, 0.000000e+00, 0.000000e+00, 0.000000e+00,\n",
       "        2.791089e-38]], dtype=float32)"
      ]
     },
     "execution_count": 41,
     "metadata": {},
     "output_type": "execute_result"
    }
   ],
   "source": [
    "inc_model.predict(x)"
   ]
  },
  {
   "cell_type": "code",
   "execution_count": 42,
   "id": "32229ef3",
   "metadata": {},
   "outputs": [
    {
     "name": "stdout",
     "output_type": "stream",
     "text": [
      "1/1 [==============================] - 0s 61ms/step\n"
     ]
    },
    {
     "data": {
      "text/plain": [
       "'Catla'"
      ]
     },
     "execution_count": 42,
     "metadata": {},
     "output_type": "execute_result"
    }
   ],
   "source": [
    "fish=['Catla','Mrigal','Rohu','Tilapia','Tuna']\n",
    "pridicted_fish=fish[np.argmax(inc_model.predict(x)[0])]\n",
    "pridicted_fish"
   ]
  },
  {
   "cell_type": "markdown",
   "id": "57814594",
   "metadata": {},
   "source": [
    "# Save the model"
   ]
  },
  {
   "cell_type": "code",
   "execution_count": 35,
   "id": "4941c433",
   "metadata": {},
   "outputs": [],
   "source": [
    "inc_model.save('model.h5')"
   ]
  },
  {
   "cell_type": "markdown",
   "id": "ca929de9",
   "metadata": {},
   "source": [
    "# Deployment"
   ]
  },
  {
   "cell_type": "code",
   "execution_count": 40,
   "id": "3c5bdca7",
   "metadata": {},
   "outputs": [],
   "source": [
    "# pip install streamlit"
   ]
  },
  {
   "cell_type": "code",
   "execution_count": 5,
   "id": "3f5920ff",
   "metadata": {},
   "outputs": [],
   "source": [
    "# import streamlit as st\n",
    "# import numpy as np\n",
    "# import cv2\n",
    "# import tensorflow as tf"
   ]
  },
  {
   "cell_type": "code",
   "execution_count": 4,
   "id": "f6fef998",
   "metadata": {},
   "outputs": [],
   "source": [
    "# # Load the model\n",
    "# model = tf.keras.models.load_model('model.h5')"
   ]
  },
  {
   "cell_type": "code",
   "execution_count": 3,
   "id": "c6ed53dd",
   "metadata": {},
   "outputs": [],
   "source": [
    "# # Define the prediction function\n",
    "# def predict(image):\n",
    "#     # Preprocess the image\n",
    "#     image = cv2.resize(image, (224, 224))\n",
    "#     image = np.expand_dims(image, axis=0)\n",
    "#     image = image.astype('float32') / 255.0\n",
    "\n",
    "#     # Make the prediction\n",
    "#     prediction = model.predict(image)\n",
    "#     label = np.argmax(prediction)\n",
    "\n",
    "#     return label"
   ]
  },
  {
   "cell_type": "code",
   "execution_count": 2,
   "id": "3d8c4dde",
   "metadata": {},
   "outputs": [],
   "source": [
    "# # Define the Streamlit app\n",
    "# st.title('Image Classification App')\n",
    "# uploaded_file = st.file_uploader('Choose an image', type=['jpg', 'jpeg', 'png'])\n",
    "# if uploaded_file is not None:\n",
    "#     # Read the image file from the uploader\n",
    "#     image = cv2.imdecode(np.fromstring(uploaded_file.read(), np.uint8), 1)\n",
    "\n",
    "#     # Display the image\n",
    "#     st.image(image, caption='Uploaded Image', use_column_width=True)\n",
    "\n",
    "#     # Make the prediction\n",
    "#     label = predict(image)\n",
    "#     st.write(f'Prediction: {label}')"
   ]
  },
  {
   "cell_type": "code",
   "execution_count": 1,
   "id": "b32d5bc6",
   "metadata": {},
   "outputs": [],
   "source": [
    "# conda list streamlit"
   ]
  },
  {
   "cell_type": "code",
   "execution_count": null,
   "id": "1a62da71",
   "metadata": {},
   "outputs": [],
   "source": []
  },
  {
   "cell_type": "code",
   "execution_count": null,
   "id": "671a18ed",
   "metadata": {},
   "outputs": [],
   "source": []
  },
  {
   "cell_type": "code",
   "execution_count": null,
   "id": "851c66c6",
   "metadata": {},
   "outputs": [],
   "source": []
  },
  {
   "cell_type": "code",
   "execution_count": null,
   "id": "53659f97",
   "metadata": {},
   "outputs": [],
   "source": []
  },
  {
   "cell_type": "code",
   "execution_count": null,
   "id": "b9acaa21",
   "metadata": {},
   "outputs": [],
   "source": []
  },
  {
   "cell_type": "code",
   "execution_count": null,
   "id": "7fdec108",
   "metadata": {},
   "outputs": [],
   "source": []
  },
  {
   "cell_type": "code",
   "execution_count": null,
   "id": "aca9ba67",
   "metadata": {},
   "outputs": [],
   "source": []
  },
  {
   "cell_type": "code",
   "execution_count": null,
   "id": "aa58fe69",
   "metadata": {},
   "outputs": [],
   "source": []
  }
 ],
 "metadata": {
  "kernelspec": {
   "display_name": "Python 3 (ipykernel)",
   "language": "python",
   "name": "python3"
  },
  "language_info": {
   "codemirror_mode": {
    "name": "ipython",
    "version": 3
   },
   "file_extension": ".py",
   "mimetype": "text/x-python",
   "name": "python",
   "nbconvert_exporter": "python",
   "pygments_lexer": "ipython3",
   "version": "3.9.12"
  }
 },
 "nbformat": 4,
 "nbformat_minor": 5
}
