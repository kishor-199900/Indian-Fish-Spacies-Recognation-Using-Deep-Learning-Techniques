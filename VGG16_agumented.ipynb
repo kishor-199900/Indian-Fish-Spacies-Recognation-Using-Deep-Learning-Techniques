{
 "cells": [
  {
   "cell_type": "code",
   "execution_count": 1,
   "id": "8ff04c2e",
   "metadata": {},
   "outputs": [],
   "source": [
    "import numpy as np # linear algebra\n",
    "import pandas as pd # data processing, CSV file I/O (e.g. pd.read_csv)\n",
    "import os\n",
    "import sys\n",
    "import shutil   \n",
    "import matplotlib.pyplot as plt\n",
    "from keras import backend as K\n",
    "from keras.models import Sequential\n",
    "from keras import optimizers\n",
    "from keras.layers.core import Dense, Dropout, Activation, Flatten\n",
    "from keras.layers.convolutional import Convolution2D, MaxPooling2D\n",
    "from keras.layers import Dense, GlobalAveragePooling2D, Dropout\n",
    "from keras.preprocessing.image import ImageDataGenerator\n",
    "from keras.callbacks import History \n",
    "from sklearn.metrics import classification_report, confusion_matrix,plot_confusion_matrix,ConfusionMatrixDisplay,accuracy_score\n",
    "import keras\n",
    "from keras.layers.convolutional import Conv2D\n",
    "from keras.layers import Dense\n",
    "from keras.layers.convolutional import MaxPooling2D\n",
    "from keras.layers import Flatten\n",
    "# from keras.layers import LeakyReLU\n",
    "# from keras.layers.normalization import batch_normalization\n",
    "keras.layers.BatchNormalization(axis=-1, momentum=0.99, epsilon=0.001, center=True, \n",
    "                                scale=True, beta_initializer='zeros', gamma_initializer='ones',\n",
    "                                moving_mean_initializer='zeros', moving_variance_initializer='ones', \n",
    "                                beta_regularizer=None, gamma_regularizer=None, beta_constraint=None, \n",
    "                                gamma_constraint=None)\n",
    "\n",
    "import warnings\n",
    "warnings.filterwarnings('ignore')\n",
    "# import os\n",
    "# for dirname, _, filenames in os.walk('/kaggle/input'):\n",
    "#     for filename in filenames:\n",
    "#         print(os.path.join(dirname, filename))"
   ]
  },
  {
   "cell_type": "code",
   "execution_count": 2,
   "id": "3fa80135",
   "metadata": {},
   "outputs": [],
   "source": [
    "train = 'c:/Users/jadha/Data/MTP_data_underwater_agumented1/Train'\n",
    "val = 'c:/Users/jadha/Data/MTP_data_underwater_agumented1/Val'\n",
    "test = 'c:/Users/jadha/Data/MTP_data_underwater_agumented1/Test'"
   ]
  },
  {
   "cell_type": "code",
   "execution_count": 3,
   "id": "c86bd01c",
   "metadata": {},
   "outputs": [
    {
     "name": "stdout",
     "output_type": "stream",
     "text": [
      "Number of Training samples   :  893\n",
      "Number of Validation samples :  235\n",
      "Number of Test samples :  140\n"
     ]
    }
   ],
   "source": [
    "# Total number of training images\n",
    "num_of_train_samples = 0\n",
    "for train_dataset in os.listdir(train):\n",
    "    in_folder = train + \"/\" + train_dataset \n",
    "    in_folder_list = os.listdir(in_folder)\n",
    "    num_of_train_samples = num_of_train_samples + len(in_folder_list)\n",
    "print(\"Number of Training samples   : \",num_of_train_samples)\n",
    "\n",
    "# Total number of validation images\n",
    "num_of_validation_samples = 0\n",
    "for validation_dataset in os.listdir(val):\n",
    "    in_folder_val = val + \"/\" + validation_dataset\n",
    "    in_folder_val_list = os.listdir(in_folder_val)\n",
    "    num_of_validation_samples = num_of_validation_samples + len(in_folder_val_list)\n",
    "print(\"Number of Validation samples : \", num_of_validation_samples)\n",
    "\n",
    "# Total number of testing images\n",
    "num_of_test_samples = 0\n",
    "for testing_dataset in os.listdir(test):\n",
    "    in_folder_test = test + \"/\" + testing_dataset\n",
    "    in_folder_test_list = os.listdir(in_folder_test)\n",
    "    num_of_test_samples = num_of_test_samples + len(in_folder_test_list)\n",
    "print(\"Number of Test samples : \", num_of_test_samples)"
   ]
  },
  {
   "cell_type": "code",
   "execution_count": 4,
   "id": "804c6fc4",
   "metadata": {},
   "outputs": [
    {
     "name": "stdout",
     "output_type": "stream",
     "text": [
      "Catla\n",
      "Mrigal\n",
      "Rohu\n",
      "Tilapia\n",
      "Tuna\n"
     ]
    }
   ],
   "source": [
    "for validation_dataset in os.listdir(train):\n",
    "    print(validation_dataset)"
   ]
  },
  {
   "cell_type": "code",
   "execution_count": 5,
   "id": "a5c1303d",
   "metadata": {},
   "outputs": [],
   "source": [
    "train_datagen = ImageDataGenerator(rescale=1. / 255,\n",
    "                                   rotation_range=40,\n",
    "                                   shear_range=0.2,\n",
    "                                   zoom_range=0.2,\n",
    "                                   horizontal_flip=True,\n",
    "                                   fill_mode='nearest')\n",
    "\n",
    "val_datagen = ImageDataGenerator(rescale=1. / 255)\n",
    "\n",
    "test_datagen=ImageDataGenerator(rescale=1./255)"
   ]
  },
  {
   "cell_type": "code",
   "execution_count": 6,
   "id": "81bab749",
   "metadata": {},
   "outputs": [],
   "source": [
    "batch_size = 64\n",
    "learning_rate = 0.001\n",
    "epoch = 20\n",
    "\n",
    "# Defining image width and height respectively\n",
    "img_rows = 256\n",
    "img_cols = 256"
   ]
  },
  {
   "cell_type": "code",
   "execution_count": 7,
   "id": "12b93b14",
   "metadata": {},
   "outputs": [
    {
     "name": "stdout",
     "output_type": "stream",
     "text": [
      "Found 893 images belonging to 5 classes.\n",
      "Found 235 images belonging to 5 classes.\n",
      "Found 140 images belonging to 5 classes.\n"
     ]
    }
   ],
   "source": [
    "train_generator = train_datagen.flow_from_directory(train,\n",
    "                                                    target_size = (img_rows, img_cols),\n",
    "                                                    batch_size = batch_size,\n",
    "                                                    class_mode = 'categorical')\n",
    "\n",
    "validation_generator = val_datagen.flow_from_directory(val,\n",
    "                                                        target_size = (img_rows, img_cols),\n",
    "                                                        batch_size = batch_size,\n",
    "                                                        shuffle = False, class_mode='categorical')\n",
    "\n",
    "test_generator = test_datagen.flow_from_directory(test,\n",
    "                                                        target_size = (img_rows, img_cols),\n",
    "                                                        batch_size = batch_size,\n",
    "                                                        shuffle = False, class_mode='categorical')"
   ]
  },
  {
   "cell_type": "code",
   "execution_count": 8,
   "id": "e613674f",
   "metadata": {},
   "outputs": [
    {
     "data": {
      "text/plain": [
       "array([[[0.7800679 , 0.5480468 , 0.37549782],\n",
       "        [0.77662104, 0.53770626, 0.3651572 ],\n",
       "        [0.78306353, 0.5438478 , 0.36800236],\n",
       "        ...,\n",
       "        [0.13711827, 0.1331967 , 0.11751042],\n",
       "        [0.12837975, 0.12445819, 0.10877191],\n",
       "        [0.13133915, 0.12741758, 0.11026908]],\n",
       "\n",
       "       [[0.7741046 , 0.54587585, 0.3748987 ],\n",
       "        [0.77851725, 0.5433947 , 0.37084568],\n",
       "        [0.7792712 , 0.5400555 , 0.36610618],\n",
       "        ...,\n",
       "        [0.12581506, 0.12189349, 0.106126  ],\n",
       "        [0.13455357, 0.130632  , 0.11267988],\n",
       "        [0.14170538, 0.13778381, 0.11817596]],\n",
       "\n",
       "       [[0.7665199 , 0.54208356, 0.37300256],\n",
       "        [0.7803074 , 0.54897726, 0.37644944],\n",
       "        [0.7769665 , 0.5387426 , 0.36619356],\n",
       "        ...,\n",
       "        [0.13776799, 0.13384642, 0.11509069],\n",
       "        [0.14250897, 0.1385874 , 0.11897957],\n",
       "        [0.1446936 , 0.14077203, 0.1211642 ]],\n",
       "\n",
       "       ...,\n",
       "\n",
       "       [[0.42001233, 0.45530644, 0.45138487],\n",
       "        [0.42219692, 0.45749104, 0.45356947],\n",
       "        [0.42438155, 0.4596757 , 0.45575413],\n",
       "        ...,\n",
       "        [0.41766986, 0.5627679 , 0.6647287 ],\n",
       "        [0.43141496, 0.576513  , 0.6784738 ],\n",
       "        [0.43830872, 0.58340675, 0.6853675 ]],\n",
       "\n",
       "       [[0.4230005 , 0.45829466, 0.45437306],\n",
       "        [0.42518517, 0.4604793 , 0.45655772],\n",
       "        [0.4273698 , 0.46266392, 0.45874235],\n",
       "        ...,\n",
       "        [0.41708657, 0.5635849 , 0.6613449 ],\n",
       "        [0.42387268, 0.56897074, 0.6709315 ],\n",
       "        [0.43451637, 0.5796144 , 0.6815752 ]],\n",
       "\n",
       "       [[0.42598876, 0.46128288, 0.4573613 ],\n",
       "        [0.4216719 , 0.456966  , 0.45304444],\n",
       "        [0.40419486, 0.439489  , 0.43556744],\n",
       "        ...,\n",
       "        [0.41898274, 0.5673772 , 0.6594487 ],\n",
       "        [0.41628802, 0.5613861 , 0.6633469 ],\n",
       "        [0.4300755 , 0.57517356, 0.67713434]]], dtype=float32)"
      ]
     },
     "execution_count": 8,
     "metadata": {},
     "output_type": "execute_result"
    }
   ],
   "source": [
    "px=train_generator[4][0][7]\n",
    "px"
   ]
  },
  {
   "cell_type": "code",
   "execution_count": 9,
   "id": "3dff6640",
   "metadata": {},
   "outputs": [
    {
     "name": "stdout",
     "output_type": "stream",
     "text": [
      "Steps per epoch:  13\n"
     ]
    }
   ],
   "source": [
    "steps_per_epoch_vgg16 = num_of_train_samples // batch_size\n",
    "print(\"Steps per epoch: \",steps_per_epoch_vgg16)"
   ]
  },
  {
   "cell_type": "code",
   "execution_count": 10,
   "id": "95273fd8",
   "metadata": {},
   "outputs": [
    {
     "name": "stdout",
     "output_type": "stream",
     "text": [
      "Model: \"sequential\"\n",
      "_________________________________________________________________\n",
      " Layer (type)                Output Shape              Param #   \n",
      "=================================================================\n",
      " vgg16 (Functional)          (None, 512)               14714688  \n",
      "                                                                 \n",
      " dense (Dense)               (None, 5)                 2565      \n",
      "                                                                 \n",
      "=================================================================\n",
      "Total params: 14,717,253\n",
      "Trainable params: 2,565\n",
      "Non-trainable params: 14,714,688\n",
      "_________________________________________________________________\n"
     ]
    }
   ],
   "source": [
    "\n",
    "from keras.applications import vgg16\n",
    "    # The sequential API allows you to create models layer-by-layer\n",
    "vgg_model=Sequential()\n",
    "vgg_model.add(vgg16.VGG16(include_top = False, pooling = 'max', weights = 'imagenet'))\n",
    "vgg_model.add(Dense(5, activation=\"softmax\"))\n",
    "\n",
    "    # Summary: to find the number of parameters\n",
    "vgg_model.layers[0].trainable=False\n",
    "vgg_model.summary() \n",
    "\n",
    "adam = optimizers.Adam(lr=learning_rate, beta_1=0.9, beta_2=0.999, epsilon=1e-08, decay=0.00001)\n",
    "vgg_model.compile(loss=\"categorical_crossentropy\",\n",
    "                  optimizer=adam,\n",
    "                  metrics=[\"accuracy\"])"
   ]
  },
  {
   "cell_type": "code",
   "execution_count": 11,
   "id": "86036ba9",
   "metadata": {},
   "outputs": [],
   "source": [
    "# from keras.callbacks import LearningRateScheduler\n",
    "\n",
    "# # Define a learning rate schedule function\n",
    "# def lr_schedule(epoch):\n",
    "#     if epoch < 10:\n",
    "#         return 0.001\n",
    "#     elif epoch < 30:\n",
    "#         return 0.0001\n",
    "#     else:\n",
    "#         return 0.00001\n",
    "\n",
    "# # Create a LearningRateScheduler callback using the lr_schedule function\n",
    "# lr_schedule_callback = LearningRateScheduler(lr_schedule)"
   ]
  },
  {
   "cell_type": "code",
   "execution_count": 30,
   "id": "5a2034c7",
   "metadata": {},
   "outputs": [
    {
     "name": "stdout",
     "output_type": "stream",
     "text": [
      "Epoch 1/20\n",
      "13/13 [==============================] - 116s 9s/step - loss: 0.8683 - accuracy: 0.6767 - val_loss: 0.9648 - val_accuracy: 0.5677\n",
      "Epoch 2/20\n",
      "13/13 [==============================] - 125s 10s/step - loss: 0.8805 - accuracy: 0.6441 - val_loss: 0.9997 - val_accuracy: 0.5625\n",
      "Epoch 3/20\n",
      "13/13 [==============================] - 129s 10s/step - loss: 0.8526 - accuracy: 0.6719 - val_loss: 0.9575 - val_accuracy: 0.5938\n",
      "Epoch 4/20\n",
      "13/13 [==============================] - 130s 10s/step - loss: 0.8442 - accuracy: 0.6803 - val_loss: 0.9912 - val_accuracy: 0.5625\n",
      "Epoch 5/20\n",
      "13/13 [==============================] - 125s 10s/step - loss: 0.8316 - accuracy: 0.6828 - val_loss: 0.9438 - val_accuracy: 0.5990\n",
      "Epoch 6/20\n",
      "13/13 [==============================] - 127s 10s/step - loss: 0.8408 - accuracy: 0.6671 - val_loss: 0.9390 - val_accuracy: 0.5990\n",
      "Epoch 7/20\n",
      "13/13 [==============================] - 129s 10s/step - loss: 0.8277 - accuracy: 0.6900 - val_loss: 0.9633 - val_accuracy: 0.5833\n",
      "Epoch 8/20\n",
      "13/13 [==============================] - 126s 10s/step - loss: 0.8425 - accuracy: 0.6647 - val_loss: 0.9216 - val_accuracy: 0.6146\n",
      "Epoch 9/20\n",
      "13/13 [==============================] - 128s 10s/step - loss: 0.8317 - accuracy: 0.6803 - val_loss: 0.9330 - val_accuracy: 0.6146\n",
      "Epoch 10/20\n",
      "13/13 [==============================] - 127s 10s/step - loss: 0.8365 - accuracy: 0.6767 - val_loss: 0.9288 - val_accuracy: 0.6146\n",
      "Epoch 11/20\n",
      "13/13 [==============================] - 128s 10s/step - loss: 0.8361 - accuracy: 0.6840 - val_loss: 0.9524 - val_accuracy: 0.5781\n",
      "Epoch 12/20\n",
      "13/13 [==============================] - 128s 10s/step - loss: 0.8074 - accuracy: 0.6876 - val_loss: 0.9009 - val_accuracy: 0.6302\n",
      "Epoch 13/20\n",
      "13/13 [==============================] - 126s 10s/step - loss: 0.8360 - accuracy: 0.6659 - val_loss: 0.9250 - val_accuracy: 0.5990\n",
      "Epoch 14/20\n",
      "13/13 [==============================] - 126s 10s/step - loss: 0.8279 - accuracy: 0.6960 - val_loss: 0.9279 - val_accuracy: 0.5938\n",
      "Epoch 15/20\n",
      "13/13 [==============================] - 126s 10s/step - loss: 0.8157 - accuracy: 0.6719 - val_loss: 0.9401 - val_accuracy: 0.5885\n",
      "Epoch 16/20\n",
      "13/13 [==============================] - 132s 10s/step - loss: 0.8041 - accuracy: 0.6924 - val_loss: 0.9257 - val_accuracy: 0.5990\n",
      "Epoch 17/20\n",
      "13/13 [==============================] - 127s 10s/step - loss: 0.8126 - accuracy: 0.6912 - val_loss: 0.9069 - val_accuracy: 0.6146\n",
      "Epoch 18/20\n",
      "13/13 [==============================] - 128s 10s/step - loss: 0.8012 - accuracy: 0.6755 - val_loss: 0.9136 - val_accuracy: 0.6094\n",
      "Epoch 19/20\n",
      "13/13 [==============================] - 126s 10s/step - loss: 0.8040 - accuracy: 0.6948 - val_loss: 0.9146 - val_accuracy: 0.6146\n",
      "Epoch 20/20\n",
      "13/13 [==============================] - 126s 10s/step - loss: 0.8065 - accuracy: 0.6852 - val_loss: 0.9052 - val_accuracy: 0.6094\n"
     ]
    }
   ],
   "source": [
    "# Trains the model for a given number of epochs (iterations on a dataset).\n",
    "vgg_training = vgg_model.fit_generator(train_generator,\n",
    "                                       steps_per_epoch = steps_per_epoch_vgg16,\n",
    "                                       epochs = epoch,\n",
    "                                       validation_data = validation_generator,\n",
    "                                       validation_steps = num_of_validation_samples // batch_size)"
   ]
  },
  {
   "cell_type": "code",
   "execution_count": 31,
   "id": "c82ebb23",
   "metadata": {},
   "outputs": [
    {
     "name": "stdout",
     "output_type": "stream",
     "text": [
      "14/14 [==============================] - 111s 8s/step - loss: 0.7831 - accuracy: 0.7066\n"
     ]
    },
    {
     "data": {
      "text/plain": [
       "[0.7830697894096375, 0.706606924533844]"
      ]
     },
     "execution_count": 31,
     "metadata": {},
     "output_type": "execute_result"
    }
   ],
   "source": [
    "vgg_model.evaluate(train_generator)"
   ]
  },
  {
   "cell_type": "code",
   "execution_count": 32,
   "id": "46effa21",
   "metadata": {},
   "outputs": [
    {
     "name": "stdout",
     "output_type": "stream",
     "text": [
      "4/4 [==============================] - 29s 7s/step - loss: 0.8306 - accuracy: 0.6553\n"
     ]
    },
    {
     "data": {
      "text/plain": [
       "[0.830552875995636, 0.6553191542625427]"
      ]
     },
     "execution_count": 32,
     "metadata": {},
     "output_type": "execute_result"
    }
   ],
   "source": [
    "vgg_model.evaluate(validation_generator)"
   ]
  },
  {
   "cell_type": "code",
   "execution_count": 33,
   "id": "d8860147",
   "metadata": {},
   "outputs": [
    {
     "name": "stdout",
     "output_type": "stream",
     "text": [
      "3/3 [==============================] - 17s 5s/step - loss: 0.7444 - accuracy: 0.6429\n"
     ]
    },
    {
     "data": {
      "text/plain": [
       "[0.7444307208061218, 0.6428571343421936]"
      ]
     },
     "execution_count": 33,
     "metadata": {},
     "output_type": "execute_result"
    }
   ],
   "source": [
    "vgg_model.evaluate(test_generator)"
   ]
  },
  {
   "cell_type": "code",
   "execution_count": 34,
   "id": "377f916b",
   "metadata": {},
   "outputs": [
    {
     "name": "stdout",
     "output_type": "stream",
     "text": [
      "3/3 [==============================] - 17s 5s/step\n"
     ]
    },
    {
     "data": {
      "text/plain": [
       "array([[5.16375661e-01, 1.84139222e-01, 2.04872847e-01, 7.85018727e-02,\n",
       "        1.61104072e-02],\n",
       "       [4.76344228e-02, 2.49803644e-02, 4.83134314e-02, 8.65987897e-01,\n",
       "        1.30838472e-02],\n",
       "       [3.00873667e-01, 8.73251632e-02, 3.82241130e-01, 2.23575607e-01,\n",
       "        5.98447118e-03],\n",
       "       [1.78006113e-01, 3.90634872e-02, 2.66201317e-01, 5.10833323e-01,\n",
       "        5.89575339e-03],\n",
       "       [3.14668208e-01, 7.56698847e-02, 3.35600436e-01, 2.68786490e-01,\n",
       "        5.27499430e-03],\n",
       "       [3.29811096e-01, 6.17112368e-02, 2.79281527e-01, 3.23206544e-01,\n",
       "        5.98956645e-03],\n",
       "       [7.34211206e-01, 7.45262159e-03, 1.93092730e-02, 2.32408419e-01,\n",
       "        6.61848625e-03],\n",
       "       [7.59964228e-01, 2.55425484e-03, 3.31917293e-02, 1.43192530e-01,\n",
       "        6.10973462e-02],\n",
       "       [8.75762820e-01, 1.19517499e-03, 1.01420758e-02, 1.07204169e-01,\n",
       "        5.69585012e-03],\n",
       "       [1.82503045e-01, 6.17157407e-02, 3.07446122e-01, 4.35624063e-01,\n",
       "        1.27110220e-02],\n",
       "       [9.56222057e-01, 1.98110659e-03, 1.82524417e-02, 2.04511136e-02,\n",
       "        3.09341331e-03],\n",
       "       [2.01606572e-01, 1.68009862e-01, 2.75030792e-01, 3.53002280e-01,\n",
       "        2.35044933e-03],\n",
       "       [1.83323056e-01, 8.84876102e-02, 3.92817974e-01, 3.33146572e-01,\n",
       "        2.22482020e-03],\n",
       "       [3.15165699e-01, 1.73937917e-01, 4.67683822e-01, 3.60826254e-02,\n",
       "        7.12997979e-03],\n",
       "       [9.68243957e-01, 1.11052592e-03, 1.22385481e-02, 1.77320708e-02,\n",
       "        6.74830168e-04],\n",
       "       [9.19100463e-01, 5.48533676e-03, 1.73303969e-02, 5.67460135e-02,\n",
       "        1.33776979e-03],\n",
       "       [9.61124241e-01, 7.16824550e-04, 1.23040965e-02, 2.52152663e-02,\n",
       "        6.39581820e-04],\n",
       "       [1.35036051e-01, 5.47339581e-02, 1.35324389e-01, 6.62254870e-01,\n",
       "        1.26506845e-02],\n",
       "       [5.11315651e-02, 4.07490321e-02, 1.55100837e-01, 7.42083192e-01,\n",
       "        1.09352833e-02],\n",
       "       [1.39132649e-01, 4.50256057e-02, 2.05054283e-01, 6.01781785e-01,\n",
       "        9.00561269e-03],\n",
       "       [5.27012646e-01, 3.80056053e-02, 2.71204829e-01, 1.62313774e-01,\n",
       "        1.46311999e-03],\n",
       "       [5.42275965e-01, 7.82881230e-02, 2.52204716e-01, 1.25935867e-01,\n",
       "        1.29533978e-03],\n",
       "       [5.05143404e-01, 2.62393672e-02, 3.74953866e-01, 9.17074978e-02,\n",
       "        1.95580977e-03],\n",
       "       [2.02658564e-01, 9.76672396e-02, 2.32219785e-01, 4.63457048e-01,\n",
       "        3.99729563e-03],\n",
       "       [6.53089702e-01, 1.08229443e-02, 2.42515311e-01, 9.16317180e-02,\n",
       "        1.94025552e-03],\n",
       "       [2.95869797e-01, 5.14890738e-02, 1.24581672e-01, 5.25992036e-01,\n",
       "        2.06740503e-03],\n",
       "       [2.39551961e-01, 1.43391684e-01, 5.25996268e-01, 8.87147039e-02,\n",
       "        2.34538922e-03],\n",
       "       [3.26940954e-01, 1.32270753e-01, 4.56439018e-01, 8.29373747e-02,\n",
       "        1.41188817e-03],\n",
       "       [3.82941693e-01, 1.26712978e-01, 4.39936578e-01, 4.91253473e-02,\n",
       "        1.28336658e-03],\n",
       "       [2.76172906e-01, 4.58873361e-02, 5.71060002e-01, 1.01057537e-01,\n",
       "        5.82213700e-03],\n",
       "       [3.16641748e-01, 8.31352100e-02, 5.30973375e-01, 6.68434352e-02,\n",
       "        2.40625604e-03],\n",
       "       [3.22693408e-01, 6.60900846e-02, 5.17392874e-01, 9.11524594e-02,\n",
       "        2.67118169e-03],\n",
       "       [6.34755015e-01, 8.58161878e-03, 1.77097265e-02, 3.34661335e-01,\n",
       "        4.29229951e-03],\n",
       "       [6.46555603e-01, 1.64709315e-02, 6.90860674e-02, 2.63947219e-01,\n",
       "        3.94006679e-03],\n",
       "       [4.37447250e-01, 8.50892346e-03, 1.92641113e-02, 5.31649292e-01,\n",
       "        3.13046388e-03],\n",
       "       [8.52263927e-01, 2.12150114e-03, 1.19066108e-02, 9.55725387e-02,\n",
       "        3.81352864e-02],\n",
       "       [7.62884676e-01, 1.59642799e-03, 2.27512307e-02, 1.37715369e-01,\n",
       "        7.50524178e-02],\n",
       "       [7.40848362e-01, 8.21382366e-03, 5.51140904e-02, 1.77735254e-01,\n",
       "        1.80884041e-02],\n",
       "       [5.89715004e-01, 3.58814676e-03, 3.65853719e-02, 3.62206072e-01,\n",
       "        7.90535938e-03],\n",
       "       [7.15018690e-01, 2.65582488e-03, 3.28661725e-02, 2.44792834e-01,\n",
       "        4.66649281e-03],\n",
       "       [5.99657059e-01, 3.64310434e-03, 4.03713547e-02, 3.48687470e-01,\n",
       "        7.64106028e-03],\n",
       "       [3.46904099e-01, 4.07204665e-02, 4.16433632e-01, 1.87654689e-01,\n",
       "        8.28712806e-03],\n",
       "       [3.46964508e-01, 5.37110195e-02, 3.27295959e-01, 2.62900651e-01,\n",
       "        9.12784692e-03],\n",
       "       [2.37718806e-01, 1.02648899e-01, 3.51946861e-01, 2.87062496e-01,\n",
       "        2.06228662e-02],\n",
       "       [7.52223358e-02, 4.96716499e-01, 2.98980504e-01, 1.15242042e-01,\n",
       "        1.38386143e-02],\n",
       "       [4.11515869e-02, 2.81886995e-01, 2.81242162e-01, 3.81495267e-01,\n",
       "        1.42239714e-02],\n",
       "       [4.81717050e-01, 1.58704370e-01, 2.12683648e-01, 1.31426007e-01,\n",
       "        1.54688582e-02],\n",
       "       [3.89842182e-01, 2.71102250e-01, 2.00720057e-01, 1.25850618e-01,\n",
       "        1.24849156e-02],\n",
       "       [4.15858626e-01, 2.46916845e-01, 1.81739032e-01, 1.48985878e-01,\n",
       "        6.49960060e-03],\n",
       "       [4.89748329e-01, 6.93141893e-02, 1.19714960e-01, 2.68529326e-01,\n",
       "        5.26933074e-02],\n",
       "       [1.58907667e-01, 9.33248997e-02, 1.42332047e-01, 6.01617515e-01,\n",
       "        3.81787866e-03],\n",
       "       [1.40254229e-01, 1.81595221e-01, 5.56234479e-01, 1.17682904e-01,\n",
       "        4.23311023e-03],\n",
       "       [1.75581068e-01, 1.62535906e-01, 5.07816017e-01, 1.52084708e-01,\n",
       "        1.98234478e-03],\n",
       "       [4.29846615e-01, 9.97320935e-02, 2.40645081e-01, 2.27599859e-01,\n",
       "        2.17637350e-03],\n",
       "       [1.67694926e-01, 1.90351427e-01, 3.87777418e-01, 2.51366377e-01,\n",
       "        2.80996505e-03],\n",
       "       [1.81376219e-01, 1.12098366e-01, 6.19097412e-01, 8.31919089e-02,\n",
       "        4.23607789e-03],\n",
       "       [3.53442103e-01, 6.04834482e-02, 2.60075927e-01, 3.21145296e-01,\n",
       "        4.85319179e-03],\n",
       "       [1.99073672e-01, 1.68913573e-01, 3.69574994e-01, 2.58839518e-01,\n",
       "        3.59823648e-03],\n",
       "       [1.84597090e-01, 2.03349799e-01, 5.49758613e-01, 5.94291463e-02,\n",
       "        2.86541157e-03],\n",
       "       [2.48249725e-01, 1.94415897e-01, 2.67253548e-01, 2.88196832e-01,\n",
       "        1.88399514e-03],\n",
       "       [2.88319081e-01, 1.77852228e-01, 1.77589804e-01, 3.42130989e-01,\n",
       "        1.41078578e-02],\n",
       "       [3.79753977e-01, 6.82000890e-02, 3.36602271e-01, 2.07835898e-01,\n",
       "        7.60770356e-03],\n",
       "       [2.64570683e-01, 6.60664067e-02, 3.39710325e-01, 3.24412048e-01,\n",
       "        5.24050882e-03],\n",
       "       [4.41248447e-01, 5.20827994e-02, 4.18522954e-01, 8.62868726e-02,\n",
       "        1.85890298e-03],\n",
       "       [4.28141654e-01, 5.56306727e-02, 4.50093955e-01, 6.01081252e-02,\n",
       "        6.02561096e-03],\n",
       "       [4.75346386e-01, 6.54299185e-02, 3.64754617e-01, 9.05695185e-02,\n",
       "        3.89946648e-03],\n",
       "       [2.08426669e-01, 1.20971233e-01, 2.78790176e-01, 3.75645399e-01,\n",
       "        1.61665250e-02],\n",
       "       [3.70261520e-01, 1.19622484e-01, 2.53749430e-01, 2.53638417e-01,\n",
       "        2.72814347e-03],\n",
       "       [2.14269280e-01, 6.96364641e-02, 2.00967923e-01, 5.09464204e-01,\n",
       "        5.66204684e-03],\n",
       "       [1.35690197e-01, 2.40545198e-01, 5.71491420e-01, 4.84580249e-02,\n",
       "        3.81514919e-03],\n",
       "       [5.01116328e-02, 8.58744830e-02, 8.39820802e-01, 2.17704643e-02,\n",
       "        2.42256443e-03],\n",
       "       [6.16206676e-02, 1.30210400e-01, 7.85876930e-01, 1.96875483e-02,\n",
       "        2.60450272e-03],\n",
       "       [2.68519342e-01, 5.82327954e-02, 5.53589106e-01, 1.17913805e-01,\n",
       "        1.74487580e-03],\n",
       "       [1.22247159e-01, 1.21843040e-01, 3.40066910e-01, 4.13215786e-01,\n",
       "        2.62711034e-03],\n",
       "       [2.59087801e-01, 4.73762080e-02, 2.58179247e-01, 4.31782454e-01,\n",
       "        3.57432989e-03],\n",
       "       [5.37631251e-02, 1.23176336e-01, 7.97854811e-02, 7.38166451e-01,\n",
       "        5.10855718e-03],\n",
       "       [3.27496439e-01, 6.66554198e-02, 2.91169167e-01, 3.01306635e-01,\n",
       "        1.33723319e-02],\n",
       "       [3.22192878e-01, 7.16296807e-02, 1.69467553e-01, 4.24862981e-01,\n",
       "        1.18469307e-02],\n",
       "       [4.73783940e-01, 3.38111408e-02, 2.79717058e-01, 1.99336916e-01,\n",
       "        1.33509953e-02],\n",
       "       [3.18392545e-01, 2.97125131e-02, 5.56396842e-01, 7.55869523e-02,\n",
       "        1.99110769e-02],\n",
       "       [5.52050948e-01, 2.42100041e-02, 2.60255277e-01, 1.54095128e-01,\n",
       "        9.38868802e-03],\n",
       "       [1.93835467e-01, 1.08299837e-01, 5.51521063e-01, 1.44940302e-01,\n",
       "        1.40326575e-03],\n",
       "       [2.44548872e-01, 9.34567526e-02, 5.09213090e-01, 1.51582822e-01,\n",
       "        1.19853124e-03],\n",
       "       [2.53455579e-01, 9.86541584e-02, 4.97723550e-01, 1.48551732e-01,\n",
       "        1.61498203e-03],\n",
       "       [2.48656332e-01, 6.25586435e-02, 2.72398233e-01, 4.12268341e-01,\n",
       "        4.11834894e-03],\n",
       "       [2.32070521e-01, 3.70771103e-02, 1.86326161e-01, 5.40776491e-01,\n",
       "        3.74965020e-03],\n",
       "       [1.01174094e-01, 1.24730561e-02, 4.56861407e-02, 8.38434637e-01,\n",
       "        2.23207916e-03],\n",
       "       [6.98908269e-02, 3.82092386e-03, 2.83654910e-02, 8.85833919e-01,\n",
       "        1.20888008e-02],\n",
       "       [3.29273492e-02, 2.12566517e-02, 1.14064300e-02, 9.32697773e-01,\n",
       "        1.71181734e-03],\n",
       "       [3.42888199e-02, 4.22264859e-02, 1.54241836e-02, 8.93561900e-01,\n",
       "        1.44986305e-02],\n",
       "       [7.36828968e-02, 6.22519385e-03, 2.43920106e-02, 8.83896291e-01,\n",
       "        1.18035618e-02],\n",
       "       [1.29673228e-01, 2.55043488e-02, 3.87559794e-02, 8.04830492e-01,\n",
       "        1.23607565e-03],\n",
       "       [1.00118462e-02, 5.59219345e-03, 2.22602189e-02, 9.61103320e-01,\n",
       "        1.03245047e-03],\n",
       "       [1.72242254e-03, 4.24460632e-05, 1.55948175e-04, 9.98047471e-01,\n",
       "        3.15969810e-05],\n",
       "       [6.94365799e-02, 1.31774053e-01, 2.80262619e-01, 5.09886086e-01,\n",
       "        8.64071865e-03],\n",
       "       [1.21333124e-02, 1.36054838e-02, 6.27173185e-02, 9.10579681e-01,\n",
       "        9.64187726e-04],\n",
       "       [1.19960785e-01, 1.43740373e-02, 1.90125987e-01, 6.74215615e-01,\n",
       "        1.32361054e-03],\n",
       "       [1.11274324e-01, 1.63714855e-03, 1.24260709e-02, 8.74335825e-01,\n",
       "        3.26702779e-04],\n",
       "       [3.68729942e-02, 5.53637045e-04, 1.85407605e-03, 9.60195661e-01,\n",
       "        5.23718074e-04],\n",
       "       [2.58033741e-02, 1.17853202e-01, 3.68917286e-01, 4.79645193e-01,\n",
       "        7.78094819e-03],\n",
       "       [2.40217019e-02, 9.15372446e-02, 3.86283666e-01, 4.88675863e-01,\n",
       "        9.48148873e-03],\n",
       "       [7.16154501e-02, 4.28183079e-02, 3.37864697e-01, 5.42492568e-01,\n",
       "        5.20890672e-03],\n",
       "       [1.43905934e-02, 5.76147670e-03, 7.12842792e-02, 9.07019794e-01,\n",
       "        1.54387648e-03],\n",
       "       [5.35478033e-02, 4.38567884e-02, 1.72177538e-01, 7.29103982e-01,\n",
       "        1.31398381e-03],\n",
       "       [3.83165814e-02, 6.77866116e-02, 1.95000902e-01, 6.97859883e-01,\n",
       "        1.03608076e-03],\n",
       "       [1.39035098e-02, 2.53201602e-03, 2.72633713e-02, 9.54948425e-01,\n",
       "        1.35268737e-03],\n",
       "       [1.19930478e-02, 1.36189454e-03, 1.37344878e-02, 9.70882118e-01,\n",
       "        2.02842942e-03],\n",
       "       [3.71650159e-02, 1.10902879e-02, 3.05374507e-02, 9.19963181e-01,\n",
       "        1.24411483e-03],\n",
       "       [4.25797924e-02, 4.72597172e-03, 5.58568463e-02, 8.95204067e-01,\n",
       "        1.63338147e-03],\n",
       "       [4.10263501e-02, 1.37407740e-04, 1.70180970e-03, 9.54096794e-01,\n",
       "        3.03769181e-03],\n",
       "       [2.94228289e-02, 8.80567124e-04, 8.59638676e-03, 9.59255099e-01,\n",
       "        1.84521370e-03],\n",
       "       [2.97890548e-02, 2.44040764e-03, 3.31284516e-02, 9.23672915e-01,\n",
       "        1.09692216e-02],\n",
       "       [1.22697584e-01, 3.45764100e-03, 5.54102100e-02, 8.09894443e-01,\n",
       "        8.54019821e-03],\n",
       "       [1.43951811e-02, 2.97947857e-03, 3.97865884e-02, 9.32259500e-01,\n",
       "        1.05791269e-02],\n",
       "       [8.57437495e-04, 4.82368894e-04, 1.14297523e-04, 9.98151839e-01,\n",
       "        3.94030794e-04],\n",
       "       [7.88515434e-02, 2.12765299e-03, 9.53612034e-04, 9.17946458e-01,\n",
       "        1.20766992e-04],\n",
       "       [1.21680526e-02, 2.29060743e-03, 7.68986996e-04, 9.84623015e-01,\n",
       "        1.49260071e-04],\n",
       "       [2.62120459e-02, 2.82753240e-02, 4.84882779e-02, 8.96404684e-01,\n",
       "        6.19679340e-04],\n",
       "       [2.46442966e-02, 3.21271084e-02, 5.28416894e-02, 8.84317160e-01,\n",
       "        6.06968440e-03],\n",
       "       [3.70436870e-02, 3.75081934e-02, 3.07654496e-02, 8.82546425e-01,\n",
       "        1.21362573e-02],\n",
       "       [1.24242194e-01, 2.84446720e-02, 1.18786752e-01, 7.12756157e-01,\n",
       "        1.57702677e-02],\n",
       "       [2.26149559e-01, 3.52315642e-02, 1.56046003e-01, 5.79239786e-01,\n",
       "        3.33307195e-03],\n",
       "       [2.09530517e-01, 7.30741164e-03, 5.67766577e-02, 7.20250309e-01,\n",
       "        6.13505533e-03],\n",
       "       [1.77361835e-02, 4.56031645e-03, 9.77952965e-03, 9.66911733e-01,\n",
       "        1.01221364e-03],\n",
       "       [5.66383526e-02, 1.64116379e-02, 2.30112597e-02, 9.02634561e-01,\n",
       "        1.30421657e-03],\n",
       "       [4.87142131e-02, 6.74147578e-03, 9.16962773e-02, 8.52113783e-01,\n",
       "        7.34192203e-04],\n",
       "       [1.50761344e-02, 9.28552449e-03, 6.29000068e-02, 9.11937952e-01,\n",
       "        8.00420588e-04],\n",
       "       [3.05274222e-03, 2.55701458e-03, 2.11907215e-02, 9.72463727e-01,\n",
       "        7.35877198e-04],\n",
       "       [8.36527068e-03, 4.72702086e-03, 2.69466825e-02, 9.59295332e-01,\n",
       "        6.65615255e-04],\n",
       "       [1.28314970e-02, 4.07099258e-04, 1.47246057e-03, 9.85234320e-01,\n",
       "        5.46270276e-05],\n",
       "       [1.70319306e-03, 6.38520796e-05, 4.97571949e-04, 9.97696459e-01,\n",
       "        3.88724038e-05],\n",
       "       [1.09958171e-04, 4.98256441e-06, 1.42115323e-05, 9.99861002e-01,\n",
       "        9.82703477e-06],\n",
       "       [3.99957826e-05, 1.33244396e-06, 2.95125355e-05, 7.93768268e-04,\n",
       "        9.99135435e-01],\n",
       "       [4.72178869e-03, 8.84714653e-04, 1.89586997e-03, 5.83026966e-04,\n",
       "        9.91914630e-01],\n",
       "       [7.54594657e-05, 2.17605411e-04, 5.38910215e-04, 7.74797634e-04,\n",
       "        9.98393238e-01],\n",
       "       [3.76954526e-02, 1.28907338e-01, 1.99663162e-01, 3.39864641e-01,\n",
       "        2.93869406e-01],\n",
       "       [1.14286377e-04, 1.65094661e-05, 1.79532974e-04, 2.45049549e-03,\n",
       "        9.97239113e-01],\n",
       "       [4.65982687e-03, 1.86271980e-04, 4.63612785e-04, 5.55149280e-03,\n",
       "        9.89138782e-01],\n",
       "       [7.56275895e-08, 7.15425983e-07, 4.60417732e-06, 1.23748623e-06,\n",
       "        9.99993324e-01],\n",
       "       [3.52220086e-04, 9.46445507e-05, 9.55157098e-04, 1.65955469e-04,\n",
       "        9.98431981e-01]], dtype=float32)"
      ]
     },
     "execution_count": 34,
     "metadata": {},
     "output_type": "execute_result"
    }
   ],
   "source": [
    "predictions=vgg_model.predict(test_generator)\n",
    "predictions"
   ]
  },
  {
   "cell_type": "code",
   "execution_count": 35,
   "id": "fb03c2a1",
   "metadata": {},
   "outputs": [
    {
     "data": {
      "image/png": "[encoded data removed]",
      "text/plain": [
       "<Figure size 432x288 with 1 Axes>"
      ]
     },
     "metadata": {
      "needs_background": "light"
     },
     "output_type": "display_data"
    },
    {
     "data": {
      "image/png": "[encoded data removed]",
      "text/plain": [
       "<Figure size 432x288 with 1 Axes>"
      ]
     },
     "metadata": {
      "needs_background": "light"
     },
     "output_type": "display_data"
    },
    {
     "data": {
      "text/plain": [
       "<Figure size 432x288 with 0 Axes>"
      ]
     },
     "metadata": {},
     "output_type": "display_data"
    }
   ],
   "source": [
    "import matplotlib.pyplot as plt\n",
    "plt.plot(vgg_training.history['loss'], label='train loss',color='r')\n",
    "plt.plot(vgg_training.history['val_loss'], label='val loss',color='r',linestyle='--',)\n",
    "plt.legend()\n",
    "plt.xlabel('epochs')\n",
    "plt.ylabel('loss')\n",
    "plt.show()\n",
    "plt.savefig('LossVal_loss')\n",
    "\n",
    "# plot the accuracy\n",
    "plt.plot(vgg_training.history['accuracy'], label='train acc',color='g')\n",
    "plt.plot(vgg_training.history['val_accuracy'], label='val acc',color='g',linestyle='--')\n",
    "plt.legend()\n",
    "plt.xlabel('epochs')\n",
    "plt.ylabel('accuracy')\n",
    "plt.show()\n",
    "plt.savefig('AccVal_acc')"
   ]
  },
  {
   "cell_type": "code",
   "execution_count": 36,
   "id": "45f5e1e6",
   "metadata": {},
   "outputs": [
    {
     "name": "stdout",
     "output_type": "stream",
     "text": [
      "Training Accuracy VGG    : 0.6851628422737122\n",
      "Training Loss VGG        : 0.8064867258071899\n",
      "Validation Accuracy VGG  : 0.609375\n",
      "Validation Loss VGG      : 0.9052435755729675\n"
     ]
    }
   ],
   "source": [
    "training_accuracy_vgg      = vgg_training.history['accuracy'][-1]\n",
    "training_loss_vgg          = vgg_training.history['loss'][-1]\n",
    "validation_accuracy_vgg    = vgg_training.history['val_accuracy'][-1]\n",
    "validation_loss_vgg        = vgg_training.history['val_loss'][-1]\n",
    "print(\"Training Accuracy VGG    :\", training_accuracy_vgg )\n",
    "print(\"Training Loss VGG        :\", training_loss_vgg)\n",
    "print(\"Validation Accuracy VGG  :\", validation_accuracy_vgg)\n",
    "print(\"Validation Loss VGG      :\", validation_loss_vgg)"
   ]
  },
  {
   "cell_type": "code",
   "execution_count": 37,
   "id": "0dee421a",
   "metadata": {},
   "outputs": [
    {
     "name": "stdout",
     "output_type": "stream",
     "text": [
      "WARNING:tensorflow:Your input ran out of data; interrupting training. Make sure that your dataset or generator can generate at least `steps_per_epoch * epochs` batches (in this case, 4 batches). You may need to use the repeat() function when building your dataset.\n",
      "Confusion Matrix\n",
      "[[22  0 12 10  0]\n",
      " [ 5  1  4  2  0]\n",
      " [ 8  0 12  8  0]\n",
      " [ 0  0  0 48  0]\n",
      " [ 0  0  0  1  7]]\n",
      "=============================================================================================\n",
      "Classification Report\n",
      "              precision    recall  f1-score   support\n",
      "\n",
      "       Catla       0.63      0.50      0.56        44\n",
      "      Mrigal       1.00      0.08      0.15        12\n",
      "        Rohu       0.43      0.43      0.43        28\n",
      "     Tilapia       0.70      1.00      0.82        48\n",
      "        Tuna       1.00      0.88      0.93         8\n",
      "\n",
      "    accuracy                           0.64       140\n",
      "   macro avg       0.75      0.58      0.58       140\n",
      "weighted avg       0.66      0.64      0.61       140\n",
      "\n"
     ]
    }
   ],
   "source": [
    "# Generating Confusion Matrix and Classification Report\n",
    "Y_pred_vgg = vgg_model.predict_generator(test_generator, num_of_validation_samples // batch_size+1)\n",
    "y_pred_vgg = np.argmax(Y_pred_vgg, axis=1)\n",
    "print('Confusion Matrix')\n",
    "conf_matrix_vgg = confusion_matrix(test_generator.classes, y_pred_vgg)\n",
    "cm_vgg = np.array2string(conf_matrix_vgg)\n",
    "print(conf_matrix_vgg)\n",
    "print(\"=============================================================================================\")\n",
    "print('Classification Report')\n",
    "target_names = ['Catla','Mrigal','Rohu','Tilapia','Tuna']\n",
    "class_rep_vgg = classification_report(test_generator.classes, y_pred_vgg, target_names=target_names)\n",
    "print(class_rep_vgg)"
   ]
  },
  {
   "cell_type": "code",
   "execution_count": 38,
   "id": "c53d9186",
   "metadata": {},
   "outputs": [
    {
     "data": {
      "image/png": "[encoded data removed]",
      "text/plain": [
       "<Figure size 432x288 with 2 Axes>"
      ]
     },
     "metadata": {
      "needs_background": "light"
     },
     "output_type": "display_data"
    }
   ],
   "source": [
    "import matplotlib.pyplot as plt\n",
    "disp=ConfusionMatrixDisplay(conf_matrix_vgg,display_labels=target_names)\n",
    "disp.plot()\n",
    "plt.show()"
   ]
  },
  {
   "cell_type": "code",
   "execution_count": null,
   "id": "f9a2afea",
   "metadata": {},
   "outputs": [],
   "source": []
  }
 ],
 "metadata": {
  "kernelspec": {
   "display_name": "Python 3 (ipykernel)",
   "language": "python",
   "name": "python3"
  },
  "language_info": {
   "codemirror_mode": {
    "name": "ipython",
    "version": 3
   },
   "file_extension": ".py",
   "mimetype": "text/x-python",
   "name": "python",
   "nbconvert_exporter": "python",
   "pygments_lexer": "ipython3",
   "version": "3.9.12"
  }
 },
 "nbformat": 4,
 "nbformat_minor": 5
}
