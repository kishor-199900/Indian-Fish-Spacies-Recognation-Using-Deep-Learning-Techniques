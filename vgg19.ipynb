{
 "cells": [
  {
   "cell_type": "code",
   "execution_count": 1,
   "id": "5f949f1f",
   "metadata": {},
   "outputs": [],
   "source": [
    "import numpy as np # linear algebra\n",
    "import pandas as pd # data processing, CSV file I/O (e.g. pd.read_csv)\n",
    "import os\n",
    "import sys\n",
    "import shutil   \n",
    "import matplotlib.pyplot as plt\n",
    "from keras import backend as K\n",
    "from keras.models import Sequential\n",
    "from keras import optimizers\n",
    "from keras.layers.core import Dense, Dropout, Activation, Flatten\n",
    "from keras.layers.convolutional import Convolution2D, MaxPooling2D\n",
    "from keras.layers import Dense, GlobalAveragePooling2D, Dropout\n",
    "from keras.preprocessing.image import ImageDataGenerator\n",
    "from keras.callbacks import History \n",
    "from sklearn.metrics import classification_report, confusion_matrix,plot_confusion_matrix,ConfusionMatrixDisplay,accuracy_score\n",
    "import keras\n",
    "from keras.layers.convolutional import Conv2D\n",
    "from keras.layers import Dense\n",
    "from keras.layers.convolutional import MaxPooling2D\n",
    "from keras.layers import Flatten\n",
    "# from keras.layers import LeakyReLU\n",
    "# from keras.layers.normalization import batch_normalization\n",
    "keras.layers.BatchNormalization(axis=-1, momentum=0.99, epsilon=0.001, center=True, \n",
    "                                scale=True, beta_initializer='zeros', gamma_initializer='ones',\n",
    "                                moving_mean_initializer='zeros', moving_variance_initializer='ones', \n",
    "                                beta_regularizer=None, gamma_regularizer=None, beta_constraint=None, \n",
    "                                gamma_constraint=None)\n",
    "\n",
    "import warnings\n",
    "warnings.filterwarnings('ignore')\n",
    "# import os\n",
    "# for dirname, _, filenames in os.walk('/kaggle/input'):\n",
    "#     for filename in filenames:\n",
    "#         print(os.path.join(dirname, filename))"
   ]
  },
  {
   "cell_type": "code",
   "execution_count": 2,
   "id": "b2b4034e",
   "metadata": {},
   "outputs": [],
   "source": [
    "train = 'c:/Users/jadha/Data/MTP_data_underwater/Train'\n",
    "val = 'c:/Users/jadha/Data/MTP_data_underwater/Val'\n",
    "test = 'c:/Users/jadha/Data/MTP_data_underwater/Test'"
   ]
  },
  {
   "cell_type": "code",
   "execution_count": 3,
   "id": "df151914",
   "metadata": {},
   "outputs": [
    {
     "name": "stdout",
     "output_type": "stream",
     "text": [
      "Number of Training samples   :  459\n",
      "Number of Validation samples :  90\n",
      "Number of Test samples :  53\n"
     ]
    }
   ],
   "source": [
    "# Total number of training images\n",
    "num_of_train_samples = 0\n",
    "for train_dataset in os.listdir(train):\n",
    "    in_folder = train + \"/\" + train_dataset \n",
    "    in_folder_list = os.listdir(in_folder)\n",
    "    num_of_train_samples = num_of_train_samples + len(in_folder_list)\n",
    "print(\"Number of Training samples   : \",num_of_train_samples)\n",
    "\n",
    "# Total number of validation images\n",
    "num_of_validation_samples = 0\n",
    "for validation_dataset in os.listdir(val):\n",
    "    in_folder_val = val + \"/\" + validation_dataset\n",
    "    in_folder_val_list = os.listdir(in_folder_val)\n",
    "    num_of_validation_samples = num_of_validation_samples + len(in_folder_val_list)\n",
    "print(\"Number of Validation samples : \", num_of_validation_samples)\n",
    "\n",
    "# Total number of testing images\n",
    "num_of_test_samples = 0\n",
    "for testing_dataset in os.listdir(test):\n",
    "    in_folder_test = test + \"/\" + testing_dataset\n",
    "    in_folder_test_list = os.listdir(in_folder_test)\n",
    "    num_of_test_samples = num_of_test_samples + len(in_folder_test_list)\n",
    "print(\"Number of Test samples : \", num_of_test_samples)"
   ]
  },
  {
   "cell_type": "code",
   "execution_count": 4,
   "id": "caf56014",
   "metadata": {},
   "outputs": [
    {
     "name": "stdout",
     "output_type": "stream",
     "text": [
      "Catla\n",
      "Mrigal\n",
      "Rohu\n",
      "Tilapia\n",
      "Tuna\n"
     ]
    }
   ],
   "source": [
    "for validation_dataset in os.listdir(train):\n",
    "    print(validation_dataset)"
   ]
  },
  {
   "cell_type": "code",
   "execution_count": 5,
   "id": "5af5c9e8",
   "metadata": {},
   "outputs": [],
   "source": [
    "train_datagen = ImageDataGenerator(rescale=1. / 255,\n",
    "                                   rotation_range=40,\n",
    "                                   shear_range=0.2,\n",
    "                                   zoom_range=0.2,\n",
    "                                   horizontal_flip=True,\n",
    "                                   fill_mode='nearest')\n",
    "\n",
    "val_datagen = ImageDataGenerator(rescale=1. / 255)\n",
    "\n",
    "test_datagen=ImageDataGenerator(rescale=1./255)"
   ]
  },
  {
   "cell_type": "code",
   "execution_count": 6,
   "id": "2c9a2cba",
   "metadata": {},
   "outputs": [],
   "source": [
    "batch_size = 16\n",
    "learning_rate = 0.01\n",
    "epoch = 100\n",
    "\n",
    "# Defining image width and height respectively\n",
    "img_rows = 256\n",
    "img_cols = 256"
   ]
  },
  {
   "cell_type": "code",
   "execution_count": 7,
   "id": "cda30a4f",
   "metadata": {},
   "outputs": [
    {
     "name": "stdout",
     "output_type": "stream",
     "text": [
      "Found 459 images belonging to 5 classes.\n",
      "Found 90 images belonging to 5 classes.\n",
      "Found 53 images belonging to 5 classes.\n"
     ]
    }
   ],
   "source": [
    "train_generator = train_datagen.flow_from_directory(train,\n",
    "                                                    target_size = (img_rows, img_cols),\n",
    "                                                    batch_size = batch_size,\n",
    "                                                    class_mode = 'categorical')\n",
    "\n",
    "validation_generator = val_datagen.flow_from_directory(val,\n",
    "                                                        target_size = (img_rows, img_cols),\n",
    "                                                        batch_size = batch_size,\n",
    "                                                        shuffle = False, class_mode='categorical')\n",
    "\n",
    "test_generator = test_datagen.flow_from_directory(test,\n",
    "                                                        target_size = (img_rows, img_cols),\n",
    "                                                        batch_size = batch_size,\n",
    "                                                        shuffle = False, class_mode='categorical')"
   ]
  },
  {
   "cell_type": "code",
   "execution_count": 8,
   "id": "c7cb4cbe",
   "metadata": {},
   "outputs": [
    {
     "data": {
      "text/plain": [
       "array([[[0.5254902 , 0.5254902 , 0.5176471 ],\n",
       "        [0.52416724, 0.52416724, 0.5163241 ],\n",
       "        [0.5220324 , 0.5220324 , 0.51418924],\n",
       "        ...,\n",
       "        [0.47058827, 0.4666667 , 0.44705886],\n",
       "        [0.47058827, 0.4666667 , 0.44705886],\n",
       "        [0.46991664, 0.46599507, 0.44638723]],\n",
       "\n",
       "       [[0.52497977, 0.52497977, 0.51713663],\n",
       "        [0.5254902 , 0.5254902 , 0.5176471 ],\n",
       "        [0.5254902 , 0.5254902 , 0.5176471 ],\n",
       "        ...,\n",
       "        [0.47058827, 0.4666667 , 0.44705886],\n",
       "        [0.47058827, 0.4666667 , 0.44705886],\n",
       "        [0.46532983, 0.46140826, 0.44180042]],\n",
       "\n",
       "       [[0.52156866, 0.52156866, 0.5137255 ],\n",
       "        [0.52349436, 0.52349436, 0.5156512 ],\n",
       "        [0.5254902 , 0.5254902 , 0.5176471 ],\n",
       "        ...,\n",
       "        [0.47058827, 0.4666667 , 0.44705886],\n",
       "        [0.46751887, 0.4635973 , 0.44398943],\n",
       "        [0.46274513, 0.45882356, 0.43921572]],\n",
       "\n",
       "       ...,\n",
       "\n",
       "       [[0.52156866, 0.5294118 , 0.5176471 ],\n",
       "        [0.5191818 , 0.5270249 , 0.5152602 ],\n",
       "        [0.5176471 , 0.5254902 , 0.5137255 ],\n",
       "        ...,\n",
       "        [0.4039216 , 0.427451  , 0.427451  ],\n",
       "        [0.4039216 , 0.42545512, 0.43144277],\n",
       "        [0.4039216 , 0.42352945, 0.43529415]],\n",
       "\n",
       "       [[0.5202763 , 0.52811944, 0.51635474],\n",
       "        [0.5176471 , 0.5254902 , 0.5137255 ],\n",
       "        [0.51719695, 0.5250401 , 0.5132754 ],\n",
       "        ...,\n",
       "        [0.4039216 , 0.427451  , 0.427451  ],\n",
       "        [0.4039216 , 0.427451  , 0.427451  ],\n",
       "        [0.4039216 , 0.4269405 , 0.42847204]],\n",
       "\n",
       "       [[0.5179829 , 0.52582604, 0.51406133],\n",
       "        [0.5176471 , 0.5254902 , 0.5137255 ],\n",
       "        [0.51261014, 0.5204533 , 0.50868857],\n",
       "        ...,\n",
       "        [0.4039216 , 0.427451  , 0.427451  ],\n",
       "        [0.4039216 , 0.427451  , 0.427451  ],\n",
       "        [0.4039216 , 0.427451  , 0.427451  ]]], dtype=float32)"
      ]
     },
     "execution_count": 8,
     "metadata": {},
     "output_type": "execute_result"
    }
   ],
   "source": [
    "px=train_generator[4][0][7]\n",
    "px"
   ]
  },
  {
   "cell_type": "code",
   "execution_count": 9,
   "id": "62724c41",
   "metadata": {},
   "outputs": [
    {
     "data": {
      "text/plain": [
       "(256, 256, 3)"
      ]
     },
     "execution_count": 9,
     "metadata": {},
     "output_type": "execute_result"
    }
   ],
   "source": [
    "px.shape"
   ]
  },
  {
   "cell_type": "code",
   "execution_count": 10,
   "id": "0e8913a7",
   "metadata": {},
   "outputs": [
    {
     "data": {
      "text/plain": [
       "<matplotlib.image.AxesImage at 0x2dc550f3670>"
      ]
     },
     "execution_count": 10,
     "metadata": {},
     "output_type": "execute_result"
    },
    {
     "data": {
      "image/png": "[encoded data removed]",
      "text/plain": [
       "<Figure size 432x288 with 1 Axes>"
      ]
     },
     "metadata": {
      "needs_background": "light"
     },
     "output_type": "display_data"
    }
   ],
   "source": [
    "plt.imshow(px)"
   ]
  },
  {
   "cell_type": "code",
   "execution_count": 11,
   "id": "0f0fefe0",
   "metadata": {},
   "outputs": [
    {
     "data": {
      "text/plain": [
       "'float32'"
      ]
     },
     "execution_count": 11,
     "metadata": {},
     "output_type": "execute_result"
    }
   ],
   "source": [
    "test_generator.dtype"
   ]
  },
  {
   "cell_type": "code",
   "execution_count": 12,
   "id": "8ec67f0e",
   "metadata": {},
   "outputs": [
    {
     "data": {
      "text/plain": [
       "array([[1., 0., 0., 0., 0.],\n",
       "       [1., 0., 0., 0., 0.],\n",
       "       [1., 0., 0., 0., 0.],\n",
       "       [1., 0., 0., 0., 0.],\n",
       "       [1., 0., 0., 0., 0.],\n",
       "       [1., 0., 0., 0., 0.],\n",
       "       [1., 0., 0., 0., 0.],\n",
       "       [1., 0., 0., 0., 0.],\n",
       "       [1., 0., 0., 0., 0.],\n",
       "       [1., 0., 0., 0., 0.],\n",
       "       [1., 0., 0., 0., 0.],\n",
       "       [0., 1., 0., 0., 0.],\n",
       "       [0., 1., 0., 0., 0.],\n",
       "       [0., 1., 0., 0., 0.],\n",
       "       [0., 1., 0., 0., 0.],\n",
       "       [0., 1., 0., 0., 0.]], dtype=float32)"
      ]
     },
     "execution_count": 12,
     "metadata": {},
     "output_type": "execute_result"
    }
   ],
   "source": [
    "# for i in test_generator:\n",
    "#         print(i)\n",
    "test_generator[0][-1]"
   ]
  },
  {
   "cell_type": "markdown",
   "id": "dd70c06e",
   "metadata": {},
   "source": [
    "# Create model\n",
    "add new classification layer"
   ]
  },
  {
   "cell_type": "code",
   "execution_count": 13,
   "id": "95464874",
   "metadata": {},
   "outputs": [
    {
     "name": "stdout",
     "output_type": "stream",
     "text": [
      "Steps per epoch:  28\n"
     ]
    }
   ],
   "source": [
    "steps_per_epoch_vgg19 = num_of_train_samples // batch_size\n",
    "print(\"Steps per epoch: \",steps_per_epoch_vgg19)"
   ]
  },
  {
   "cell_type": "code",
   "execution_count": 14,
   "id": "7baffb1a",
   "metadata": {},
   "outputs": [
    {
     "name": "stdout",
     "output_type": "stream",
     "text": [
      "Model: \"sequential\"\n",
      "_________________________________________________________________\n",
      " Layer (type)                Output Shape              Param #   \n",
      "=================================================================\n",
      " vgg19 (Functional)          (None, 512)               20024384  \n",
      "                                                                 \n",
      " dense (Dense)               (None, 5)                 2565      \n",
      "                                                                 \n",
      "=================================================================\n",
      "Total params: 20,026,949\n",
      "Trainable params: 2,565\n",
      "Non-trainable params: 20,024,384\n",
      "_________________________________________________________________\n"
     ]
    }
   ],
   "source": [
    "from keras.applications import vgg19\n",
    "    # The sequential API allows you to create models layer-by-layer\n",
    "vgg19_model=Sequential()\n",
    "vgg19_model.add(vgg19.VGG19(include_top = False, \n",
    "                            pooling = 'max', \n",
    "                            weights = 'imagenet'))\n",
    "vgg19_model.add(Dense(5, activation=\"softmax\"))\n",
    "\n",
    "    # Summary: to find the number of parameters\n",
    "vgg19_model.layers[0].trainable=False\n",
    "vgg19_model.summary() \n",
    "\n",
    "adam = optimizers.Adam(lr=learning_rate, beta_1=0.9, beta_2=0.999, epsilon=1e-08, decay=0.00001)\n",
    "vgg19_model.compile(loss=\"categorical_crossentropy\",\n",
    "                  optimizer=adam,\n",
    "                  metrics=[\"accuracy\"])"
   ]
  },
  {
   "cell_type": "code",
   "execution_count": 15,
   "id": "2f62b1b0",
   "metadata": {},
   "outputs": [
    {
     "name": "stdout",
     "output_type": "stream",
     "text": [
      "Epoch 1/100\n",
      "28/28 [==============================] - 85s 3s/step - loss: 1.6109 - accuracy: 0.3431 - val_loss: 1.5502 - val_accuracy: 0.2875\n",
      "Epoch 2/100\n",
      "28/28 [==============================] - 80s 3s/step - loss: 1.2214 - accuracy: 0.4470 - val_loss: 1.6086 - val_accuracy: 0.4000\n",
      "Epoch 3/100\n",
      "28/28 [==============================] - 80s 3s/step - loss: 1.2273 - accuracy: 0.4898 - val_loss: 1.2768 - val_accuracy: 0.5000\n",
      "Epoch 4/100\n",
      "28/28 [==============================] - 80s 3s/step - loss: 1.0944 - accuracy: 0.5169 - val_loss: 1.1979 - val_accuracy: 0.5375\n",
      "Epoch 5/100\n",
      "28/28 [==============================] - 80s 3s/step - loss: 1.0120 - accuracy: 0.5621 - val_loss: 1.3694 - val_accuracy: 0.4000\n",
      "Epoch 6/100\n",
      "28/28 [==============================] - 80s 3s/step - loss: 1.0454 - accuracy: 0.5305 - val_loss: 1.2964 - val_accuracy: 0.4625\n",
      "Epoch 7/100\n",
      "28/28 [==============================] - 80s 3s/step - loss: 1.0031 - accuracy: 0.5621 - val_loss: 1.1244 - val_accuracy: 0.4625\n",
      "Epoch 8/100\n",
      "28/28 [==============================] - 87s 3s/step - loss: 0.9788 - accuracy: 0.5892 - val_loss: 1.4270 - val_accuracy: 0.4375\n",
      "Epoch 9/100\n",
      "28/28 [==============================] - 80s 3s/step - loss: 0.9544 - accuracy: 0.5982 - val_loss: 1.1458 - val_accuracy: 0.5250\n",
      "Epoch 10/100\n",
      "28/28 [==============================] - 80s 3s/step - loss: 0.9336 - accuracy: 0.5982 - val_loss: 1.0841 - val_accuracy: 0.5375\n",
      "Epoch 11/100\n",
      "28/28 [==============================] - 82s 3s/step - loss: 0.8940 - accuracy: 0.5959 - val_loss: 1.1707 - val_accuracy: 0.4500\n",
      "Epoch 12/100\n",
      "28/28 [==============================] - 80s 3s/step - loss: 0.9721 - accuracy: 0.5711 - val_loss: 1.1906 - val_accuracy: 0.5375\n",
      "Epoch 13/100\n",
      "28/28 [==============================] - 81s 3s/step - loss: 0.9606 - accuracy: 0.6140 - val_loss: 1.2496 - val_accuracy: 0.5750\n",
      "Epoch 14/100\n",
      "28/28 [==============================] - 80s 3s/step - loss: 0.8638 - accuracy: 0.6230 - val_loss: 1.1090 - val_accuracy: 0.5375\n",
      "Epoch 15/100\n",
      "28/28 [==============================] - 80s 3s/step - loss: 0.8700 - accuracy: 0.6411 - val_loss: 1.0532 - val_accuracy: 0.5375\n",
      "Epoch 16/100\n",
      "28/28 [==============================] - 80s 3s/step - loss: 0.8776 - accuracy: 0.6275 - val_loss: 1.0134 - val_accuracy: 0.5500\n",
      "Epoch 17/100\n",
      "28/28 [==============================] - 80s 3s/step - loss: 0.8001 - accuracy: 0.6682 - val_loss: 1.0125 - val_accuracy: 0.5875\n",
      "Epoch 18/100\n",
      "28/28 [==============================] - 80s 3s/step - loss: 0.9192 - accuracy: 0.6253 - val_loss: 1.1805 - val_accuracy: 0.5375\n",
      "Epoch 19/100\n",
      "28/28 [==============================] - 80s 3s/step - loss: 0.8247 - accuracy: 0.6524 - val_loss: 1.0477 - val_accuracy: 0.5000\n",
      "Epoch 20/100\n",
      "28/28 [==============================] - 80s 3s/step - loss: 0.8308 - accuracy: 0.6749 - val_loss: 1.1130 - val_accuracy: 0.4875\n",
      "Epoch 21/100\n",
      "28/28 [==============================] - 80s 3s/step - loss: 0.9092 - accuracy: 0.6230 - val_loss: 0.9422 - val_accuracy: 0.6250\n",
      "Epoch 22/100\n",
      "28/28 [==============================] - 80s 3s/step - loss: 0.7798 - accuracy: 0.6975 - val_loss: 1.0174 - val_accuracy: 0.5625\n",
      "Epoch 23/100\n",
      "28/28 [==============================] - 80s 3s/step - loss: 0.7506 - accuracy: 0.6907 - val_loss: 0.9964 - val_accuracy: 0.5875\n",
      "Epoch 24/100\n",
      "28/28 [==============================] - 81s 3s/step - loss: 0.8141 - accuracy: 0.6585 - val_loss: 1.0749 - val_accuracy: 0.5750\n",
      "Epoch 25/100\n",
      "28/28 [==============================] - 80s 3s/step - loss: 0.8146 - accuracy: 0.6907 - val_loss: 1.1575 - val_accuracy: 0.6000\n",
      "Epoch 26/100\n",
      "28/28 [==============================] - 80s 3s/step - loss: 0.8329 - accuracy: 0.6546 - val_loss: 1.5730 - val_accuracy: 0.4875\n",
      "Epoch 27/100\n",
      "28/28 [==============================] - 80s 3s/step - loss: 0.7759 - accuracy: 0.7133 - val_loss: 0.9818 - val_accuracy: 0.5375\n",
      "Epoch 28/100\n",
      "28/28 [==============================] - 80s 3s/step - loss: 0.7281 - accuracy: 0.7133 - val_loss: 1.0387 - val_accuracy: 0.5750\n",
      "Epoch 29/100\n",
      "28/28 [==============================] - 81s 3s/step - loss: 0.7676 - accuracy: 0.6830 - val_loss: 0.9469 - val_accuracy: 0.5875\n",
      "Epoch 30/100\n",
      "28/28 [==============================] - 80s 3s/step - loss: 0.7495 - accuracy: 0.6953 - val_loss: 1.1427 - val_accuracy: 0.6000\n",
      "Epoch 31/100\n",
      "28/28 [==============================] - 80s 3s/step - loss: 0.7214 - accuracy: 0.7065 - val_loss: 0.9977 - val_accuracy: 0.6000\n",
      "Epoch 32/100\n",
      "28/28 [==============================] - 80s 3s/step - loss: 0.8506 - accuracy: 0.6546 - val_loss: 1.2179 - val_accuracy: 0.4875\n",
      "Epoch 33/100\n",
      "28/28 [==============================] - 81s 3s/step - loss: 0.7803 - accuracy: 0.6975 - val_loss: 0.9377 - val_accuracy: 0.5750\n",
      "Epoch 34/100\n",
      "28/28 [==============================] - 80s 3s/step - loss: 0.7808 - accuracy: 0.6817 - val_loss: 0.9064 - val_accuracy: 0.6000\n",
      "Epoch 35/100\n",
      "28/28 [==============================] - 80s 3s/step - loss: 0.7581 - accuracy: 0.6975 - val_loss: 0.9830 - val_accuracy: 0.5750\n",
      "Epoch 36/100\n",
      "28/28 [==============================] - 80s 3s/step - loss: 0.7237 - accuracy: 0.7065 - val_loss: 0.9949 - val_accuracy: 0.6000\n",
      "Epoch 37/100\n",
      "28/28 [==============================] - 80s 3s/step - loss: 0.6751 - accuracy: 0.7336 - val_loss: 1.0082 - val_accuracy: 0.5875\n",
      "Epoch 38/100\n",
      "28/28 [==============================] - 80s 3s/step - loss: 0.6869 - accuracy: 0.7111 - val_loss: 0.9125 - val_accuracy: 0.6125\n",
      "Epoch 39/100\n",
      "28/28 [==============================] - 80s 3s/step - loss: 0.7060 - accuracy: 0.7449 - val_loss: 0.8701 - val_accuracy: 0.5875\n",
      "Epoch 40/100\n",
      "28/28 [==============================] - 80s 3s/step - loss: 0.7097 - accuracy: 0.7178 - val_loss: 1.1505 - val_accuracy: 0.5750\n",
      "Epoch 41/100\n",
      "28/28 [==============================] - 80s 3s/step - loss: 0.7193 - accuracy: 0.7043 - val_loss: 1.1015 - val_accuracy: 0.5875\n",
      "Epoch 42/100\n",
      "28/28 [==============================] - 80s 3s/step - loss: 0.7046 - accuracy: 0.7291 - val_loss: 1.0325 - val_accuracy: 0.5750\n",
      "Epoch 43/100\n",
      "28/28 [==============================] - 80s 3s/step - loss: 0.7160 - accuracy: 0.6998 - val_loss: 0.9933 - val_accuracy: 0.5875\n",
      "Epoch 44/100\n",
      "28/28 [==============================] - 80s 3s/step - loss: 0.7060 - accuracy: 0.7178 - val_loss: 1.0496 - val_accuracy: 0.5125\n",
      "Epoch 45/100\n",
      "28/28 [==============================] - 81s 3s/step - loss: 0.7022 - accuracy: 0.7201 - val_loss: 0.9443 - val_accuracy: 0.6000\n",
      "Epoch 46/100\n",
      "28/28 [==============================] - 80s 3s/step - loss: 0.6274 - accuracy: 0.7607 - val_loss: 0.9989 - val_accuracy: 0.5750\n",
      "Epoch 47/100\n",
      "28/28 [==============================] - 80s 3s/step - loss: 0.6918 - accuracy: 0.7065 - val_loss: 0.9108 - val_accuracy: 0.5750\n",
      "Epoch 48/100\n",
      "28/28 [==============================] - 80s 3s/step - loss: 0.6528 - accuracy: 0.7540 - val_loss: 0.9838 - val_accuracy: 0.6125\n",
      "Epoch 49/100\n",
      "28/28 [==============================] - 80s 3s/step - loss: 0.6411 - accuracy: 0.7540 - val_loss: 0.9569 - val_accuracy: 0.5250\n",
      "Epoch 50/100\n",
      "28/28 [==============================] - 88s 3s/step - loss: 0.6509 - accuracy: 0.7223 - val_loss: 1.0849 - val_accuracy: 0.6125\n",
      "Epoch 51/100\n",
      "28/28 [==============================] - 98s 4s/step - loss: 0.7209 - accuracy: 0.7156 - val_loss: 1.0163 - val_accuracy: 0.6000\n",
      "Epoch 52/100\n",
      "28/28 [==============================] - 98s 4s/step - loss: 0.7140 - accuracy: 0.7111 - val_loss: 0.9747 - val_accuracy: 0.6125\n",
      "Epoch 53/100\n",
      "28/28 [==============================] - 98s 4s/step - loss: 0.6764 - accuracy: 0.7088 - val_loss: 1.0827 - val_accuracy: 0.6000\n",
      "Epoch 54/100\n",
      "28/28 [==============================] - 98s 3s/step - loss: 0.6459 - accuracy: 0.7427 - val_loss: 0.9680 - val_accuracy: 0.6250\n",
      "Epoch 55/100\n",
      "28/28 [==============================] - 98s 4s/step - loss: 0.5848 - accuracy: 0.7833 - val_loss: 0.9536 - val_accuracy: 0.6250\n",
      "Epoch 56/100\n",
      "28/28 [==============================] - 98s 4s/step - loss: 0.6760 - accuracy: 0.7336 - val_loss: 1.2417 - val_accuracy: 0.5125\n",
      "Epoch 57/100\n",
      "28/28 [==============================] - 98s 3s/step - loss: 0.6838 - accuracy: 0.7223 - val_loss: 0.9606 - val_accuracy: 0.6500\n",
      "Epoch 58/100\n",
      "28/28 [==============================] - 98s 3s/step - loss: 0.6077 - accuracy: 0.7562 - val_loss: 1.2663 - val_accuracy: 0.5000\n"
     ]
    },
    {
     "name": "stdout",
     "output_type": "stream",
     "text": [
      "Epoch 59/100\n",
      "28/28 [==============================] - 2251s 83s/step - loss: 0.6734 - accuracy: 0.7314 - val_loss: 1.0004 - val_accuracy: 0.5875\n",
      "Epoch 60/100\n",
      "28/28 [==============================] - 75s 3s/step - loss: 0.7134 - accuracy: 0.7065 - val_loss: 0.9254 - val_accuracy: 0.6625\n",
      "Epoch 61/100\n",
      "28/28 [==============================] - 74s 3s/step - loss: 0.5628 - accuracy: 0.7765 - val_loss: 1.0973 - val_accuracy: 0.5875\n",
      "Epoch 62/100\n",
      "28/28 [==============================] - 81s 3s/step - loss: 0.6510 - accuracy: 0.7472 - val_loss: 1.1166 - val_accuracy: 0.6000\n",
      "Epoch 63/100\n",
      "28/28 [==============================] - 85s 3s/step - loss: 0.6416 - accuracy: 0.7246 - val_loss: 1.0056 - val_accuracy: 0.6375\n",
      "Epoch 64/100\n",
      "28/28 [==============================] - 94s 3s/step - loss: 0.6927 - accuracy: 0.7065 - val_loss: 0.9955 - val_accuracy: 0.6250\n",
      "Epoch 65/100\n",
      "28/28 [==============================] - 90s 3s/step - loss: 0.7149 - accuracy: 0.6930 - val_loss: 0.9542 - val_accuracy: 0.6500\n",
      "Epoch 66/100\n",
      "28/28 [==============================] - 88s 3s/step - loss: 0.7104 - accuracy: 0.7088 - val_loss: 1.0759 - val_accuracy: 0.5500\n",
      "Epoch 67/100\n",
      "28/28 [==============================] - 84s 3s/step - loss: 0.6046 - accuracy: 0.7720 - val_loss: 1.1057 - val_accuracy: 0.5625\n",
      "Epoch 68/100\n",
      "28/28 [==============================] - 82s 3s/step - loss: 0.6012 - accuracy: 0.7585 - val_loss: 1.1236 - val_accuracy: 0.5500\n",
      "Epoch 69/100\n",
      "28/28 [==============================] - 84s 3s/step - loss: 0.6318 - accuracy: 0.7404 - val_loss: 1.1361 - val_accuracy: 0.5125\n",
      "Epoch 70/100\n",
      "28/28 [==============================] - 84s 3s/step - loss: 0.6461 - accuracy: 0.7269 - val_loss: 0.9302 - val_accuracy: 0.6250\n",
      "Epoch 71/100\n",
      "28/28 [==============================] - 87s 3s/step - loss: 0.5959 - accuracy: 0.7856 - val_loss: 1.2305 - val_accuracy: 0.5500\n",
      "Epoch 72/100\n",
      "28/28 [==============================] - 85s 3s/step - loss: 0.6628 - accuracy: 0.7291 - val_loss: 1.6784 - val_accuracy: 0.5000\n",
      "Epoch 73/100\n",
      "28/28 [==============================] - 83s 3s/step - loss: 0.8083 - accuracy: 0.6998 - val_loss: 0.9300 - val_accuracy: 0.6625\n",
      "Epoch 74/100\n",
      "28/28 [==============================] - 88s 3s/step - loss: 0.7205 - accuracy: 0.7088 - val_loss: 0.9761 - val_accuracy: 0.6125\n",
      "Epoch 75/100\n",
      "28/28 [==============================] - 89s 3s/step - loss: 0.6073 - accuracy: 0.7698 - val_loss: 1.0664 - val_accuracy: 0.5875\n",
      "Epoch 76/100\n",
      "28/28 [==============================] - 90s 3s/step - loss: 0.6670 - accuracy: 0.7314 - val_loss: 1.1791 - val_accuracy: 0.5625\n",
      "Epoch 77/100\n",
      "28/28 [==============================] - 92s 3s/step - loss: 0.7332 - accuracy: 0.6987 - val_loss: 0.9862 - val_accuracy: 0.6000\n",
      "Epoch 78/100\n",
      "28/28 [==============================] - 89s 3s/step - loss: 0.6728 - accuracy: 0.7291 - val_loss: 1.1723 - val_accuracy: 0.5875\n",
      "Epoch 79/100\n",
      "28/28 [==============================] - 89s 3s/step - loss: 0.5891 - accuracy: 0.7788 - val_loss: 1.0522 - val_accuracy: 0.6375\n",
      "Epoch 80/100\n",
      "28/28 [==============================] - 92s 3s/step - loss: 0.6450 - accuracy: 0.7427 - val_loss: 1.1397 - val_accuracy: 0.5750\n",
      "Epoch 81/100\n",
      "28/28 [==============================] - 83s 3s/step - loss: 0.7091 - accuracy: 0.7156 - val_loss: 1.0821 - val_accuracy: 0.6125\n",
      "Epoch 82/100\n",
      "28/28 [==============================] - 81s 3s/step - loss: 0.5720 - accuracy: 0.7810 - val_loss: 1.0091 - val_accuracy: 0.6250\n",
      "Epoch 83/100\n",
      "28/28 [==============================] - 81s 3s/step - loss: 0.6394 - accuracy: 0.7517 - val_loss: 1.2273 - val_accuracy: 0.5875\n",
      "Epoch 84/100\n",
      "28/28 [==============================] - 84s 3s/step - loss: 0.6364 - accuracy: 0.7381 - val_loss: 1.0244 - val_accuracy: 0.6125\n",
      "Epoch 85/100\n",
      "28/28 [==============================] - 322s 12s/step - loss: 0.6833 - accuracy: 0.7314 - val_loss: 1.0656 - val_accuracy: 0.6125\n",
      "Epoch 86/100\n",
      "28/28 [==============================] - 73s 3s/step - loss: 0.6127 - accuracy: 0.7562 - val_loss: 1.3084 - val_accuracy: 0.5500\n",
      "Epoch 87/100\n",
      "28/28 [==============================] - 72s 3s/step - loss: 0.7140 - accuracy: 0.6998 - val_loss: 1.3338 - val_accuracy: 0.5375\n",
      "Epoch 88/100\n",
      "28/28 [==============================] - 72s 3s/step - loss: 0.5926 - accuracy: 0.7765 - val_loss: 0.9769 - val_accuracy: 0.5875\n",
      "Epoch 89/100\n",
      "28/28 [==============================] - 72s 3s/step - loss: 0.5783 - accuracy: 0.7630 - val_loss: 1.3418 - val_accuracy: 0.5250\n",
      "Epoch 90/100\n",
      "28/28 [==============================] - 80s 3s/step - loss: 0.6622 - accuracy: 0.7381 - val_loss: 1.0503 - val_accuracy: 0.6375\n",
      "Epoch 91/100\n",
      "28/28 [==============================] - 89s 3s/step - loss: 0.5865 - accuracy: 0.7788 - val_loss: 1.0241 - val_accuracy: 0.6000\n",
      "Epoch 92/100\n",
      "28/28 [==============================] - 86s 3s/step - loss: 0.8011 - accuracy: 0.7043 - val_loss: 0.9785 - val_accuracy: 0.6375\n",
      "Epoch 93/100\n",
      "28/28 [==============================] - 81s 3s/step - loss: 0.6334 - accuracy: 0.7449 - val_loss: 1.0020 - val_accuracy: 0.6375\n",
      "Epoch 94/100\n",
      "28/28 [==============================] - 80s 3s/step - loss: 0.6493 - accuracy: 0.7223 - val_loss: 1.0438 - val_accuracy: 0.6375\n",
      "Epoch 95/100\n",
      "28/28 [==============================] - 80s 3s/step - loss: 0.6537 - accuracy: 0.7223 - val_loss: 0.9027 - val_accuracy: 0.6875\n",
      "Epoch 96/100\n",
      "28/28 [==============================] - 459s 17s/step - loss: 0.6647 - accuracy: 0.7269 - val_loss: 0.9830 - val_accuracy: 0.6375\n",
      "Epoch 97/100\n",
      "28/28 [==============================] - 78s 3s/step - loss: 0.6068 - accuracy: 0.7359 - val_loss: 1.0883 - val_accuracy: 0.6000\n",
      "Epoch 98/100\n",
      "28/28 [==============================] - 72s 3s/step - loss: 0.6811 - accuracy: 0.7427 - val_loss: 1.4186 - val_accuracy: 0.5875\n",
      "Epoch 99/100\n",
      "28/28 [==============================] - 72s 3s/step - loss: 0.6960 - accuracy: 0.7111 - val_loss: 1.0364 - val_accuracy: 0.6125\n",
      "Epoch 100/100\n",
      "28/28 [==============================] - 72s 3s/step - loss: 0.5847 - accuracy: 0.7652 - val_loss: 1.0121 - val_accuracy: 0.6375\n"
     ]
    }
   ],
   "source": [
    "vgg19_training = vgg19_model.fit_generator(train_generator,\n",
    "                                       steps_per_epoch = steps_per_epoch_vgg19,\n",
    "                                       epochs = epoch,\n",
    "                                       validation_data = validation_generator,\n",
    "                                       validation_steps = num_of_validation_samples // batch_size)"
   ]
  },
  {
   "cell_type": "code",
   "execution_count": 16,
   "id": "d5941778",
   "metadata": {},
   "outputs": [
    {
     "data": {
      "text/plain": [
       "{'loss': [1.610887050628662,\n",
       "  1.2213637828826904,\n",
       "  1.2273197174072266,\n",
       "  1.0944204330444336,\n",
       "  1.012034296989441,\n",
       "  1.0453811883926392,\n",
       "  1.0030831098556519,\n",
       "  0.978804349899292,\n",
       "  0.9543555974960327,\n",
       "  0.9335663914680481,\n",
       "  0.8939616084098816,\n",
       "  0.9721455574035645,\n",
       "  0.9606013894081116,\n",
       "  0.8638128638267517,\n",
       "  0.8700118064880371,\n",
       "  0.8776378035545349,\n",
       "  0.8001048564910889,\n",
       "  0.9191855192184448,\n",
       "  0.8246961236000061,\n",
       "  0.8308054208755493,\n",
       "  0.9091527462005615,\n",
       "  0.7798164486885071,\n",
       "  0.7505531907081604,\n",
       "  0.8140689134597778,\n",
       "  0.8146459460258484,\n",
       "  0.8328843712806702,\n",
       "  0.7759185433387756,\n",
       "  0.7280538082122803,\n",
       "  0.7675551772117615,\n",
       "  0.7494857311248779,\n",
       "  0.7213683128356934,\n",
       "  0.8505589962005615,\n",
       "  0.7803369760513306,\n",
       "  0.7808002829551697,\n",
       "  0.7580945491790771,\n",
       "  0.7236890196800232,\n",
       "  0.6751023530960083,\n",
       "  0.6868662238121033,\n",
       "  0.7060101628303528,\n",
       "  0.7097392678260803,\n",
       "  0.719309389591217,\n",
       "  0.7046354413032532,\n",
       "  0.7160478234291077,\n",
       "  0.7059834003448486,\n",
       "  0.7021563649177551,\n",
       "  0.627447247505188,\n",
       "  0.6918048858642578,\n",
       "  0.6527755856513977,\n",
       "  0.641137421131134,\n",
       "  0.6509429812431335,\n",
       "  0.7208870053291321,\n",
       "  0.7139901518821716,\n",
       "  0.6764330267906189,\n",
       "  0.6458650827407837,\n",
       "  0.5847827792167664,\n",
       "  0.6760337948799133,\n",
       "  0.6837696433067322,\n",
       "  0.607698917388916,\n",
       "  0.6734244227409363,\n",
       "  0.7134345173835754,\n",
       "  0.5627965927124023,\n",
       "  0.6509699821472168,\n",
       "  0.6416158676147461,\n",
       "  0.6926929354667664,\n",
       "  0.7148727774620056,\n",
       "  0.7104155421257019,\n",
       "  0.6046106219291687,\n",
       "  0.6011542081832886,\n",
       "  0.6317955255508423,\n",
       "  0.6460509300231934,\n",
       "  0.5959040522575378,\n",
       "  0.6627554297447205,\n",
       "  0.8083028793334961,\n",
       "  0.7205464839935303,\n",
       "  0.6072799563407898,\n",
       "  0.6669965386390686,\n",
       "  0.7331809997558594,\n",
       "  0.6727903485298157,\n",
       "  0.5891472101211548,\n",
       "  0.6450441479682922,\n",
       "  0.7090891003608704,\n",
       "  0.5720020532608032,\n",
       "  0.6394292116165161,\n",
       "  0.6363652944564819,\n",
       "  0.6832705736160278,\n",
       "  0.6127389669418335,\n",
       "  0.713952898979187,\n",
       "  0.592621922492981,\n",
       "  0.5783137679100037,\n",
       "  0.6621543169021606,\n",
       "  0.5865418314933777,\n",
       "  0.8010774850845337,\n",
       "  0.6334007978439331,\n",
       "  0.6493210792541504,\n",
       "  0.6536681056022644,\n",
       "  0.664664626121521,\n",
       "  0.6067938208580017,\n",
       "  0.6811081767082214,\n",
       "  0.6959781646728516,\n",
       "  0.5847198367118835],\n",
       " 'accuracy': [0.3431151211261749,\n",
       "  0.44695258140563965,\n",
       "  0.4898419976234436,\n",
       "  0.5169300436973572,\n",
       "  0.56207674741745,\n",
       "  0.530474066734314,\n",
       "  0.56207674741745,\n",
       "  0.5891647934913635,\n",
       "  0.5981941223144531,\n",
       "  0.5981941223144531,\n",
       "  0.5959367752075195,\n",
       "  0.5711060762405396,\n",
       "  0.6139954924583435,\n",
       "  0.6230248212814331,\n",
       "  0.6410835385322571,\n",
       "  0.6275395154953003,\n",
       "  0.6681715846061707,\n",
       "  0.6252821683883667,\n",
       "  0.6523702144622803,\n",
       "  0.6749435663223267,\n",
       "  0.6230248212814331,\n",
       "  0.697516918182373,\n",
       "  0.690744936466217,\n",
       "  0.6584821343421936,\n",
       "  0.690744936466217,\n",
       "  0.6546275615692139,\n",
       "  0.7133182883262634,\n",
       "  0.7133182883262634,\n",
       "  0.6830357313156128,\n",
       "  0.6952595710754395,\n",
       "  0.7065462470054626,\n",
       "  0.6546275615692139,\n",
       "  0.697516918182373,\n",
       "  0.6817155480384827,\n",
       "  0.697516918182373,\n",
       "  0.7065462470054626,\n",
       "  0.7336342930793762,\n",
       "  0.7110609412193298,\n",
       "  0.7449209690093994,\n",
       "  0.7178329825401306,\n",
       "  0.7042889595031738,\n",
       "  0.7291196584701538,\n",
       "  0.6997742652893066,\n",
       "  0.7178329825401306,\n",
       "  0.7200902700424194,\n",
       "  0.7607223391532898,\n",
       "  0.7065462470054626,\n",
       "  0.7539503574371338,\n",
       "  0.7539503574371338,\n",
       "  0.722347617149353,\n",
       "  0.715575635433197,\n",
       "  0.7110609412193298,\n",
       "  0.7088035941123962,\n",
       "  0.7426636815071106,\n",
       "  0.7832956910133362,\n",
       "  0.7336342930793762,\n",
       "  0.722347617149353,\n",
       "  0.7562077045440674,\n",
       "  0.7313769459724426,\n",
       "  0.7065462470054626,\n",
       "  0.7765237092971802,\n",
       "  0.747178316116333,\n",
       "  0.7246049642562866,\n",
       "  0.7065462470054626,\n",
       "  0.6930022835731506,\n",
       "  0.7088035941123962,\n",
       "  0.772009015083313,\n",
       "  0.7584649920463562,\n",
       "  0.740406334400177,\n",
       "  0.7268623113632202,\n",
       "  0.7855530381202698,\n",
       "  0.7291196584701538,\n",
       "  0.6997742652893066,\n",
       "  0.7088035941123962,\n",
       "  0.7697516679763794,\n",
       "  0.7313769459724426,\n",
       "  0.6986607313156128,\n",
       "  0.7291196584701538,\n",
       "  0.7787810564041138,\n",
       "  0.7426636815071106,\n",
       "  0.715575635433197,\n",
       "  0.7810384035110474,\n",
       "  0.7516930103302002,\n",
       "  0.7381489872932434,\n",
       "  0.7313769459724426,\n",
       "  0.7562077045440674,\n",
       "  0.6997742652893066,\n",
       "  0.7765237092971802,\n",
       "  0.7629796862602234,\n",
       "  0.7381489872932434,\n",
       "  0.7787810564041138,\n",
       "  0.7042889595031738,\n",
       "  0.7449209690093994,\n",
       "  0.722347617149353,\n",
       "  0.722347617149353,\n",
       "  0.7268623113632202,\n",
       "  0.7358916401863098,\n",
       "  0.7426636815071106,\n",
       "  0.7110609412193298,\n",
       "  0.765237033367157],\n",
       " 'val_loss': [1.5502126216888428,\n",
       "  1.6085695028305054,\n",
       "  1.276841163635254,\n",
       "  1.1979482173919678,\n",
       "  1.3694192171096802,\n",
       "  1.2964388132095337,\n",
       "  1.1243679523468018,\n",
       "  1.42696213722229,\n",
       "  1.1457898616790771,\n",
       "  1.0841110944747925,\n",
       "  1.1706819534301758,\n",
       "  1.1906381845474243,\n",
       "  1.24958336353302,\n",
       "  1.108963966369629,\n",
       "  1.0532199144363403,\n",
       "  1.0133723020553589,\n",
       "  1.0124766826629639,\n",
       "  1.1804673671722412,\n",
       "  1.0476734638214111,\n",
       "  1.112953782081604,\n",
       "  0.9422338604927063,\n",
       "  1.017421841621399,\n",
       "  0.9964157342910767,\n",
       "  1.0748798847198486,\n",
       "  1.1575335264205933,\n",
       "  1.573014497756958,\n",
       "  0.9818421602249146,\n",
       "  1.0386826992034912,\n",
       "  0.9468549489974976,\n",
       "  1.142724633216858,\n",
       "  0.9977037310600281,\n",
       "  1.2179110050201416,\n",
       "  0.9376786947250366,\n",
       "  0.9064096212387085,\n",
       "  0.9829527735710144,\n",
       "  0.9948846101760864,\n",
       "  1.0081696510314941,\n",
       "  0.912481963634491,\n",
       "  0.8701153993606567,\n",
       "  1.1504557132720947,\n",
       "  1.1014645099639893,\n",
       "  1.0324527025222778,\n",
       "  0.9932929873466492,\n",
       "  1.0496364831924438,\n",
       "  0.9442642331123352,\n",
       "  0.998947024345398,\n",
       "  0.9108344316482544,\n",
       "  0.9838470220565796,\n",
       "  0.9569107890129089,\n",
       "  1.0849326848983765,\n",
       "  1.0162875652313232,\n",
       "  0.9746877551078796,\n",
       "  1.0826917886734009,\n",
       "  0.9680021405220032,\n",
       "  0.9536147117614746,\n",
       "  1.2417068481445312,\n",
       "  0.9605776071548462,\n",
       "  1.2663030624389648,\n",
       "  1.000380277633667,\n",
       "  0.9254361391067505,\n",
       "  1.0973457098007202,\n",
       "  1.1166120767593384,\n",
       "  1.005604863166809,\n",
       "  0.9955175518989563,\n",
       "  0.9542392492294312,\n",
       "  1.0759130716323853,\n",
       "  1.1056945323944092,\n",
       "  1.1235909461975098,\n",
       "  1.1360981464385986,\n",
       "  0.9302155375480652,\n",
       "  1.2304601669311523,\n",
       "  1.6783660650253296,\n",
       "  0.9299994707107544,\n",
       "  0.9761000871658325,\n",
       "  1.0664187669754028,\n",
       "  1.1790928840637207,\n",
       "  0.9862085580825806,\n",
       "  1.1722809076309204,\n",
       "  1.0521814823150635,\n",
       "  1.1397291421890259,\n",
       "  1.082115888595581,\n",
       "  1.0090563297271729,\n",
       "  1.227331280708313,\n",
       "  1.0244077444076538,\n",
       "  1.0655982494354248,\n",
       "  1.3084099292755127,\n",
       "  1.3337972164154053,\n",
       "  0.9769099950790405,\n",
       "  1.3418008089065552,\n",
       "  1.050301432609558,\n",
       "  1.0240771770477295,\n",
       "  0.9785113334655762,\n",
       "  1.0020010471343994,\n",
       "  1.0437535047531128,\n",
       "  0.902737021446228,\n",
       "  0.9829868078231812,\n",
       "  1.0883188247680664,\n",
       "  1.4186019897460938,\n",
       "  1.0363578796386719,\n",
       "  1.012131929397583],\n",
       " 'val_accuracy': [0.2874999940395355,\n",
       "  0.4000000059604645,\n",
       "  0.5,\n",
       "  0.5375000238418579,\n",
       "  0.4000000059604645,\n",
       "  0.4625000059604645,\n",
       "  0.4625000059604645,\n",
       "  0.4375,\n",
       "  0.5249999761581421,\n",
       "  0.5375000238418579,\n",
       "  0.44999998807907104,\n",
       "  0.5375000238418579,\n",
       "  0.574999988079071,\n",
       "  0.5375000238418579,\n",
       "  0.5375000238418579,\n",
       "  0.550000011920929,\n",
       "  0.5874999761581421,\n",
       "  0.5375000238418579,\n",
       "  0.5,\n",
       "  0.48750001192092896,\n",
       "  0.625,\n",
       "  0.5625,\n",
       "  0.5874999761581421,\n",
       "  0.574999988079071,\n",
       "  0.6000000238418579,\n",
       "  0.48750001192092896,\n",
       "  0.5375000238418579,\n",
       "  0.574999988079071,\n",
       "  0.5874999761581421,\n",
       "  0.6000000238418579,\n",
       "  0.6000000238418579,\n",
       "  0.48750001192092896,\n",
       "  0.574999988079071,\n",
       "  0.6000000238418579,\n",
       "  0.574999988079071,\n",
       "  0.6000000238418579,\n",
       "  0.5874999761581421,\n",
       "  0.612500011920929,\n",
       "  0.5874999761581421,\n",
       "  0.574999988079071,\n",
       "  0.5874999761581421,\n",
       "  0.574999988079071,\n",
       "  0.5874999761581421,\n",
       "  0.512499988079071,\n",
       "  0.6000000238418579,\n",
       "  0.574999988079071,\n",
       "  0.574999988079071,\n",
       "  0.612500011920929,\n",
       "  0.5249999761581421,\n",
       "  0.612500011920929,\n",
       "  0.6000000238418579,\n",
       "  0.612500011920929,\n",
       "  0.6000000238418579,\n",
       "  0.625,\n",
       "  0.625,\n",
       "  0.512499988079071,\n",
       "  0.6499999761581421,\n",
       "  0.5,\n",
       "  0.5874999761581421,\n",
       "  0.6625000238418579,\n",
       "  0.5874999761581421,\n",
       "  0.6000000238418579,\n",
       "  0.637499988079071,\n",
       "  0.625,\n",
       "  0.6499999761581421,\n",
       "  0.550000011920929,\n",
       "  0.5625,\n",
       "  0.550000011920929,\n",
       "  0.512499988079071,\n",
       "  0.625,\n",
       "  0.550000011920929,\n",
       "  0.5,\n",
       "  0.6625000238418579,\n",
       "  0.612500011920929,\n",
       "  0.5874999761581421,\n",
       "  0.5625,\n",
       "  0.6000000238418579,\n",
       "  0.5874999761581421,\n",
       "  0.637499988079071,\n",
       "  0.574999988079071,\n",
       "  0.612500011920929,\n",
       "  0.625,\n",
       "  0.5874999761581421,\n",
       "  0.612500011920929,\n",
       "  0.612500011920929,\n",
       "  0.550000011920929,\n",
       "  0.5375000238418579,\n",
       "  0.5874999761581421,\n",
       "  0.5249999761581421,\n",
       "  0.637499988079071,\n",
       "  0.6000000238418579,\n",
       "  0.637499988079071,\n",
       "  0.637499988079071,\n",
       "  0.637499988079071,\n",
       "  0.6875,\n",
       "  0.637499988079071,\n",
       "  0.6000000238418579,\n",
       "  0.5874999761581421,\n",
       "  0.612500011920929,\n",
       "  0.637499988079071]}"
      ]
     },
     "execution_count": 16,
     "metadata": {},
     "output_type": "execute_result"
    }
   ],
   "source": [
    "vgg19_training.history"
   ]
  },
  {
   "cell_type": "markdown",
   "id": "0d73350c",
   "metadata": {},
   "source": [
    "# Training accuracy"
   ]
  },
  {
   "cell_type": "code",
   "execution_count": 18,
   "id": "169e2a49",
   "metadata": {},
   "outputs": [
    {
     "name": "stdout",
     "output_type": "stream",
     "text": [
      "29/29 [==============================] - 63s 2s/step - loss: 0.5288 - accuracy: 0.7952\n"
     ]
    },
    {
     "data": {
      "text/plain": [
       "[0.528791069984436, 0.7952069640159607]"
      ]
     },
     "execution_count": 18,
     "metadata": {},
     "output_type": "execute_result"
    }
   ],
   "source": [
    "vgg19_model.evaluate(train_generator)"
   ]
  },
  {
   "cell_type": "markdown",
   "id": "f47753bf",
   "metadata": {},
   "source": [
    "# Validation accuracy"
   ]
  },
  {
   "cell_type": "code",
   "execution_count": 19,
   "id": "825b5204",
   "metadata": {},
   "outputs": [
    {
     "name": "stdout",
     "output_type": "stream",
     "text": [
      "6/6 [==============================] - 13s 2s/step - loss: 0.9540 - accuracy: 0.6667\n"
     ]
    },
    {
     "data": {
      "text/plain": [
       "[0.9539642333984375, 0.6666666865348816]"
      ]
     },
     "execution_count": 19,
     "metadata": {},
     "output_type": "execute_result"
    }
   ],
   "source": [
    "vgg19_model.evaluate(validation_generator)"
   ]
  },
  {
   "cell_type": "markdown",
   "id": "3fe40e24",
   "metadata": {},
   "source": [
    "# Testing accuracy"
   ]
  },
  {
   "cell_type": "code",
   "execution_count": 20,
   "id": "95416c5e",
   "metadata": {},
   "outputs": [
    {
     "name": "stdout",
     "output_type": "stream",
     "text": [
      "4/4 [==============================] - 8s 2s/step - loss: 0.7393 - accuracy: 0.7170\n"
     ]
    },
    {
     "data": {
      "text/plain": [
       "[0.7392953634262085, 0.7169811129570007]"
      ]
     },
     "execution_count": 20,
     "metadata": {},
     "output_type": "execute_result"
    }
   ],
   "source": [
    "vgg19_model.evaluate(test_generator)"
   ]
  },
  {
   "cell_type": "markdown",
   "id": "726054b2",
   "metadata": {},
   "source": [
    "# Prediction"
   ]
  },
  {
   "cell_type": "code",
   "execution_count": 21,
   "id": "64dc196e",
   "metadata": {},
   "outputs": [
    {
     "name": "stdout",
     "output_type": "stream",
     "text": [
      "4/4 [==============================] - 8s 2s/step\n"
     ]
    },
    {
     "data": {
      "text/plain": [
       "array([[8.27577174e-01, 8.07953125e-04, 1.71608031e-01, 6.70873033e-06,\n",
       "        1.07900632e-07],\n",
       "       [7.08023846e-01, 6.38666039e-04, 1.88040663e-03, 2.89429665e-01,\n",
       "        2.74494087e-05],\n",
       "       [6.44121885e-01, 9.56939608e-02, 1.90014109e-01, 7.00588152e-02,\n",
       "        1.11287482e-04],\n",
       "       [5.22853673e-01, 2.09428463e-02, 2.09968880e-01, 2.44656235e-01,\n",
       "        1.57838291e-03],\n",
       "       [6.61729634e-01, 1.09432675e-01, 1.72265038e-01, 5.64483665e-02,\n",
       "        1.24286875e-04],\n",
       "       [6.52658224e-01, 7.05236495e-02, 2.01636761e-01, 7.49411285e-02,\n",
       "        2.40195135e-04],\n",
       "       [9.97709632e-01, 1.60645595e-05, 3.65088817e-05, 2.23764568e-03,\n",
       "        1.69623618e-07],\n",
       "       [9.38390017e-01, 1.96688299e-04, 6.45281572e-04, 4.24808301e-02,\n",
       "        1.82872415e-02],\n",
       "       [9.82433319e-01, 2.09434972e-07, 5.54995324e-07, 1.69522185e-02,\n",
       "        6.13688549e-04],\n",
       "       [9.64908004e-01, 1.91810133e-04, 1.20801311e-02, 2.27923337e-02,\n",
       "        2.77465788e-05],\n",
       "       [9.88675833e-01, 1.38659336e-04, 8.88235882e-05, 1.10964598e-02,\n",
       "        1.08323562e-07],\n",
       "       [6.65980056e-02, 8.76083672e-01, 5.54891825e-02, 1.64719357e-03,\n",
       "        1.81890748e-04],\n",
       "       [1.48348883e-01, 6.04583085e-01, 4.32532094e-02, 2.01648638e-01,\n",
       "        2.16615153e-03],\n",
       "       [3.71140242e-01, 5.56846976e-01, 6.80555180e-02, 3.94636998e-03,\n",
       "        1.08689746e-05],\n",
       "       [3.64330053e-01, 5.45352995e-01, 7.66673237e-02, 1.34745101e-02,\n",
       "        1.75114939e-04],\n",
       "       [7.05399737e-02, 8.99479926e-01, 2.05303691e-02, 9.44679324e-03,\n",
       "        2.98475175e-06],\n",
       "       [2.76470900e-01, 6.71800911e-01, 3.82619128e-02, 1.34560345e-02,\n",
       "        1.02284657e-05],\n",
       "       [2.03762874e-01, 5.25083067e-03, 4.67685580e-01, 3.22302341e-01,\n",
       "        9.98294563e-04],\n",
       "       [3.36674780e-01, 3.61325711e-01, 2.85733074e-01, 1.62120406e-02,\n",
       "        5.43555907e-05],\n",
       "       [4.78511937e-02, 7.53641129e-01, 9.51893628e-02, 1.03297308e-01,\n",
       "        2.10567232e-05],\n",
       "       [4.69492048e-01, 3.96453589e-01, 9.01408568e-02, 4.39119823e-02,\n",
       "        1.57575755e-06],\n",
       "       [7.67594725e-02, 3.49331677e-01, 2.18310580e-01, 3.55574250e-01,\n",
       "        2.40997251e-05],\n",
       "       [7.73898363e-02, 1.17636159e-01, 7.86795795e-01, 1.81122888e-02,\n",
       "        6.58921417e-05],\n",
       "       [4.38169062e-01, 1.26764119e-01, 2.58984536e-01, 1.75971806e-01,\n",
       "        1.10530724e-04],\n",
       "       [1.67632386e-01, 5.05950749e-01, 3.19607586e-01, 6.78437483e-03,\n",
       "        2.48539527e-05],\n",
       "       [6.91580832e-01, 9.46366936e-02, 4.23471704e-02, 1.71430215e-01,\n",
       "        5.04527861e-06],\n",
       "       [2.64227632e-02, 6.10198639e-02, 7.05059022e-02, 8.42015564e-01,\n",
       "        3.58988000e-05],\n",
       "       [3.43618449e-03, 3.10598910e-01, 7.30754854e-03, 6.78652465e-01,\n",
       "        4.93589096e-06],\n",
       "       [6.10992074e-01, 7.89929703e-02, 2.22970784e-01, 8.68613347e-02,\n",
       "        1.82912641e-04],\n",
       "       [4.56267029e-01, 6.51054904e-02, 3.36472332e-01, 1.41941324e-01,\n",
       "        2.13860374e-04],\n",
       "       [4.51559067e-01, 6.23619044e-03, 1.04641117e-01, 4.37533140e-01,\n",
       "        3.04609403e-05],\n",
       "       [3.92371178e-01, 8.20391998e-02, 3.61580253e-01, 1.63813189e-01,\n",
       "        1.96189867e-04],\n",
       "       [8.50341022e-01, 8.20085686e-03, 1.37569532e-01, 3.76583729e-03,\n",
       "        1.22861413e-04],\n",
       "       [6.56446964e-02, 5.50521165e-02, 1.18953496e-01, 7.60010540e-01,\n",
       "        3.39159305e-04],\n",
       "       [1.41395852e-01, 6.82869479e-02, 3.34049761e-03, 7.86976099e-01,\n",
       "        6.91787648e-07],\n",
       "       [4.54427768e-03, 1.97629306e-05, 7.82566890e-03, 9.87606823e-01,\n",
       "        3.47007199e-06],\n",
       "       [3.20990128e-03, 1.29944856e-05, 2.12767464e-03, 9.94630575e-01,\n",
       "        1.87754795e-05],\n",
       "       [3.14247280e-01, 3.67563628e-02, 2.03459684e-04, 6.48791671e-01,\n",
       "        1.17779371e-06],\n",
       "       [5.26390977e-06, 2.45553165e-05, 7.67333461e-07, 9.99969363e-01,\n",
       "        2.08576889e-08],\n",
       "       [1.27344087e-01, 1.39738680e-04, 1.79084396e-04, 8.72320056e-01,\n",
       "        1.70571966e-05],\n",
       "       [7.59445177e-03, 6.49253388e-06, 1.98223861e-03, 9.90414977e-01,\n",
       "        1.77635866e-06],\n",
       "       [8.82002932e-05, 2.19254343e-05, 1.11106492e-04, 9.99775946e-01,\n",
       "        2.89320360e-06],\n",
       "       [1.44666771e-07, 7.32109839e-08, 4.55050497e-10, 9.99999762e-01,\n",
       "        1.54712314e-08],\n",
       "       [3.65930170e-01, 3.11959475e-01, 7.22452998e-02, 2.49832690e-01,\n",
       "        3.23800305e-05],\n",
       "       [4.43218096e-06, 2.37643928e-03, 7.91830011e-03, 9.89699781e-01,\n",
       "        1.17350316e-06],\n",
       "       [2.11286436e-27, 1.14295958e-23, 2.12282685e-26, 5.49673561e-16,\n",
       "        1.00000000e+00],\n",
       "       [8.55986809e-12, 3.46314665e-12, 3.10498871e-09, 7.37615437e-12,\n",
       "        1.00000000e+00],\n",
       "       [1.13052437e-13, 1.86491808e-10, 2.61508509e-10, 9.14177036e-08,\n",
       "        9.99999881e-01],\n",
       "       [1.05042339e-07, 1.17458799e-03, 2.97339420e-06, 9.15345922e-03,\n",
       "        9.89668906e-01],\n",
       "       [2.84254601e-14, 3.04652543e-14, 3.71256059e-13, 3.91285648e-05,\n",
       "        9.99960899e-01],\n",
       "       [2.68349297e-12, 7.41656250e-11, 1.42769463e-13, 1.73608822e-10,\n",
       "        1.00000000e+00],\n",
       "       [1.09222083e-26, 5.23754820e-22, 1.62829474e-23, 7.32012395e-15,\n",
       "        1.00000000e+00],\n",
       "       [4.23539115e-09, 5.39983502e-10, 9.04180197e-09, 5.03146339e-06,\n",
       "        9.99994993e-01]], dtype=float32)"
      ]
     },
     "execution_count": 21,
     "metadata": {},
     "output_type": "execute_result"
    }
   ],
   "source": [
    "predictions=vgg19_model.predict(test_generator)\n",
    "predictions"
   ]
  },
  {
   "cell_type": "code",
   "execution_count": 22,
   "id": "828c28ee",
   "metadata": {},
   "outputs": [
    {
     "data": {
      "text/plain": [
       "1"
      ]
     },
     "execution_count": 22,
     "metadata": {},
     "output_type": "execute_result"
    }
   ],
   "source": [
    "np.argmax(predictions[19])"
   ]
  },
  {
   "cell_type": "code",
   "execution_count": 23,
   "id": "afd6b9f8",
   "metadata": {},
   "outputs": [
    {
     "data": {
      "image/png": "[encoded data removed]",
      "text/plain": [
       "<Figure size 432x288 with 1 Axes>"
      ]
     },
     "metadata": {
      "needs_background": "light"
     },
     "output_type": "display_data"
    },
    {
     "data": {
      "image/png": "[encoded data removed]",
      "text/plain": [
       "<Figure size 432x288 with 1 Axes>"
      ]
     },
     "metadata": {
      "needs_background": "light"
     },
     "output_type": "display_data"
    },
    {
     "data": {
      "text/plain": [
       "<Figure size 432x288 with 0 Axes>"
      ]
     },
     "metadata": {},
     "output_type": "display_data"
    }
   ],
   "source": [
    "import matplotlib.pyplot as plt\n",
    "plt.plot(vgg19_training.history['loss'], label='train loss',color='r')\n",
    "plt.plot(vgg19_training.history['val_loss'], label='val loss',color='r',linestyle='--',)\n",
    "plt.legend()\n",
    "plt.xlabel('epochs')\n",
    "plt.ylabel('loss')\n",
    "plt.show()\n",
    "plt.savefig('LossVal_loss')\n",
    "\n",
    "# plot the accuracy\n",
    "plt.plot(vgg19_training.history['accuracy'], label='train acc',color='g')\n",
    "plt.plot(vgg19_training.history['val_accuracy'], label='val acc',color='g',linestyle='--')\n",
    "plt.legend()\n",
    "plt.xlabel('epochs')\n",
    "plt.ylabel('accuracy')\n",
    "plt.show()\n",
    "plt.savefig('AccVal_acc')"
   ]
  },
  {
   "cell_type": "code",
   "execution_count": 24,
   "id": "333a3552",
   "metadata": {},
   "outputs": [
    {
     "name": "stdout",
     "output_type": "stream",
     "text": [
      "Training Accuracy VGG    : 0.765237033367157\n",
      "Training Loss VGG        : 0.5847198367118835\n",
      "Validation Accuracy VGG  : 0.637499988079071\n",
      "Validation Loss VGG      : 1.012131929397583\n"
     ]
    }
   ],
   "source": [
    "training_accuracy_vgg19      = vgg19_training.history['accuracy'][-1]\n",
    "training_loss_vgg19          = vgg19_training.history['loss'][-1]\n",
    "validation_accuracy_vgg19    = vgg19_training.history['val_accuracy'][-1]\n",
    "validation_loss_vgg19        = vgg19_training.history['val_loss'][-1]\n",
    "print(\"Training Accuracy VGG    :\", training_accuracy_vgg19 )\n",
    "print(\"Training Loss VGG        :\", training_loss_vgg19)\n",
    "print(\"Validation Accuracy VGG  :\", validation_accuracy_vgg19)\n",
    "print(\"Validation Loss VGG      :\", validation_loss_vgg19)"
   ]
  },
  {
   "cell_type": "code",
   "execution_count": 25,
   "id": "b388b9b6",
   "metadata": {},
   "outputs": [
    {
     "name": "stdout",
     "output_type": "stream",
     "text": [
      "Catla\n",
      "Mrigal\n",
      "Rohu\n",
      "Tilapia\n",
      "Tuna\n"
     ]
    }
   ],
   "source": [
    "for validation_dataset in os.listdir(train):\n",
    "    print(validation_dataset)"
   ]
  },
  {
   "cell_type": "code",
   "execution_count": 26,
   "id": "dd2be653",
   "metadata": {},
   "outputs": [
    {
     "name": "stdout",
     "output_type": "stream",
     "text": [
      "WARNING:tensorflow:Your input ran out of data; interrupting training. Make sure that your dataset or generator can generate at least `steps_per_epoch * epochs` batches (in this case, 6 batches). You may need to use the repeat() function when building your dataset.\n",
      "Confusion Matrix\n",
      "[[11  0  0  0  0]\n",
      " [ 1  8  2  1  0]\n",
      " [ 7  1  0  2  0]\n",
      " [ 1  0  0 11  0]\n",
      " [ 0  0  0  0  8]]\n",
      "=============================================================================================\n",
      "Classification Report\n",
      "              precision    recall  f1-score   support\n",
      "\n",
      "       Catla       0.55      1.00      0.71        11\n",
      "      Mrigal       0.89      0.67      0.76        12\n",
      "        Rohu       0.00      0.00      0.00        10\n",
      "     Tilapia       0.79      0.92      0.85        12\n",
      "        Tuna       1.00      1.00      1.00         8\n",
      "\n",
      "    accuracy                           0.72        53\n",
      "   macro avg       0.64      0.72      0.66        53\n",
      "weighted avg       0.64      0.72      0.66        53\n",
      "\n"
     ]
    }
   ],
   "source": [
    "# Generating Confusion Matrix and Classification Report\n",
    "Y_pred_vgg19 = vgg19_model.predict_generator(test_generator, num_of_validation_samples // batch_size+1)\n",
    "y_pred_vgg19 = np.argmax(Y_pred_vgg19, axis=1)\n",
    "print('Confusion Matrix')\n",
    "conf_matrix_vgg19 = confusion_matrix(test_generator.classes, y_pred_vgg19)\n",
    "cm_vgg19 = np.array2string(conf_matrix_vgg19)\n",
    "print(conf_matrix_vgg19)\n",
    "print(\"=============================================================================================\")\n",
    "print('Classification Report')\n",
    "target_names = ['Catla','Mrigal','Rohu','Tilapia','Tuna']\n",
    "class_rep_vgg19 = classification_report(test_generator.classes, y_pred_vgg19, target_names=target_names)\n",
    "print(class_rep_vgg19)"
   ]
  },
  {
   "cell_type": "code",
   "execution_count": 27,
   "id": "70252cf1",
   "metadata": {},
   "outputs": [
    {
     "data": {
      "image/png": "[encoded data removed]",
      "text/plain": [
       "<Figure size 432x288 with 2 Axes>"
      ]
     },
     "metadata": {
      "needs_background": "light"
     },
     "output_type": "display_data"
    }
   ],
   "source": [
    "# import matplotlib.pyplot as plt\n",
    "disp=ConfusionMatrixDisplay(conf_matrix_vgg19,display_labels=target_names)\n",
    "disp.plot()\n",
    "plt.show()"
   ]
  },
  {
   "cell_type": "code",
   "execution_count": 28,
   "id": "b8dd27d7",
   "metadata": {},
   "outputs": [
    {
     "data": {
      "image/png": "[encoded data removed]",
      "text/plain": [
       "<Figure size 576x432 with 2 Axes>"
      ]
     },
     "metadata": {
      "needs_background": "light"
     },
     "output_type": "display_data"
    }
   ],
   "source": [
    "import seaborn as sns\n",
    "plt.figure(figsize=(8,6))\n",
    "sns.heatmap(conf_matrix_vgg19 , annot=True, cmap='ocean',xticklabels=target_names,yticklabels=target_names)\n",
    "plt.show()"
   ]
  },
  {
   "cell_type": "code",
   "execution_count": null,
   "id": "06581b3e",
   "metadata": {},
   "outputs": [],
   "source": []
  },
  {
   "cell_type": "code",
   "execution_count": null,
   "id": "007ec27c",
   "metadata": {},
   "outputs": [],
   "source": []
  }
 ],
 "metadata": {
  "kernelspec": {
   "display_name": "Python 3 (ipykernel)",
   "language": "python",
   "name": "python3"
  },
  "language_info": {
   "codemirror_mode": {
    "name": "ipython",
    "version": 3
   },
   "file_extension": ".py",
   "mimetype": "text/x-python",
   "name": "python",
   "nbconvert_exporter": "python",
   "pygments_lexer": "ipython3",
   "version": "3.9.12"
  }
 },
 "nbformat": 4,
 "nbformat_minor": 5
}
